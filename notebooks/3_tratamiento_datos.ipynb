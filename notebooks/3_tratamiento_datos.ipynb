{
 "cells": [
  {
   "attachments": {},
   "cell_type": "markdown",
   "metadata": {},
   "source": [
    "# PROYECTO 2. RKG (RESTART KERNEL GIRLS)\n",
    "---"
   ]
  },
  {
   "cell_type": "code",
   "execution_count": 1,
   "metadata": {},
   "outputs": [],
   "source": [
    "import pandas as pd\n",
    "import numpy as np\n",
    "import matplotlib.pyplot as plt\n",
    "import seaborn as sns\n",
    "import re\n",
    "import sys\n",
    "\n",
    "sys.path.append('../')\n",
    "from src import soporte_variables as spv\n",
    "from src import soporte_funciones as spf\n",
    "\n",
    "pd.options.display.max_columns = None"
   ]
  },
  {
   "attachments": {},
   "cell_type": "markdown",
   "metadata": {},
   "source": [
    "## TRATAMIENTO Y LIMPIEZA DE LOS DATOS A ESTUDIAR"
   ]
  },
  {
   "attachments": {},
   "cell_type": "markdown",
   "metadata": {},
   "source": [
    "## 1. Unión de las preguntas separadas en varias columnas (q10, q39)"
   ]
  },
  {
   "cell_type": "code",
   "execution_count": 2,
   "metadata": {},
   "outputs": [
    {
     "data": {
      "text/html": [
       "<div>\n",
       "<style scoped>\n",
       "    .dataframe tbody tr th:only-of-type {\n",
       "        vertical-align: middle;\n",
       "    }\n",
       "\n",
       "    .dataframe tbody tr th {\n",
       "        vertical-align: top;\n",
       "    }\n",
       "\n",
       "    .dataframe thead th {\n",
       "        text-align: right;\n",
       "    }\n",
       "</style>\n",
       "<table border=\"1\" class=\"dataframe\">\n",
       "  <thead>\n",
       "    <tr style=\"text-align: right;\">\n",
       "      <th></th>\n",
       "      <th>index</th>\n",
       "      <th>age</th>\n",
       "      <th>gender</th>\n",
       "      <th>q3</th>\n",
       "      <th>q4</th>\n",
       "      <th>q6</th>\n",
       "      <th>q7</th>\n",
       "      <th>q8</th>\n",
       "      <th>q9</th>\n",
       "      <th>q10_part_1</th>\n",
       "      <th>q10_part_2</th>\n",
       "      <th>q10_part_3</th>\n",
       "      <th>q10_part_4</th>\n",
       "      <th>q10_part_5</th>\n",
       "      <th>q10_part_6</th>\n",
       "      <th>q10_part_7</th>\n",
       "      <th>q10_part_8</th>\n",
       "      <th>q10_part_9</th>\n",
       "      <th>q10_part_10</th>\n",
       "      <th>q10_part_11</th>\n",
       "      <th>q10_part_12</th>\n",
       "      <th>q10_part_13</th>\n",
       "      <th>q10_part_14</th>\n",
       "      <th>q10_part_15</th>\n",
       "      <th>q10_part_16</th>\n",
       "      <th>q10_other</th>\n",
       "      <th>q14</th>\n",
       "      <th>q20</th>\n",
       "      <th>q21</th>\n",
       "      <th>q22</th>\n",
       "      <th>q24</th>\n",
       "      <th>q34</th>\n",
       "      <th>q35</th>\n",
       "      <th>q39_part_1</th>\n",
       "      <th>q39_part_2</th>\n",
       "      <th>q39_part_3</th>\n",
       "      <th>q39_part_4</th>\n",
       "      <th>q39_part_5</th>\n",
       "      <th>q39_part_6</th>\n",
       "      <th>q39_part_7</th>\n",
       "      <th>q39_part_8</th>\n",
       "      <th>q39_part_9</th>\n",
       "      <th>q39_other</th>\n",
       "      <th>q41</th>\n",
       "    </tr>\n",
       "  </thead>\n",
       "  <tbody>\n",
       "    <tr>\n",
       "      <th>707</th>\n",
       "      <td>8056</td>\n",
       "      <td>22-24</td>\n",
       "      <td>Man</td>\n",
       "      <td>China</td>\n",
       "      <td>Master’s degree</td>\n",
       "      <td>&lt; 1 years</td>\n",
       "      <td>Python, SQL</td>\n",
       "      <td>Python</td>\n",
       "      <td>None</td>\n",
       "      <td>NaN</td>\n",
       "      <td>NaN</td>\n",
       "      <td>NaN</td>\n",
       "      <td>NaN</td>\n",
       "      <td>NaN</td>\n",
       "      <td>NaN</td>\n",
       "      <td>NaN</td>\n",
       "      <td>NaN</td>\n",
       "      <td>NaN</td>\n",
       "      <td>NaN</td>\n",
       "      <td>NaN</td>\n",
       "      <td>NaN</td>\n",
       "      <td>NaN</td>\n",
       "      <td>NaN</td>\n",
       "      <td>NaN</td>\n",
       "      <td>NaN</td>\n",
       "      <td>NaN</td>\n",
       "      <td>Other</td>\n",
       "      <td>Online Service/Internet-based Services</td>\n",
       "      <td>0-49 employees</td>\n",
       "      <td>3-4</td>\n",
       "      <td>Analyze and understand data to influence produ...</td>\n",
       "      <td>Tableau</td>\n",
       "      <td>NaN</td>\n",
       "      <td>NaN</td>\n",
       "      <td>NaN</td>\n",
       "      <td>NaN</td>\n",
       "      <td>NaN</td>\n",
       "      <td>Personal blog</td>\n",
       "      <td>NaN</td>\n",
       "      <td>NaN</td>\n",
       "      <td>NaN</td>\n",
       "      <td>NaN</td>\n",
       "      <td>NaN</td>\n",
       "      <td>Business intelligence software (Salesforce, Ta...</td>\n",
       "    </tr>\n",
       "    <tr>\n",
       "      <th>1424</th>\n",
       "      <td>15770</td>\n",
       "      <td>30-34</td>\n",
       "      <td>Man</td>\n",
       "      <td>Russia</td>\n",
       "      <td>Master’s degree</td>\n",
       "      <td>3-5 years</td>\n",
       "      <td>Python, SQL, Other</td>\n",
       "      <td>SQL</td>\n",
       "      <td>Notepad++,Jupyter Notebook</td>\n",
       "      <td>NaN</td>\n",
       "      <td>NaN</td>\n",
       "      <td>NaN</td>\n",
       "      <td>NaN</td>\n",
       "      <td>NaN</td>\n",
       "      <td>NaN</td>\n",
       "      <td>NaN</td>\n",
       "      <td>NaN</td>\n",
       "      <td>NaN</td>\n",
       "      <td>NaN</td>\n",
       "      <td>NaN</td>\n",
       "      <td>NaN</td>\n",
       "      <td>NaN</td>\n",
       "      <td>NaN</td>\n",
       "      <td>NaN</td>\n",
       "      <td>NaN</td>\n",
       "      <td>NaN</td>\n",
       "      <td>Other</td>\n",
       "      <td>Retail/Sales</td>\n",
       "      <td>250-999 employees</td>\n",
       "      <td>5-9</td>\n",
       "      <td>Analyze and understand data to influence produ...</td>\n",
       "      <td>Microsoft Power BI, Tableau, SAP Analytics Cl...</td>\n",
       "      <td>Tableau</td>\n",
       "      <td>NaN</td>\n",
       "      <td>NaN</td>\n",
       "      <td>NaN</td>\n",
       "      <td>NaN</td>\n",
       "      <td>NaN</td>\n",
       "      <td>NaN</td>\n",
       "      <td>NaN</td>\n",
       "      <td>NaN</td>\n",
       "      <td>I do not share my work publicly</td>\n",
       "      <td>NaN</td>\n",
       "      <td>Business intelligence software (Salesforce, Ta...</td>\n",
       "    </tr>\n",
       "  </tbody>\n",
       "</table>\n",
       "</div>"
      ],
      "text/plain": [
       "      index    age gender      q3               q4         q6   \n",
       "707    8056  22-24    Man   China  Master’s degree  < 1 years  \\\n",
       "1424  15770  30-34    Man  Russia  Master’s degree  3-5 years   \n",
       "\n",
       "                      q7      q8                           q9 q10_part_1   \n",
       "707          Python, SQL  Python                         None        NaN  \\\n",
       "1424  Python, SQL, Other     SQL   Notepad++,Jupyter Notebook        NaN   \n",
       "\n",
       "     q10_part_2 q10_part_3 q10_part_4 q10_part_5 q10_part_6 q10_part_7   \n",
       "707         NaN        NaN        NaN        NaN        NaN        NaN  \\\n",
       "1424        NaN        NaN        NaN        NaN        NaN        NaN   \n",
       "\n",
       "     q10_part_8 q10_part_9 q10_part_10 q10_part_11 q10_part_12 q10_part_13   \n",
       "707         NaN        NaN         NaN         NaN         NaN         NaN  \\\n",
       "1424        NaN        NaN         NaN         NaN         NaN         NaN   \n",
       "\n",
       "     q10_part_14 q10_part_15  q10_part_16 q10_other     q14   \n",
       "707          NaN         NaN          NaN       NaN   Other  \\\n",
       "1424         NaN         NaN          NaN       NaN   Other   \n",
       "\n",
       "                                         q20                q21  q22   \n",
       "707   Online Service/Internet-based Services     0-49 employees  3-4  \\\n",
       "1424                            Retail/Sales  250-999 employees  5-9   \n",
       "\n",
       "                                                    q24   \n",
       "707   Analyze and understand data to influence produ...  \\\n",
       "1424  Analyze and understand data to influence produ...   \n",
       "\n",
       "                                                    q34      q35 q39_part_1   \n",
       "707                                             Tableau      NaN        NaN  \\\n",
       "1424   Microsoft Power BI, Tableau, SAP Analytics Cl...  Tableau        NaN   \n",
       "\n",
       "     q39_part_2 q39_part_3 q39_part_4       q39_part_5 q39_part_6 q39_part_7   \n",
       "707         NaN        NaN        NaN   Personal blog         NaN        NaN  \\\n",
       "1424        NaN        NaN        NaN              NaN        NaN        NaN   \n",
       "\n",
       "     q39_part_8                       q39_part_9 q39_other   \n",
       "707         NaN                              NaN       NaN  \\\n",
       "1424        NaN  I do not share my work publicly       NaN   \n",
       "\n",
       "                                                    q41  \n",
       "707   Business intelligence software (Salesforce, Ta...  \n",
       "1424  Business intelligence software (Salesforce, Ta...  "
      ]
     },
     "execution_count": 2,
     "metadata": {},
     "output_type": "execute_result"
    }
   ],
   "source": [
    "# abrimos el .csv con los datos de Data Analyst para las preguntas relevantes seleccionadas\n",
    "df = pd.read_csv('../resultados/df_da_relevante.csv', index_col = 0)\n",
    "df = df.reset_index()\n",
    "df.sample(2)"
   ]
  },
  {
   "cell_type": "code",
   "execution_count": 3,
   "metadata": {},
   "outputs": [
    {
     "data": {
      "text/html": [
       "<div>\n",
       "<style scoped>\n",
       "    .dataframe tbody tr th:only-of-type {\n",
       "        vertical-align: middle;\n",
       "    }\n",
       "\n",
       "    .dataframe tbody tr th {\n",
       "        vertical-align: top;\n",
       "    }\n",
       "\n",
       "    .dataframe thead th {\n",
       "        text-align: right;\n",
       "    }\n",
       "</style>\n",
       "<table border=\"1\" class=\"dataframe\">\n",
       "  <thead>\n",
       "    <tr style=\"text-align: right;\">\n",
       "      <th></th>\n",
       "      <th>0</th>\n",
       "      <th>1</th>\n",
       "      <th>2</th>\n",
       "      <th>3</th>\n",
       "      <th>4</th>\n",
       "      <th>5</th>\n",
       "      <th>6</th>\n",
       "      <th>7</th>\n",
       "      <th>8</th>\n",
       "      <th>9</th>\n",
       "      <th>10</th>\n",
       "      <th>11</th>\n",
       "      <th>12</th>\n",
       "      <th>13</th>\n",
       "      <th>14</th>\n",
       "      <th>15</th>\n",
       "      <th>16</th>\n",
       "      <th>17</th>\n",
       "      <th>18</th>\n",
       "      <th>19</th>\n",
       "      <th>20</th>\n",
       "      <th>21</th>\n",
       "      <th>22</th>\n",
       "      <th>23</th>\n",
       "      <th>24</th>\n",
       "      <th>25</th>\n",
       "      <th>26</th>\n",
       "      <th>27</th>\n",
       "      <th>28</th>\n",
       "      <th>29</th>\n",
       "      <th>30</th>\n",
       "      <th>31</th>\n",
       "      <th>32</th>\n",
       "      <th>33</th>\n",
       "      <th>34</th>\n",
       "      <th>35</th>\n",
       "      <th>36</th>\n",
       "      <th>37</th>\n",
       "      <th>38</th>\n",
       "      <th>39</th>\n",
       "      <th>40</th>\n",
       "      <th>41</th>\n",
       "      <th>42</th>\n",
       "      <th>43</th>\n",
       "    </tr>\n",
       "  </thead>\n",
       "  <tbody>\n",
       "    <tr>\n",
       "      <th>index</th>\n",
       "      <td>index</td>\n",
       "      <td>age</td>\n",
       "      <td>gender</td>\n",
       "      <td>q3</td>\n",
       "      <td>q4</td>\n",
       "      <td>q6</td>\n",
       "      <td>q7</td>\n",
       "      <td>q8</td>\n",
       "      <td>q9</td>\n",
       "      <td>q10_part_1</td>\n",
       "      <td>q10_part_2</td>\n",
       "      <td>q10_part_3</td>\n",
       "      <td>q10_part_4</td>\n",
       "      <td>q10_part_5</td>\n",
       "      <td>q10_part_6</td>\n",
       "      <td>q10_part_7</td>\n",
       "      <td>q10_part_8</td>\n",
       "      <td>q10_part_9</td>\n",
       "      <td>q10_part_10</td>\n",
       "      <td>q10_part_11</td>\n",
       "      <td>q10_part_12</td>\n",
       "      <td>q10_part_13</td>\n",
       "      <td>q10_part_14</td>\n",
       "      <td>q10_part_15</td>\n",
       "      <td>q10_part_16</td>\n",
       "      <td>q10_other</td>\n",
       "      <td>q14</td>\n",
       "      <td>q20</td>\n",
       "      <td>q21</td>\n",
       "      <td>q22</td>\n",
       "      <td>q24</td>\n",
       "      <td>q34</td>\n",
       "      <td>q35</td>\n",
       "      <td>q39_part_1</td>\n",
       "      <td>q39_part_2</td>\n",
       "      <td>q39_part_3</td>\n",
       "      <td>q39_part_4</td>\n",
       "      <td>q39_part_5</td>\n",
       "      <td>q39_part_6</td>\n",
       "      <td>q39_part_7</td>\n",
       "      <td>q39_part_8</td>\n",
       "      <td>q39_part_9</td>\n",
       "      <td>q39_other</td>\n",
       "      <td>q41</td>\n",
       "    </tr>\n",
       "    <tr>\n",
       "      <th>0</th>\n",
       "      <td>0</td>\n",
       "      <td>0</td>\n",
       "      <td>0</td>\n",
       "      <td>0</td>\n",
       "      <td>0</td>\n",
       "      <td>0</td>\n",
       "      <td>143</td>\n",
       "      <td>154</td>\n",
       "      <td>146</td>\n",
       "      <td>1508</td>\n",
       "      <td>1639</td>\n",
       "      <td>2191</td>\n",
       "      <td>2287</td>\n",
       "      <td>2124</td>\n",
       "      <td>2286</td>\n",
       "      <td>2204</td>\n",
       "      <td>2250</td>\n",
       "      <td>2267</td>\n",
       "      <td>2132</td>\n",
       "      <td>2114</td>\n",
       "      <td>2231</td>\n",
       "      <td>2281</td>\n",
       "      <td>2280</td>\n",
       "      <td>2276</td>\n",
       "      <td>2301</td>\n",
       "      <td>2206</td>\n",
       "      <td>193</td>\n",
       "      <td>114</td>\n",
       "      <td>130</td>\n",
       "      <td>150</td>\n",
       "      <td>227</td>\n",
       "      <td>1069</td>\n",
       "      <td>1858</td>\n",
       "      <td>2266</td>\n",
       "      <td>2252</td>\n",
       "      <td>2278</td>\n",
       "      <td>1739</td>\n",
       "      <td>2208</td>\n",
       "      <td>1863</td>\n",
       "      <td>2104</td>\n",
       "      <td>2251</td>\n",
       "      <td>1884</td>\n",
       "      <td>2253</td>\n",
       "      <td>533</td>\n",
       "    </tr>\n",
       "  </tbody>\n",
       "</table>\n",
       "</div>"
      ],
      "text/plain": [
       "          0    1       2   3   4   5    6    7    8           9           10   \n",
       "index  index  age  gender  q3  q4  q6   q7   q8   q9  q10_part_1  q10_part_2  \\\n",
       "0          0    0       0   0   0   0  143  154  146        1508        1639   \n",
       "\n",
       "               11          12          13          14          15          16   \n",
       "index  q10_part_3  q10_part_4  q10_part_5  q10_part_6  q10_part_7  q10_part_8  \\\n",
       "0            2191        2287        2124        2286        2204        2250   \n",
       "\n",
       "               17           18           19           20           21   \n",
       "index  q10_part_9  q10_part_10  q10_part_11  q10_part_12  q10_part_13  \\\n",
       "0            2267         2132         2114         2231         2281   \n",
       "\n",
       "                22           23           24         25   26   27   28   29   \n",
       "index  q10_part_14  q10_part_15  q10_part_16  q10_other  q14  q20  q21  q22  \\\n",
       "0             2280         2276         2301       2206  193  114  130  150   \n",
       "\n",
       "        30    31    32          33          34          35          36   \n",
       "index  q24   q34   q35  q39_part_1  q39_part_2  q39_part_3  q39_part_4  \\\n",
       "0      227  1069  1858        2266        2252        2278        1739   \n",
       "\n",
       "               37          38          39          40          41         42   \n",
       "index  q39_part_5  q39_part_6  q39_part_7  q39_part_8  q39_part_9  q39_other  \\\n",
       "0            2208        1863        2104        2251        1884       2253   \n",
       "\n",
       "        43  \n",
       "index  q41  \n",
       "0      533  "
      ]
     },
     "execution_count": 3,
     "metadata": {},
     "output_type": "execute_result"
    }
   ],
   "source": [
    "# sacamos los nulos para monitorearlos a lo largo del proceso\n",
    "df.isnull().sum().reset_index().T"
   ]
  },
  {
   "cell_type": "code",
   "execution_count": 4,
   "metadata": {},
   "outputs": [
    {
     "data": {
      "text/plain": [
       "['Kaggle Notebooks,Colab Notebooks,Databricks Collaborative Notebooks',\n",
       " 'Google Cloud Datalab',\n",
       " 'Kaggle Notebooks,Colab Notebooks',\n",
       " 'Kaggle Notebooks,Azure Notebooks',\n",
       " 'IBM Watson Studio']"
      ]
     },
     "execution_count": 4,
     "metadata": {},
     "output_type": "execute_result"
    }
   ],
   "source": [
    "# creamos una lista con las respuestas de la q10 unificadas\n",
    "lista_futura_q10 = []\n",
    "\n",
    "for indice, row in df.iterrows():\n",
    "    #print(indice, row.index)\n",
    "    valor = \"\"\n",
    "    for i in row.index:\n",
    "        if \"q10\" in i:\n",
    "            if type(row[i]) != float:\n",
    "                row[i] = row[i].strip()\n",
    "                valor += row[i] + \",\"\n",
    "                if valor == \",\":\n",
    "                    valor = ''\n",
    "    if valor == '':\n",
    "        valor = np.nan\n",
    "    try:\n",
    "        lista_futura_q10.append(valor.strip(','))\n",
    "    except:\n",
    "        lista_futura_q10.append(valor)\n",
    "lista_futura_q10[:5]"
   ]
  },
  {
   "cell_type": "code",
   "execution_count": 5,
   "metadata": {},
   "outputs": [
    {
     "data": {
      "text/plain": [
       "[nan,\n",
       " nan,\n",
       " 'I do not share my work publicly',\n",
       " nan,\n",
       " 'I do not share my work publicly']"
      ]
     },
     "execution_count": 5,
     "metadata": {},
     "output_type": "execute_result"
    }
   ],
   "source": [
    "# creamos una lista con las respuestas de la q39 unificadas\n",
    "lista_futura_q39 = []\n",
    "\n",
    "for indice, row in df.iterrows():\n",
    "    #print(indice, row.index)\n",
    "    valor = \"\"\n",
    "    for i in row.index:\n",
    "        if \"q39\" in i:\n",
    "            if type(row[i]) != float:\n",
    "                row[i] = row[i].strip()\n",
    "                valor += row[i] + \",\"\n",
    "                if valor == \",\":\n",
    "                    valor = ''\n",
    "    if valor == '':\n",
    "        valor = np.nan\n",
    "    try:\n",
    "        lista_futura_q39.append(valor.strip(','))\n",
    "    except:\n",
    "        lista_futura_q39.append(valor)\n",
    "lista_futura_q39[:5]"
   ]
  },
  {
   "cell_type": "code",
   "execution_count": 6,
   "metadata": {},
   "outputs": [
    {
     "data": {
      "text/html": [
       "<div>\n",
       "<style scoped>\n",
       "    .dataframe tbody tr th:only-of-type {\n",
       "        vertical-align: middle;\n",
       "    }\n",
       "\n",
       "    .dataframe tbody tr th {\n",
       "        vertical-align: top;\n",
       "    }\n",
       "\n",
       "    .dataframe thead th {\n",
       "        text-align: right;\n",
       "    }\n",
       "</style>\n",
       "<table border=\"1\" class=\"dataframe\">\n",
       "  <thead>\n",
       "    <tr style=\"text-align: right;\">\n",
       "      <th></th>\n",
       "      <th>index</th>\n",
       "      <th>age</th>\n",
       "      <th>gender</th>\n",
       "      <th>q3</th>\n",
       "      <th>q4</th>\n",
       "      <th>q6</th>\n",
       "      <th>q7</th>\n",
       "      <th>q8</th>\n",
       "      <th>q9</th>\n",
       "      <th>q10_part_1</th>\n",
       "      <th>q10_part_2</th>\n",
       "      <th>q10_part_3</th>\n",
       "      <th>q10_part_4</th>\n",
       "      <th>q10_part_5</th>\n",
       "      <th>q10_part_6</th>\n",
       "      <th>q10_part_7</th>\n",
       "      <th>q10_part_8</th>\n",
       "      <th>q10_part_9</th>\n",
       "      <th>q10_part_10</th>\n",
       "      <th>q10_part_11</th>\n",
       "      <th>q10_part_12</th>\n",
       "      <th>q10_part_13</th>\n",
       "      <th>q10_part_14</th>\n",
       "      <th>q10_part_15</th>\n",
       "      <th>q10_part_16</th>\n",
       "      <th>q10_other</th>\n",
       "      <th>q14</th>\n",
       "      <th>q20</th>\n",
       "      <th>q21</th>\n",
       "      <th>q22</th>\n",
       "      <th>q24</th>\n",
       "      <th>q34</th>\n",
       "      <th>q35</th>\n",
       "      <th>q39_part_1</th>\n",
       "      <th>q39_part_2</th>\n",
       "      <th>q39_part_3</th>\n",
       "      <th>q39_part_4</th>\n",
       "      <th>q39_part_5</th>\n",
       "      <th>q39_part_6</th>\n",
       "      <th>q39_part_7</th>\n",
       "      <th>q39_part_8</th>\n",
       "      <th>q39_part_9</th>\n",
       "      <th>q39_other</th>\n",
       "      <th>q41</th>\n",
       "      <th>q10</th>\n",
       "      <th>q39</th>\n",
       "    </tr>\n",
       "  </thead>\n",
       "  <tbody>\n",
       "    <tr>\n",
       "      <th>0</th>\n",
       "      <td>16</td>\n",
       "      <td>50-54</td>\n",
       "      <td>Man</td>\n",
       "      <td>Belgium</td>\n",
       "      <td>Bachelor’s degree</td>\n",
       "      <td>20+ years</td>\n",
       "      <td>Python, SQL</td>\n",
       "      <td>Python</td>\n",
       "      <td>Jupyter (JupyterLab, Jupyter Notebooks, etc) ,...</td>\n",
       "      <td>Kaggle Notebooks</td>\n",
       "      <td>Colab Notebooks</td>\n",
       "      <td>NaN</td>\n",
       "      <td>NaN</td>\n",
       "      <td>NaN</td>\n",
       "      <td>NaN</td>\n",
       "      <td>NaN</td>\n",
       "      <td>NaN</td>\n",
       "      <td>NaN</td>\n",
       "      <td>NaN</td>\n",
       "      <td>NaN</td>\n",
       "      <td>Databricks Collaborative Notebooks</td>\n",
       "      <td>NaN</td>\n",
       "      <td>NaN</td>\n",
       "      <td>NaN</td>\n",
       "      <td>NaN</td>\n",
       "      <td>NaN</td>\n",
       "      <td>Matplotlib ,Seaborn ,Plotly / Plotly Express</td>\n",
       "      <td>Energy/Mining</td>\n",
       "      <td>1000-9,999 employees</td>\n",
       "      <td>5-9</td>\n",
       "      <td>Analyze and understand data to influence produ...</td>\n",
       "      <td>NaN</td>\n",
       "      <td>NaN</td>\n",
       "      <td>NaN</td>\n",
       "      <td>NaN</td>\n",
       "      <td>NaN</td>\n",
       "      <td>NaN</td>\n",
       "      <td>NaN</td>\n",
       "      <td>NaN</td>\n",
       "      <td>NaN</td>\n",
       "      <td>NaN</td>\n",
       "      <td>NaN</td>\n",
       "      <td>NaN</td>\n",
       "      <td>Local development environments (RStudio, Jupyt...</td>\n",
       "      <td>Kaggle Notebooks,Colab Notebooks,Databricks Co...</td>\n",
       "      <td>NaN</td>\n",
       "    </tr>\n",
       "    <tr>\n",
       "      <th>1</th>\n",
       "      <td>32</td>\n",
       "      <td>22-24</td>\n",
       "      <td>Nonbinary</td>\n",
       "      <td>United States of America</td>\n",
       "      <td>Some college/university study without earning ...</td>\n",
       "      <td>&lt; 1 years</td>\n",
       "      <td>R</td>\n",
       "      <td>R</td>\n",
       "      <td>RStudio</td>\n",
       "      <td>NaN</td>\n",
       "      <td>NaN</td>\n",
       "      <td>NaN</td>\n",
       "      <td>NaN</td>\n",
       "      <td>NaN</td>\n",
       "      <td>NaN</td>\n",
       "      <td>NaN</td>\n",
       "      <td>NaN</td>\n",
       "      <td>NaN</td>\n",
       "      <td>NaN</td>\n",
       "      <td>Google Cloud Datalab</td>\n",
       "      <td>NaN</td>\n",
       "      <td>NaN</td>\n",
       "      <td>NaN</td>\n",
       "      <td>NaN</td>\n",
       "      <td>NaN</td>\n",
       "      <td>NaN</td>\n",
       "      <td>Ggplot / ggplot2</td>\n",
       "      <td>Manufacturing/Fabrication</td>\n",
       "      <td>250-999 employees</td>\n",
       "      <td>3-4</td>\n",
       "      <td>NaN</td>\n",
       "      <td>NaN</td>\n",
       "      <td>NaN</td>\n",
       "      <td>NaN</td>\n",
       "      <td>NaN</td>\n",
       "      <td>NaN</td>\n",
       "      <td>NaN</td>\n",
       "      <td>NaN</td>\n",
       "      <td>NaN</td>\n",
       "      <td>NaN</td>\n",
       "      <td>NaN</td>\n",
       "      <td>NaN</td>\n",
       "      <td>NaN</td>\n",
       "      <td>NaN</td>\n",
       "      <td>Google Cloud Datalab</td>\n",
       "      <td>NaN</td>\n",
       "    </tr>\n",
       "    <tr>\n",
       "      <th>2</th>\n",
       "      <td>33</td>\n",
       "      <td>30-34</td>\n",
       "      <td>Woman</td>\n",
       "      <td>Egypt</td>\n",
       "      <td>Bachelor’s degree</td>\n",
       "      <td>3-5 years</td>\n",
       "      <td>Python</td>\n",
       "      <td>R</td>\n",
       "      <td>Notepad++,Jupyter Notebook</td>\n",
       "      <td>Kaggle Notebooks</td>\n",
       "      <td>Colab Notebooks</td>\n",
       "      <td>NaN</td>\n",
       "      <td>NaN</td>\n",
       "      <td>NaN</td>\n",
       "      <td>NaN</td>\n",
       "      <td>NaN</td>\n",
       "      <td>NaN</td>\n",
       "      <td>NaN</td>\n",
       "      <td>NaN</td>\n",
       "      <td>NaN</td>\n",
       "      <td>NaN</td>\n",
       "      <td>NaN</td>\n",
       "      <td>NaN</td>\n",
       "      <td>NaN</td>\n",
       "      <td>NaN</td>\n",
       "      <td>NaN</td>\n",
       "      <td>None</td>\n",
       "      <td>Non-profit/Service</td>\n",
       "      <td>0-49 employees</td>\n",
       "      <td>0</td>\n",
       "      <td>Analyze and understand data to influence produ...</td>\n",
       "      <td>None</td>\n",
       "      <td>NaN</td>\n",
       "      <td>NaN</td>\n",
       "      <td>NaN</td>\n",
       "      <td>NaN</td>\n",
       "      <td>NaN</td>\n",
       "      <td>NaN</td>\n",
       "      <td>NaN</td>\n",
       "      <td>NaN</td>\n",
       "      <td>NaN</td>\n",
       "      <td>I do not share my work publicly</td>\n",
       "      <td>NaN</td>\n",
       "      <td>Basic statistical software (Microsoft Excel, G...</td>\n",
       "      <td>Kaggle Notebooks,Colab Notebooks</td>\n",
       "      <td>I do not share my work publicly</td>\n",
       "    </tr>\n",
       "  </tbody>\n",
       "</table>\n",
       "</div>"
      ],
      "text/plain": [
       "   index    age     gender                        q3   \n",
       "0     16  50-54        Man                   Belgium  \\\n",
       "1     32  22-24  Nonbinary  United States of America   \n",
       "2     33  30-34      Woman                     Egypt   \n",
       "\n",
       "                                                  q4         q6           q7   \n",
       "0                                  Bachelor’s degree  20+ years  Python, SQL  \\\n",
       "1  Some college/university study without earning ...  < 1 years            R   \n",
       "2                                  Bachelor’s degree  3-5 years       Python   \n",
       "\n",
       "       q8                                                 q9   \n",
       "0  Python  Jupyter (JupyterLab, Jupyter Notebooks, etc) ,...  \\\n",
       "1       R                                           RStudio    \n",
       "2       R                         Notepad++,Jupyter Notebook   \n",
       "\n",
       "          q10_part_1       q10_part_2 q10_part_3 q10_part_4 q10_part_5   \n",
       "0   Kaggle Notebooks  Colab Notebooks        NaN        NaN        NaN  \\\n",
       "1                NaN              NaN        NaN        NaN        NaN   \n",
       "2   Kaggle Notebooks  Colab Notebooks        NaN        NaN        NaN   \n",
       "\n",
       "  q10_part_6 q10_part_7 q10_part_8 q10_part_9 q10_part_10   \n",
       "0        NaN        NaN        NaN        NaN         NaN  \\\n",
       "1        NaN        NaN        NaN        NaN         NaN   \n",
       "2        NaN        NaN        NaN        NaN         NaN   \n",
       "\n",
       "            q10_part_11                           q10_part_12 q10_part_13   \n",
       "0                   NaN   Databricks Collaborative Notebooks          NaN  \\\n",
       "1  Google Cloud Datalab                                   NaN         NaN   \n",
       "2                   NaN                                   NaN         NaN   \n",
       "\n",
       "  q10_part_14 q10_part_15  q10_part_16 q10_other   \n",
       "0         NaN         NaN          NaN       NaN  \\\n",
       "1         NaN         NaN          NaN       NaN   \n",
       "2         NaN         NaN          NaN       NaN   \n",
       "\n",
       "                                              q14                        q20   \n",
       "0   Matplotlib ,Seaborn ,Plotly / Plotly Express               Energy/Mining  \\\n",
       "1                               Ggplot / ggplot2   Manufacturing/Fabrication   \n",
       "2                                            None         Non-profit/Service   \n",
       "\n",
       "                    q21  q22   \n",
       "0  1000-9,999 employees  5-9  \\\n",
       "1     250-999 employees  3-4   \n",
       "2        0-49 employees    0   \n",
       "\n",
       "                                                 q24    q34  q35 q39_part_1   \n",
       "0  Analyze and understand data to influence produ...    NaN  NaN        NaN  \\\n",
       "1                                                NaN    NaN  NaN        NaN   \n",
       "2  Analyze and understand data to influence produ...   None  NaN        NaN   \n",
       "\n",
       "  q39_part_2 q39_part_3 q39_part_4 q39_part_5 q39_part_6 q39_part_7   \n",
       "0        NaN        NaN        NaN        NaN        NaN        NaN  \\\n",
       "1        NaN        NaN        NaN        NaN        NaN        NaN   \n",
       "2        NaN        NaN        NaN        NaN        NaN        NaN   \n",
       "\n",
       "  q39_part_8                       q39_part_9 q39_other   \n",
       "0        NaN                              NaN       NaN  \\\n",
       "1        NaN                              NaN       NaN   \n",
       "2        NaN  I do not share my work publicly       NaN   \n",
       "\n",
       "                                                 q41   \n",
       "0  Local development environments (RStudio, Jupyt...  \\\n",
       "1                                                NaN   \n",
       "2  Basic statistical software (Microsoft Excel, G...   \n",
       "\n",
       "                                                 q10   \n",
       "0  Kaggle Notebooks,Colab Notebooks,Databricks Co...  \\\n",
       "1                               Google Cloud Datalab   \n",
       "2                   Kaggle Notebooks,Colab Notebooks   \n",
       "\n",
       "                               q39  \n",
       "0                              NaN  \n",
       "1                              NaN  \n",
       "2  I do not share my work publicly  "
      ]
     },
     "execution_count": 6,
     "metadata": {},
     "output_type": "execute_result"
    }
   ],
   "source": [
    "# creamos las columnas unificadas en el dataframe y borramos las sobrantes\n",
    "df['q10'] = lista_futura_q10\n",
    "df['q39'] = lista_futura_q39\n",
    "df.head(3)"
   ]
  },
  {
   "cell_type": "code",
   "execution_count": 7,
   "metadata": {},
   "outputs": [
    {
     "data": {
      "text/html": [
       "<div>\n",
       "<style scoped>\n",
       "    .dataframe tbody tr th:only-of-type {\n",
       "        vertical-align: middle;\n",
       "    }\n",
       "\n",
       "    .dataframe tbody tr th {\n",
       "        vertical-align: top;\n",
       "    }\n",
       "\n",
       "    .dataframe thead th {\n",
       "        text-align: right;\n",
       "    }\n",
       "</style>\n",
       "<table border=\"1\" class=\"dataframe\">\n",
       "  <thead>\n",
       "    <tr style=\"text-align: right;\">\n",
       "      <th></th>\n",
       "      <th>index</th>\n",
       "      <th>age</th>\n",
       "      <th>gender</th>\n",
       "      <th>q3</th>\n",
       "      <th>q4</th>\n",
       "      <th>q6</th>\n",
       "      <th>q7</th>\n",
       "      <th>q8</th>\n",
       "      <th>q9</th>\n",
       "      <th>q14</th>\n",
       "      <th>q20</th>\n",
       "      <th>q21</th>\n",
       "      <th>q22</th>\n",
       "      <th>q24</th>\n",
       "      <th>q34</th>\n",
       "      <th>q35</th>\n",
       "      <th>q41</th>\n",
       "      <th>q10</th>\n",
       "      <th>q39</th>\n",
       "    </tr>\n",
       "  </thead>\n",
       "  <tbody>\n",
       "    <tr>\n",
       "      <th>791</th>\n",
       "      <td>9066</td>\n",
       "      <td>30-34</td>\n",
       "      <td>Man</td>\n",
       "      <td>Brazil</td>\n",
       "      <td>Bachelor’s degree</td>\n",
       "      <td>&lt; 1 years</td>\n",
       "      <td>Python, R, SQL, Java</td>\n",
       "      <td>Python</td>\n",
       "      <td>PyCharm , Spyder,Jupyter Notebook</td>\n",
       "      <td>Other</td>\n",
       "      <td>Online Business/Internet-based Sales</td>\n",
       "      <td>1000-9,999 employees</td>\n",
       "      <td>1-2</td>\n",
       "      <td>Other</td>\n",
       "      <td>Microsoft Power BI, Tableau, Qlik</td>\n",
       "      <td>Microsoft Power BI</td>\n",
       "      <td>NaN</td>\n",
       "      <td>Other</td>\n",
       "      <td>Other</td>\n",
       "    </tr>\n",
       "  </tbody>\n",
       "</table>\n",
       "</div>"
      ],
      "text/plain": [
       "     index    age gender      q3                 q4         q6   \n",
       "791   9066  30-34    Man  Brazil  Bachelor’s degree  < 1 years  \\\n",
       "\n",
       "                       q7      q8                                 q9     q14   \n",
       "791  Python, R, SQL, Java  Python  PyCharm , Spyder,Jupyter Notebook   Other  \\\n",
       "\n",
       "                                      q20                   q21  q22     q24   \n",
       "791  Online Business/Internet-based Sales  1000-9,999 employees  1-2   Other  \\\n",
       "\n",
       "                                    q34                 q35  q41    q10    q39  \n",
       "791   Microsoft Power BI, Tableau, Qlik  Microsoft Power BI  NaN  Other  Other  "
      ]
     },
     "execution_count": 7,
     "metadata": {},
     "output_type": "execute_result"
    }
   ],
   "source": [
    "df.drop(columns=spv.columnas_sobrantes, inplace=True)\n",
    "df.sample()"
   ]
  },
  {
   "cell_type": "code",
   "execution_count": 8,
   "metadata": {},
   "outputs": [],
   "source": [
    "# reordenamos las columnas\n",
    "df = df.reindex(columns = ['age', 'gender', 'q3', 'q4', 'q6', 'q7', 'q8', 'q9', 'q10', 'q14', 'q20', 'q21', 'q22', 'q24', 'q34', 'q35', 'q39', 'q41'])"
   ]
  },
  {
   "cell_type": "code",
   "execution_count": 9,
   "metadata": {},
   "outputs": [
    {
     "data": {
      "text/html": [
       "<div>\n",
       "<style scoped>\n",
       "    .dataframe tbody tr th:only-of-type {\n",
       "        vertical-align: middle;\n",
       "    }\n",
       "\n",
       "    .dataframe tbody tr th {\n",
       "        vertical-align: top;\n",
       "    }\n",
       "\n",
       "    .dataframe thead th {\n",
       "        text-align: right;\n",
       "    }\n",
       "</style>\n",
       "<table border=\"1\" class=\"dataframe\">\n",
       "  <thead>\n",
       "    <tr style=\"text-align: right;\">\n",
       "      <th></th>\n",
       "      <th>0</th>\n",
       "      <th>1</th>\n",
       "      <th>2</th>\n",
       "      <th>3</th>\n",
       "      <th>4</th>\n",
       "      <th>5</th>\n",
       "      <th>6</th>\n",
       "      <th>7</th>\n",
       "      <th>8</th>\n",
       "      <th>9</th>\n",
       "      <th>10</th>\n",
       "      <th>11</th>\n",
       "      <th>12</th>\n",
       "      <th>13</th>\n",
       "      <th>14</th>\n",
       "      <th>15</th>\n",
       "      <th>16</th>\n",
       "      <th>17</th>\n",
       "    </tr>\n",
       "  </thead>\n",
       "  <tbody>\n",
       "    <tr>\n",
       "      <th>index</th>\n",
       "      <td>age</td>\n",
       "      <td>gender</td>\n",
       "      <td>q3</td>\n",
       "      <td>q4</td>\n",
       "      <td>q6</td>\n",
       "      <td>q7</td>\n",
       "      <td>q8</td>\n",
       "      <td>q9</td>\n",
       "      <td>q10</td>\n",
       "      <td>q14</td>\n",
       "      <td>q20</td>\n",
       "      <td>q21</td>\n",
       "      <td>q22</td>\n",
       "      <td>q24</td>\n",
       "      <td>q34</td>\n",
       "      <td>q35</td>\n",
       "      <td>q39</td>\n",
       "      <td>q41</td>\n",
       "    </tr>\n",
       "    <tr>\n",
       "      <th>0</th>\n",
       "      <td>0</td>\n",
       "      <td>0</td>\n",
       "      <td>0</td>\n",
       "      <td>0</td>\n",
       "      <td>0</td>\n",
       "      <td>143</td>\n",
       "      <td>154</td>\n",
       "      <td>146</td>\n",
       "      <td>809</td>\n",
       "      <td>193</td>\n",
       "      <td>114</td>\n",
       "      <td>130</td>\n",
       "      <td>150</td>\n",
       "      <td>227</td>\n",
       "      <td>1069</td>\n",
       "      <td>1858</td>\n",
       "      <td>1099</td>\n",
       "      <td>533</td>\n",
       "    </tr>\n",
       "  </tbody>\n",
       "</table>\n",
       "</div>"
      ],
      "text/plain": [
       "        0       1   2   3   4    5    6    7    8    9    10   11   12   13   \n",
       "index  age  gender  q3  q4  q6   q7   q8   q9  q10  q14  q20  q21  q22  q24  \\\n",
       "0        0       0   0   0   0  143  154  146  809  193  114  130  150  227   \n",
       "\n",
       "         14    15    16   17  \n",
       "index   q34   q35   q39  q41  \n",
       "0      1069  1858  1099  533  "
      ]
     },
     "execution_count": 9,
     "metadata": {},
     "output_type": "execute_result"
    }
   ],
   "source": [
    "df.isnull().sum().reset_index().T"
   ]
  },
  {
   "cell_type": "code",
   "execution_count": 10,
   "metadata": {},
   "outputs": [
    {
     "data": {
      "text/html": [
       "<div>\n",
       "<style scoped>\n",
       "    .dataframe tbody tr th:only-of-type {\n",
       "        vertical-align: middle;\n",
       "    }\n",
       "\n",
       "    .dataframe tbody tr th {\n",
       "        vertical-align: top;\n",
       "    }\n",
       "\n",
       "    .dataframe thead th {\n",
       "        text-align: right;\n",
       "    }\n",
       "</style>\n",
       "<table border=\"1\" class=\"dataframe\">\n",
       "  <thead>\n",
       "    <tr style=\"text-align: right;\">\n",
       "      <th></th>\n",
       "      <th>age</th>\n",
       "      <th>gender</th>\n",
       "      <th>q3</th>\n",
       "      <th>q4</th>\n",
       "      <th>q6</th>\n",
       "      <th>q7</th>\n",
       "      <th>q8</th>\n",
       "      <th>q9</th>\n",
       "      <th>q10</th>\n",
       "      <th>q14</th>\n",
       "      <th>q20</th>\n",
       "      <th>q21</th>\n",
       "      <th>q22</th>\n",
       "      <th>q24</th>\n",
       "      <th>q34</th>\n",
       "      <th>q35</th>\n",
       "      <th>q39</th>\n",
       "      <th>q41</th>\n",
       "    </tr>\n",
       "  </thead>\n",
       "  <tbody>\n",
       "    <tr>\n",
       "      <th>1792</th>\n",
       "      <td>30-34</td>\n",
       "      <td>Man</td>\n",
       "      <td>Portugal</td>\n",
       "      <td>Master’s degree</td>\n",
       "      <td>1-3 years</td>\n",
       "      <td>Python, SQL</td>\n",
       "      <td>Python</td>\n",
       "      <td>Spyder,Jupyter Notebook</td>\n",
       "      <td>NaN</td>\n",
       "      <td>Matplotlib ,Seaborn</td>\n",
       "      <td>Manufacturing/Fabrication</td>\n",
       "      <td>250-999 employees</td>\n",
       "      <td>0</td>\n",
       "      <td>Analyze and understand data to influence produ...</td>\n",
       "      <td>NaN</td>\n",
       "      <td>NaN</td>\n",
       "      <td>NaN</td>\n",
       "      <td>Local development environments (RStudio, Jupyt...</td>\n",
       "    </tr>\n",
       "    <tr>\n",
       "      <th>298</th>\n",
       "      <td>30-34</td>\n",
       "      <td>Woman</td>\n",
       "      <td>Germany</td>\n",
       "      <td>Master’s degree</td>\n",
       "      <td>10-20 years</td>\n",
       "      <td>R, SQL</td>\n",
       "      <td>R</td>\n",
       "      <td>RStudio</td>\n",
       "      <td>NaN</td>\n",
       "      <td>Ggplot / ggplot2 ,Shiny</td>\n",
       "      <td>Government/Public Service</td>\n",
       "      <td>50-249 employees</td>\n",
       "      <td>1-2</td>\n",
       "      <td>Analyze and understand data to influence produ...</td>\n",
       "      <td>NaN</td>\n",
       "      <td>NaN</td>\n",
       "      <td>NaN</td>\n",
       "      <td>Local development environments (RStudio, Jupyt...</td>\n",
       "    </tr>\n",
       "    <tr>\n",
       "      <th>709</th>\n",
       "      <td>30-34</td>\n",
       "      <td>Man</td>\n",
       "      <td>Nigeria</td>\n",
       "      <td>Master’s degree</td>\n",
       "      <td>I have never written code</td>\n",
       "      <td>NaN</td>\n",
       "      <td>NaN</td>\n",
       "      <td>NaN</td>\n",
       "      <td>NaN</td>\n",
       "      <td>NaN</td>\n",
       "      <td>Accounting/Finance</td>\n",
       "      <td>0-49 employees</td>\n",
       "      <td>0</td>\n",
       "      <td>None of these activities are an important par...</td>\n",
       "      <td>NaN</td>\n",
       "      <td>NaN</td>\n",
       "      <td>NaN</td>\n",
       "      <td>Basic statistical software (Microsoft Excel, G...</td>\n",
       "    </tr>\n",
       "  </tbody>\n",
       "</table>\n",
       "</div>"
      ],
      "text/plain": [
       "        age gender        q3               q4                         q6   \n",
       "1792  30-34    Man  Portugal  Master’s degree                  1-3 years  \\\n",
       "298   30-34  Woman   Germany  Master’s degree                10-20 years   \n",
       "709   30-34    Man   Nigeria  Master’s degree  I have never written code   \n",
       "\n",
       "               q7      q8                        q9  q10   \n",
       "1792  Python, SQL  Python   Spyder,Jupyter Notebook  NaN  \\\n",
       "298        R, SQL       R                  RStudio   NaN   \n",
       "709           NaN     NaN                       NaN  NaN   \n",
       "\n",
       "                           q14                        q20                q21   \n",
       "1792      Matplotlib ,Seaborn   Manufacturing/Fabrication  250-999 employees  \\\n",
       "298   Ggplot / ggplot2 ,Shiny   Government/Public Service   50-249 employees   \n",
       "709                        NaN         Accounting/Finance     0-49 employees   \n",
       "\n",
       "      q22                                                q24  q34  q35  q39   \n",
       "1792    0  Analyze and understand data to influence produ...  NaN  NaN  NaN  \\\n",
       "298   1-2  Analyze and understand data to influence produ...  NaN  NaN  NaN   \n",
       "709     0   None of these activities are an important par...  NaN  NaN  NaN   \n",
       "\n",
       "                                                    q41  \n",
       "1792  Local development environments (RStudio, Jupyt...  \n",
       "298   Local development environments (RStudio, Jupyt...  \n",
       "709   Basic statistical software (Microsoft Excel, G...  "
      ]
     },
     "execution_count": 10,
     "metadata": {},
     "output_type": "execute_result"
    }
   ],
   "source": [
    "df.sample(3)"
   ]
  },
  {
   "cell_type": "code",
   "execution_count": 11,
   "metadata": {},
   "outputs": [],
   "source": [
    "# def limpiar_columna(row):\n",
    "#     if 'Jupyter (JupyterLab, Jupyter Notebooks, etc) ' in row:\n",
    "#         r = row.replace(r'Jupyter \\(JupyterLab, Jupyter Notebooks, etc\\) ', 'Jupyter-JupyterLab-JupyterNotebooks', regex = True)\n",
    "#         return r\n",
    "#     else:\n",
    "#         return row"
   ]
  },
  {
   "cell_type": "code",
   "execution_count": 12,
   "metadata": {},
   "outputs": [],
   "source": [
    "def limpiar_q9(row):\n",
    "    try:\n",
    "        if 'Jupyter (JupyterLab, Jupyter Notebooks, etc)' in row:\n",
    "            r = row.replace(\"Jupyter (JupyterLab, Jupyter Notebooks, etc)\", 'Jupyter-JupyterLab-JupyterNotebooks')\n",
    "            return r\n",
    "        else:\n",
    "            return row\n",
    "    except:\n",
    "        return row"
   ]
  },
  {
   "cell_type": "code",
   "execution_count": 13,
   "metadata": {},
   "outputs": [],
   "source": [
    "df['q9'] = df['q9'].apply(limpiar_q9)"
   ]
  },
  {
   "cell_type": "code",
   "execution_count": 14,
   "metadata": {},
   "outputs": [
    {
     "data": {
      "text/html": [
       "<div>\n",
       "<style scoped>\n",
       "    .dataframe tbody tr th:only-of-type {\n",
       "        vertical-align: middle;\n",
       "    }\n",
       "\n",
       "    .dataframe tbody tr th {\n",
       "        vertical-align: top;\n",
       "    }\n",
       "\n",
       "    .dataframe thead th {\n",
       "        text-align: right;\n",
       "    }\n",
       "</style>\n",
       "<table border=\"1\" class=\"dataframe\">\n",
       "  <thead>\n",
       "    <tr style=\"text-align: right;\">\n",
       "      <th></th>\n",
       "      <th>index</th>\n",
       "      <th>q9</th>\n",
       "    </tr>\n",
       "  </thead>\n",
       "  <tbody>\n",
       "    <tr>\n",
       "      <th>981</th>\n",
       "      <td>981</td>\n",
       "      <td>Jupyter-JupyterLab-JupyterNotebooks ,PyCharm ,...</td>\n",
       "    </tr>\n",
       "    <tr>\n",
       "      <th>2193</th>\n",
       "      <td>2193</td>\n",
       "      <td>RStudio , Notepad++</td>\n",
       "    </tr>\n",
       "    <tr>\n",
       "      <th>1479</th>\n",
       "      <td>1479</td>\n",
       "      <td>RStudio ,Visual Studio</td>\n",
       "    </tr>\n",
       "    <tr>\n",
       "      <th>407</th>\n",
       "      <td>407</td>\n",
       "      <td>Visual Studio , Notepad++, Sublime Text,Jupyte...</td>\n",
       "    </tr>\n",
       "    <tr>\n",
       "      <th>1824</th>\n",
       "      <td>1824</td>\n",
       "      <td>PyCharm , Sublime Text,Jupyter Notebook</td>\n",
       "    </tr>\n",
       "    <tr>\n",
       "      <th>306</th>\n",
       "      <td>306</td>\n",
       "      <td>RStudio ,PyCharm ,Jupyter Notebook</td>\n",
       "    </tr>\n",
       "    <tr>\n",
       "      <th>534</th>\n",
       "      <td>534</td>\n",
       "      <td>Sublime Text, Vim / Emacs,Jupyter Notebook</td>\n",
       "    </tr>\n",
       "    <tr>\n",
       "      <th>1700</th>\n",
       "      <td>1700</td>\n",
       "      <td>Jupyter-JupyterLab-JupyterNotebooks ,RStudio ,...</td>\n",
       "    </tr>\n",
       "    <tr>\n",
       "      <th>1594</th>\n",
       "      <td>1594</td>\n",
       "      <td>RStudio ,Visual Studio Code (VSCode) ,PyCharm ...</td>\n",
       "    </tr>\n",
       "    <tr>\n",
       "      <th>1324</th>\n",
       "      <td>1324</td>\n",
       "      <td>Sublime Text,Jupyter Notebook</td>\n",
       "    </tr>\n",
       "  </tbody>\n",
       "</table>\n",
       "</div>"
      ],
      "text/plain": [
       "      index                                                 q9\n",
       "981     981  Jupyter-JupyterLab-JupyterNotebooks ,PyCharm ,...\n",
       "2193   2193                                RStudio , Notepad++\n",
       "1479   1479                            RStudio ,Visual Studio \n",
       "407     407  Visual Studio , Notepad++, Sublime Text,Jupyte...\n",
       "1824   1824            PyCharm , Sublime Text,Jupyter Notebook\n",
       "306     306                 RStudio ,PyCharm ,Jupyter Notebook\n",
       "534     534         Sublime Text, Vim / Emacs,Jupyter Notebook\n",
       "1700   1700  Jupyter-JupyterLab-JupyterNotebooks ,RStudio ,...\n",
       "1594   1594  RStudio ,Visual Studio Code (VSCode) ,PyCharm ...\n",
       "1324   1324                      Sublime Text,Jupyter Notebook"
      ]
     },
     "execution_count": 14,
     "metadata": {},
     "output_type": "execute_result"
    }
   ],
   "source": [
    "df['q9'].reset_index().sample(10)"
   ]
  },
  {
   "cell_type": "code",
   "execution_count": null,
   "metadata": {},
   "outputs": [],
   "source": []
  },
  {
   "cell_type": "code",
   "execution_count": 15,
   "metadata": {},
   "outputs": [],
   "source": [
    "def limpiar_q24(row):\n",
    "    try:\n",
    "        if 'Build and/or run the data infrastructure that my business uses for storing, analyzing, and operationalizing data' in row:\n",
    "            r = row.replace('Build and/or run the data infrastructure that my business uses for storing, analyzing, and operationalizing data', 'Build and/or run the data infrastructure that my business uses for storing analyzing and operationalizing data')\n",
    "            return r\n",
    "        else:\n",
    "            return row\n",
    "    except:\n",
    "        return row"
   ]
  },
  {
   "cell_type": "code",
   "execution_count": 16,
   "metadata": {},
   "outputs": [
    {
     "data": {
      "text/html": [
       "<div>\n",
       "<style scoped>\n",
       "    .dataframe tbody tr th:only-of-type {\n",
       "        vertical-align: middle;\n",
       "    }\n",
       "\n",
       "    .dataframe tbody tr th {\n",
       "        vertical-align: top;\n",
       "    }\n",
       "\n",
       "    .dataframe thead th {\n",
       "        text-align: right;\n",
       "    }\n",
       "</style>\n",
       "<table border=\"1\" class=\"dataframe\">\n",
       "  <thead>\n",
       "    <tr style=\"text-align: right;\">\n",
       "      <th></th>\n",
       "      <th>index</th>\n",
       "      <th>q24</th>\n",
       "    </tr>\n",
       "  </thead>\n",
       "  <tbody>\n",
       "    <tr>\n",
       "      <th>2273</th>\n",
       "      <td>2273</td>\n",
       "      <td>Analyze and understand data to influence produ...</td>\n",
       "    </tr>\n",
       "    <tr>\n",
       "      <th>1811</th>\n",
       "      <td>1811</td>\n",
       "      <td>NaN</td>\n",
       "    </tr>\n",
       "    <tr>\n",
       "      <th>113</th>\n",
       "      <td>113</td>\n",
       "      <td>Analyze and understand data to influence produ...</td>\n",
       "    </tr>\n",
       "    <tr>\n",
       "      <th>60</th>\n",
       "      <td>60</td>\n",
       "      <td>Analyze and understand data to influence produ...</td>\n",
       "    </tr>\n",
       "    <tr>\n",
       "      <th>2171</th>\n",
       "      <td>2171</td>\n",
       "      <td>Build and/or run the data infrastructure that...</td>\n",
       "    </tr>\n",
       "    <tr>\n",
       "      <th>154</th>\n",
       "      <td>154</td>\n",
       "      <td>Analyze and understand data to influence produ...</td>\n",
       "    </tr>\n",
       "    <tr>\n",
       "      <th>401</th>\n",
       "      <td>401</td>\n",
       "      <td>Analyze and understand data to influence produ...</td>\n",
       "    </tr>\n",
       "    <tr>\n",
       "      <th>579</th>\n",
       "      <td>579</td>\n",
       "      <td>Analyze and understand data to influence produ...</td>\n",
       "    </tr>\n",
       "    <tr>\n",
       "      <th>755</th>\n",
       "      <td>755</td>\n",
       "      <td>None of these activities are an important par...</td>\n",
       "    </tr>\n",
       "    <tr>\n",
       "      <th>1407</th>\n",
       "      <td>1407</td>\n",
       "      <td>Analyze and understand data to influence produ...</td>\n",
       "    </tr>\n",
       "  </tbody>\n",
       "</table>\n",
       "</div>"
      ],
      "text/plain": [
       "      index                                                q24\n",
       "2273   2273  Analyze and understand data to influence produ...\n",
       "1811   1811                                                NaN\n",
       "113     113  Analyze and understand data to influence produ...\n",
       "60       60  Analyze and understand data to influence produ...\n",
       "2171   2171   Build and/or run the data infrastructure that...\n",
       "154     154  Analyze and understand data to influence produ...\n",
       "401     401  Analyze and understand data to influence produ...\n",
       "579     579  Analyze and understand data to influence produ...\n",
       "755     755   None of these activities are an important par...\n",
       "1407   1407  Analyze and understand data to influence produ..."
      ]
     },
     "execution_count": 16,
     "metadata": {},
     "output_type": "execute_result"
    }
   ],
   "source": [
    "df['q24'] = df['q24'].apply(limpiar_q24)\n",
    "df['q24'].reset_index().sample(10)"
   ]
  },
  {
   "cell_type": "code",
   "execution_count": 17,
   "metadata": {},
   "outputs": [],
   "source": [
    "# def limpiar_q41(row):\n",
    "#     try:\n",
    "#         if \"Basic statistical software (Microsoft Excel', ' Google Sheets', ' etc.)\" in row:\n",
    "#             r = row.replace(\"Jupyter (JupyterLab, Jupyter Notebooks, etc)\", \"Basic statistical software (Microsoft Excel-Google Sheets-etc.)\")\n",
    "#             return r\n",
    "#         elif \"Local development environments (RStudio', ' JupyterLab', ' etc.)\" in row:\n",
    "#             r = row.replace(\"Local development environments (RStudio', ' JupyterLab', ' etc.)\", \"Local development environments (RStudio-JupyterLab-etc)\")\n",
    "#             return r\n",
    "#         elif \"Business intelligence software (Salesforce',' Tableau',' Spotfire',' etc.)\" in row:\n",
    "#             r = row.replace(\"Business intelligence software (Salesforce',' Tableau',' Spotfire',' etc.)\", \"Business intelligence software (Salesforce-Tableau-Spotfire.etc.)\")\n",
    "#             return r\n",
    "#         elif \"Cloud-based data software & APIs (AWS', ' GCP', ' Azure', ' etc.)\" in row:\n",
    "#             r = row.replace(\"Cloud-based data software & APIs (AWS', ' GCP', ' Azure', ' etc.)\", \"Cloud-based data software & APIs (AWS-GCP-Azure-etc.)\")\n",
    "#             return r\n",
    "#             return r\n",
    "#         elif \"Cloud-based data software & APIs (AWS', ' GCP', ' Azure', ' etc.)\" in row:\n",
    "#             r = row.replace(\"Cloud-based data software & APIs (AWS', ' GCP', ' Azure', ' etc.)\", \"Cloud-based data software & APIs (AWS-GCP-Azure-etc.)\")\n",
    "#             return r\n",
    "#         else:\n",
    "#             return row\n",
    "#     except:\n",
    "#         return row"
   ]
  },
  {
   "cell_type": "code",
   "execution_count": 55,
   "metadata": {},
   "outputs": [
    {
     "name": "stdout",
     "output_type": "stream",
     "text": [
      "['Local development environments (RStudio-JupyterLab)']\n",
      "nan\n",
      "['Basic statistical software (Microsoft Excel-Google Sheets)']\n",
      "['Basic statistical software (Microsoft Excel-Google Sheets)']\n",
      "['Local development environments (RStudio-JupyterLab)']\n",
      "['Basic statistical software (Microsoft Excel-Google Sheets)']\n",
      "['Basic statistical software (Microsoft Excel-Google Sheets)']\n",
      "nan\n",
      "['Business intelligence software (Salesforce-Tableau-Spotfire)']\n",
      "['Local development environments (RStudio-JupyterLab)']\n",
      "['Basic statistical software (Microsoft Excel-Google Sheets)']\n",
      "['Local development environments (RStudio-JupyterLab)']\n",
      "['Cloud-based data software & APIs (AWS-GCP-Azure)']\n",
      "['Basic statistical software (Microsoft Excel-Google Sheets)']\n",
      "['Advanced statistical software (SPSS-SAS)']\n",
      "nan\n",
      "['Basic statistical software (Microsoft Excel-Google Sheets)']\n",
      "nan\n",
      "nan\n",
      "['Basic statistical software (Microsoft Excel-Google Sheets)']\n",
      "['Basic statistical software (Microsoft Excel-Google Sheets)']\n",
      "nan\n",
      "['Local development environments (RStudio-JupyterLab)']\n",
      "['Basic statistical software (Microsoft Excel-Google Sheets)']\n",
      "['Advanced statistical software (SPSS-SAS)']\n",
      "['Advanced statistical software (SPSS-SAS)']\n",
      "['Local development environments (RStudio-JupyterLab)']\n",
      "['Basic statistical software (Microsoft Excel-Google Sheets)']\n",
      "['Basic statistical software (Microsoft Excel-Google Sheets)']\n",
      "['Local development environments (RStudio-JupyterLab)']\n",
      "['Basic statistical software (Microsoft Excel-Google Sheets)']\n",
      "['Basic statistical software (Microsoft Excel-Google Sheets)']\n",
      "['Cloud-based data software & APIs (AWS-GCP-Azure)']\n",
      "['Basic statistical software (Microsoft Excel-Google Sheets)']\n",
      "['Business intelligence software (Salesforce-Tableau-Spotfire)']\n",
      "['Cloud-based data software & APIs (AWS-GCP-Azure)']\n",
      "['Basic statistical software (Microsoft Excel-Google Sheets)']\n",
      "['Advanced statistical software (SPSS-SAS)']\n",
      "['Business intelligence software (Salesforce-Tableau-Spotfire)']\n",
      "nan\n",
      "['Basic statistical software (Microsoft Excel-Google Sheets)']\n",
      "['Local development environments (RStudio-JupyterLab)']\n",
      "nan\n",
      "nan\n",
      "['Advanced statistical software (SPSS-SAS)']\n",
      "nan\n",
      "nan\n",
      "nan\n",
      "nan\n",
      "nan\n",
      "nan\n",
      "['Basic statistical software (Microsoft Excel-Google Sheets)']\n",
      "['Local development environments (RStudio-JupyterLab)']\n",
      "['Basic statistical software (Microsoft Excel-Google Sheets)']\n",
      "['Local development environments (RStudio-JupyterLab)']\n",
      "['Business intelligence software (Salesforce-Tableau-Spotfire)']\n",
      "nan\n",
      "nan\n",
      "['Business intelligence software (Salesforce-Tableau-Spotfire)']\n",
      "['Local development environments (RStudio-JupyterLab)']\n",
      "['Basic statistical software (Microsoft Excel-Google Sheets)']\n",
      "['Local development environments (RStudio-JupyterLab)']\n",
      "['Basic statistical software (Microsoft Excel-Google Sheets)']\n",
      "['Other']\n",
      "['Business intelligence software (Salesforce-Tableau-Spotfire)']\n",
      "['Basic statistical software (Microsoft Excel-Google Sheets)']\n",
      "['Business intelligence software (Salesforce-Tableau-Spotfire)']\n",
      "nan\n",
      "['Business intelligence software (Salesforce-Tableau-Spotfire)']\n",
      "['Basic statistical software (Microsoft Excel-Google Sheets)']\n",
      "nan\n",
      "nan\n",
      "['Local development environments (RStudio-JupyterLab)']\n",
      "nan\n",
      "nan\n",
      "['Advanced statistical software (SPSS-SAS)']\n",
      "['Basic statistical software (Microsoft Excel-Google Sheets)']\n",
      "nan\n",
      "['Local development environments (RStudio-JupyterLab)']\n",
      "['Basic statistical software (Microsoft Excel-Google Sheets)']\n",
      "['Basic statistical software (Microsoft Excel-Google Sheets)']\n",
      "['Business intelligence software (Salesforce-Tableau-Spotfire)']\n",
      "['Basic statistical software (Microsoft Excel-Google Sheets)']\n",
      "nan\n",
      "['Basic statistical software (Microsoft Excel-Google Sheets)']\n",
      "nan\n",
      "['Advanced statistical software (SPSS-SAS)']\n",
      "['Other']\n",
      "['Business intelligence software (Salesforce-Tableau-Spotfire)']\n",
      "nan\n",
      "['Business intelligence software (Salesforce-Tableau-Spotfire)']\n",
      "['Local development environments (RStudio-JupyterLab)']\n",
      "['Basic statistical software (Microsoft Excel-Google Sheets)']\n",
      "['Local development environments (RStudio-JupyterLab)']\n",
      "nan\n",
      "['Basic statistical software (Microsoft Excel-Google Sheets)']\n",
      "['Basic statistical software (Microsoft Excel-Google Sheets)']\n",
      "['Basic statistical software (Microsoft Excel-Google Sheets)']\n",
      "['Basic statistical software (Microsoft Excel-Google Sheets)']\n",
      "['Local development environments (RStudio-JupyterLab)']\n"
     ]
    }
   ],
   "source": [
    "for i in range(100):  \n",
    "    print(df['q41'][i])"
   ]
  },
  {
   "cell_type": "code",
   "execution_count": 19,
   "metadata": {},
   "outputs": [],
   "source": [
    "def limpiar_q41a(row):\n",
    "    try:\n",
    "        if \"Basic statistical software (Microsoft Excel, Google Sheets, etc.)\" in row:\n",
    "            r = row.replace(\"Basic statistical software (Microsoft Excel, Google Sheets, etc.)\", \"Basic statistical software (Microsoft Excel-Google Sheets)\")\n",
    "            return r\n",
    "        else:\n",
    "            return row\n",
    "    except:\n",
    "        return row"
   ]
  },
  {
   "cell_type": "code",
   "execution_count": 20,
   "metadata": {},
   "outputs": [],
   "source": [
    "df['q41'] = df['q41'].apply(limpiar_q41a)"
   ]
  },
  {
   "cell_type": "code",
   "execution_count": 21,
   "metadata": {},
   "outputs": [],
   "source": [
    "def limpiar_q41b(row):\n",
    "    try:\n",
    "        if \"Local development environments (RStudio, JupyterLab, etc.)\" in row:\n",
    "            r = row.replace(\"Local development environments (RStudio, JupyterLab, etc.)\", \"Local development environments (RStudio-JupyterLab)\")\n",
    "            return r\n",
    "        else:\n",
    "            return row\n",
    "    except:\n",
    "        return row"
   ]
  },
  {
   "cell_type": "code",
   "execution_count": 22,
   "metadata": {},
   "outputs": [],
   "source": [
    "df['q41'] = df['q41'].apply(limpiar_q41b)"
   ]
  },
  {
   "cell_type": "code",
   "execution_count": 23,
   "metadata": {},
   "outputs": [],
   "source": [
    "def limpiar_q41c(row):\n",
    "    try:\n",
    "        if \"Business intelligence software (Salesforce, Tableau, Spotfire, etc.)\" in row:\n",
    "            r = row.replace(\"Business intelligence software (Salesforce, Tableau, Spotfire, etc.)\", \"Business intelligence software (Salesforce-Tableau-Spotfire)\")\n",
    "            return r\n",
    "        else:\n",
    "            return row\n",
    "    except:\n",
    "        return row"
   ]
  },
  {
   "cell_type": "code",
   "execution_count": 24,
   "metadata": {},
   "outputs": [],
   "source": [
    "df['q41'] = df['q41'].apply(limpiar_q41c)"
   ]
  },
  {
   "cell_type": "code",
   "execution_count": 25,
   "metadata": {},
   "outputs": [],
   "source": [
    "def limpiar_q41d(row):\n",
    "    try:\n",
    "        if \"Advanced statistical software (SPSS, SAS, etc.)\" in row:\n",
    "            r = row.replace(\"Advanced statistical software (SPSS, SAS, etc.)\", \"Advanced statistical software (SPSS-SAS)\")\n",
    "            return r\n",
    "        else:\n",
    "            return row\n",
    "    except:\n",
    "        return row"
   ]
  },
  {
   "cell_type": "code",
   "execution_count": 26,
   "metadata": {},
   "outputs": [],
   "source": [
    "df['q41'] = df['q41'].apply(limpiar_q41d)"
   ]
  },
  {
   "cell_type": "code",
   "execution_count": 27,
   "metadata": {},
   "outputs": [],
   "source": [
    "def limpiar_q41e(row):\n",
    "    try:\n",
    "        if \"Cloud-based data software & APIs (AWS, GCP, Azure, etc.)\" in row:\n",
    "            r = row.replace(\"Cloud-based data software & APIs (AWS, GCP, Azure, etc.)\", \"Cloud-based data software & APIs (AWS-GCP-Azure)\")\n",
    "            return r\n",
    "        else:\n",
    "            return row\n",
    "    except:\n",
    "        return row"
   ]
  },
  {
   "cell_type": "code",
   "execution_count": 28,
   "metadata": {},
   "outputs": [],
   "source": [
    "df['q41'] = df['q41'].apply(limpiar_q41e)"
   ]
  },
  {
   "cell_type": "code",
   "execution_count": 29,
   "metadata": {},
   "outputs": [],
   "source": [
    "# \"Basic statistical software (Microsoft Excel', ' Google Sheets', ' etc.)\" : 'Basic statistical software (Microsoft Excel-Google Sheets-etc.)',\n",
    "# \"Local development environments (RStudio', ' JupyterLab', ' etc.)\" : 'Local development environments (RStudio-JupyterLab-etc)',\n",
    "# \"Business intelligence software (Salesforce',' Tableau',' Spotfire',' etc.)\" : 'Business intelligence software (Salesforce-Tableau-Spotfire.etc.)',\n",
    "# \"Cloud-based data software & APIs (AWS', ' GCP', ' Azure', ' etc.)\" : 'Cloud-based data software & APIs (AWS-GCP-Azure-etc.)',\n",
    "# \"Advanced statistical software (SPSS', ' SAS', ' etc.)\" : 'Advanced statistical software (SPSS-SAS-etc.)'"
   ]
  },
  {
   "cell_type": "code",
   "execution_count": null,
   "metadata": {},
   "outputs": [],
   "source": []
  },
  {
   "cell_type": "code",
   "execution_count": 30,
   "metadata": {},
   "outputs": [],
   "source": [
    "# df['q9_'] = df['q9'].str.replace(r'Jupyter \\(JupyterLab, Jupyter Notebooks, etc\\) ', 'Jupyter (JupyterLab-Jupyter Notebooks-etc),Jupyter Notebook', regex=True)"
   ]
  },
  {
   "cell_type": "code",
   "execution_count": 31,
   "metadata": {},
   "outputs": [
    {
     "data": {
      "text/plain": [
       "Index(['age', 'gender', 'q3', 'q4', 'q6', 'q7', 'q8', 'q9', 'q10', 'q14',\n",
       "       'q20', 'q21', 'q22', 'q24', 'q34', 'q35', 'q39', 'q41'],\n",
       "      dtype='object')"
      ]
     },
     "execution_count": 31,
     "metadata": {},
     "output_type": "execute_result"
    }
   ],
   "source": [
    "df.columns"
   ]
  },
  {
   "cell_type": "code",
   "execution_count": 32,
   "metadata": {},
   "outputs": [],
   "source": [
    "# for col in df.columns:\n",
    "#     df[col] = df[col].replace(spv.dict_changes, regex=True)"
   ]
  },
  {
   "cell_type": "code",
   "execution_count": 33,
   "metadata": {},
   "outputs": [
    {
     "data": {
      "text/html": [
       "<div>\n",
       "<style scoped>\n",
       "    .dataframe tbody tr th:only-of-type {\n",
       "        vertical-align: middle;\n",
       "    }\n",
       "\n",
       "    .dataframe tbody tr th {\n",
       "        vertical-align: top;\n",
       "    }\n",
       "\n",
       "    .dataframe thead th {\n",
       "        text-align: right;\n",
       "    }\n",
       "</style>\n",
       "<table border=\"1\" class=\"dataframe\">\n",
       "  <thead>\n",
       "    <tr style=\"text-align: right;\">\n",
       "      <th></th>\n",
       "      <th>age</th>\n",
       "      <th>gender</th>\n",
       "      <th>q3</th>\n",
       "      <th>q4</th>\n",
       "      <th>q6</th>\n",
       "      <th>q7</th>\n",
       "      <th>q8</th>\n",
       "      <th>q9</th>\n",
       "      <th>q10</th>\n",
       "      <th>q14</th>\n",
       "      <th>q20</th>\n",
       "      <th>q21</th>\n",
       "      <th>q22</th>\n",
       "      <th>q24</th>\n",
       "      <th>q34</th>\n",
       "      <th>q35</th>\n",
       "      <th>q39</th>\n",
       "      <th>q41</th>\n",
       "    </tr>\n",
       "  </thead>\n",
       "  <tbody>\n",
       "    <tr>\n",
       "      <th>398</th>\n",
       "      <td>35-39</td>\n",
       "      <td>Man</td>\n",
       "      <td>United States of America</td>\n",
       "      <td>Bachelor’s degree</td>\n",
       "      <td>5-10 years</td>\n",
       "      <td>Python, SQL, Javascript, Bash</td>\n",
       "      <td>Python</td>\n",
       "      <td>Visual Studio ,Visual Studio Code (VSCode) , N...</td>\n",
       "      <td>Colab Notebooks</td>\n",
       "      <td>Matplotlib ,Seaborn</td>\n",
       "      <td>Manufacturing/Fabrication</td>\n",
       "      <td>250-999 employees</td>\n",
       "      <td>3-4</td>\n",
       "      <td>Analyze and understand data to influence produ...</td>\n",
       "      <td>Microsoft Power BI</td>\n",
       "      <td>NaN</td>\n",
       "      <td>I do not share my work publicly</td>\n",
       "      <td>Local development environments (RStudio-Jupyte...</td>\n",
       "    </tr>\n",
       "    <tr>\n",
       "      <th>1392</th>\n",
       "      <td>25-29</td>\n",
       "      <td>Man</td>\n",
       "      <td>United Arab Emirates</td>\n",
       "      <td>Bachelor’s degree</td>\n",
       "      <td>1-3 years</td>\n",
       "      <td>Python</td>\n",
       "      <td>Python</td>\n",
       "      <td>Jupyter Notebook</td>\n",
       "      <td>NaN</td>\n",
       "      <td>Matplotlib ,Seaborn</td>\n",
       "      <td>Government/Public Service</td>\n",
       "      <td>10,000 or more employees</td>\n",
       "      <td>0</td>\n",
       "      <td>Analyze and understand data to influence produ...</td>\n",
       "      <td>Microsoft Power BI, Tableau</td>\n",
       "      <td>Tableau</td>\n",
       "      <td>Kaggle</td>\n",
       "      <td>Basic statistical software (Microsoft Excel-Go...</td>\n",
       "    </tr>\n",
       "    <tr>\n",
       "      <th>2294</th>\n",
       "      <td>35-39</td>\n",
       "      <td>Man</td>\n",
       "      <td>Pakistan</td>\n",
       "      <td>Master’s degree</td>\n",
       "      <td>&lt; 1 years</td>\n",
       "      <td>Python, SQL</td>\n",
       "      <td>Python</td>\n",
       "      <td>Jupyter Notebook</td>\n",
       "      <td>Other</td>\n",
       "      <td>Matplotlib ,Seaborn</td>\n",
       "      <td>Accounting/Finance</td>\n",
       "      <td>10,000 or more employees</td>\n",
       "      <td>20+</td>\n",
       "      <td>Analyze and understand data to influence produ...</td>\n",
       "      <td>Microsoft Power BI, Tableau</td>\n",
       "      <td>Microsoft Power BI</td>\n",
       "      <td>I do not share my work publicly</td>\n",
       "      <td>Other</td>\n",
       "    </tr>\n",
       "    <tr>\n",
       "      <th>1665</th>\n",
       "      <td>30-34</td>\n",
       "      <td>Man</td>\n",
       "      <td>Colombia</td>\n",
       "      <td>Master’s degree</td>\n",
       "      <td>3-5 years</td>\n",
       "      <td>Python, R, C++</td>\n",
       "      <td>R</td>\n",
       "      <td>Jupyter-JupyterLab-JupyterNotebooks ,RStudio</td>\n",
       "      <td>Kaggle Notebooks,Colab Notebooks</td>\n",
       "      <td>Shiny</td>\n",
       "      <td>Government/Public Service</td>\n",
       "      <td>250-999 employees</td>\n",
       "      <td>20+</td>\n",
       "      <td>Analyze and understand data to influence produ...</td>\n",
       "      <td>Microsoft Power BI</td>\n",
       "      <td>NaN</td>\n",
       "      <td>GitHub,Shiny</td>\n",
       "      <td>Local development environments (RStudio-Jupyte...</td>\n",
       "    </tr>\n",
       "    <tr>\n",
       "      <th>99</th>\n",
       "      <td>35-39</td>\n",
       "      <td>Woman</td>\n",
       "      <td>Australia</td>\n",
       "      <td>Doctoral degree</td>\n",
       "      <td>3-5 years</td>\n",
       "      <td>Python, SQL</td>\n",
       "      <td>SQL</td>\n",
       "      <td>Visual Studio Code (VSCode) ,PyCharm ,Jupyter ...</td>\n",
       "      <td>NaN</td>\n",
       "      <td>Matplotlib ,Seaborn</td>\n",
       "      <td>Computers/Technology</td>\n",
       "      <td>50-249 employees</td>\n",
       "      <td>3-4</td>\n",
       "      <td>Analyze and understand data to influence produ...</td>\n",
       "      <td>NaN</td>\n",
       "      <td>NaN</td>\n",
       "      <td>NaN</td>\n",
       "      <td>Local development environments (RStudio-Jupyte...</td>\n",
       "    </tr>\n",
       "  </tbody>\n",
       "</table>\n",
       "</div>"
      ],
      "text/plain": [
       "        age gender                        q3                 q4          q6   \n",
       "398   35-39    Man  United States of America  Bachelor’s degree  5-10 years  \\\n",
       "1392  25-29    Man      United Arab Emirates  Bachelor’s degree   1-3 years   \n",
       "2294  35-39    Man                  Pakistan    Master’s degree   < 1 years   \n",
       "1665  30-34    Man                  Colombia    Master’s degree   3-5 years   \n",
       "99    35-39  Woman                 Australia    Doctoral degree   3-5 years   \n",
       "\n",
       "                                 q7      q8   \n",
       "398   Python, SQL, Javascript, Bash  Python  \\\n",
       "1392                         Python  Python   \n",
       "2294                    Python, SQL  Python   \n",
       "1665                 Python, R, C++       R   \n",
       "99                      Python, SQL     SQL   \n",
       "\n",
       "                                                     q9   \n",
       "398   Visual Studio ,Visual Studio Code (VSCode) , N...  \\\n",
       "1392                                   Jupyter Notebook   \n",
       "2294                                   Jupyter Notebook   \n",
       "1665      Jupyter-JupyterLab-JupyterNotebooks ,RStudio    \n",
       "99    Visual Studio Code (VSCode) ,PyCharm ,Jupyter ...   \n",
       "\n",
       "                                   q10                    q14   \n",
       "398                    Colab Notebooks   Matplotlib ,Seaborn   \\\n",
       "1392                               NaN   Matplotlib ,Seaborn    \n",
       "2294                             Other   Matplotlib ,Seaborn    \n",
       "1665  Kaggle Notebooks,Colab Notebooks                 Shiny    \n",
       "99                                 NaN   Matplotlib ,Seaborn    \n",
       "\n",
       "                            q20                       q21  q22   \n",
       "398   Manufacturing/Fabrication         250-999 employees  3-4  \\\n",
       "1392  Government/Public Service  10,000 or more employees    0   \n",
       "2294         Accounting/Finance  10,000 or more employees  20+   \n",
       "1665  Government/Public Service         250-999 employees  20+   \n",
       "99         Computers/Technology          50-249 employees  3-4   \n",
       "\n",
       "                                                    q24   \n",
       "398   Analyze and understand data to influence produ...  \\\n",
       "1392  Analyze and understand data to influence produ...   \n",
       "2294  Analyze and understand data to influence produ...   \n",
       "1665  Analyze and understand data to influence produ...   \n",
       "99    Analyze and understand data to influence produ...   \n",
       "\n",
       "                               q34                 q35   \n",
       "398             Microsoft Power BI                 NaN  \\\n",
       "1392   Microsoft Power BI, Tableau             Tableau   \n",
       "2294   Microsoft Power BI, Tableau  Microsoft Power BI   \n",
       "1665            Microsoft Power BI                 NaN   \n",
       "99                             NaN                 NaN   \n",
       "\n",
       "                                  q39   \n",
       "398   I do not share my work publicly  \\\n",
       "1392                           Kaggle   \n",
       "2294  I do not share my work publicly   \n",
       "1665                     GitHub,Shiny   \n",
       "99                                NaN   \n",
       "\n",
       "                                                    q41  \n",
       "398   Local development environments (RStudio-Jupyte...  \n",
       "1392  Basic statistical software (Microsoft Excel-Go...  \n",
       "2294                                              Other  \n",
       "1665  Local development environments (RStudio-Jupyte...  \n",
       "99    Local development environments (RStudio-Jupyte...  "
      ]
     },
     "execution_count": 33,
     "metadata": {},
     "output_type": "execute_result"
    }
   ],
   "source": [
    "df.sample(5)"
   ]
  },
  {
   "cell_type": "code",
   "execution_count": 34,
   "metadata": {},
   "outputs": [],
   "source": [
    "# dict_keys = list(spv.dict_changes.keys())"
   ]
  },
  {
   "cell_type": "code",
   "execution_count": 35,
   "metadata": {},
   "outputs": [],
   "source": [
    "# def limpiar_columna(row):\n",
    "#     if row in dict_keys:\n",
    "#         r = row.replace(spv.dict_changes, regex = True)\n",
    "#         return r\n",
    "#     else:\n",
    "#         return row"
   ]
  },
  {
   "cell_type": "code",
   "execution_count": 36,
   "metadata": {},
   "outputs": [],
   "source": [
    "# hue_cols = []\n",
    "# for col in df.columns:\n",
    "#     if col not in spv.columnas_unidas:\n",
    "#         hue_cols.append(col)\n",
    "#     else:\n",
    "#         pass"
   ]
  },
  {
   "cell_type": "code",
   "execution_count": 37,
   "metadata": {},
   "outputs": [],
   "source": [
    "# for col in spv.columnas_unidas:\n",
    "#     df[col] = df[col].apply(limpiar_columna)"
   ]
  },
  {
   "cell_type": "code",
   "execution_count": 38,
   "metadata": {},
   "outputs": [
    {
     "data": {
      "text/html": [
       "<div>\n",
       "<style scoped>\n",
       "    .dataframe tbody tr th:only-of-type {\n",
       "        vertical-align: middle;\n",
       "    }\n",
       "\n",
       "    .dataframe tbody tr th {\n",
       "        vertical-align: top;\n",
       "    }\n",
       "\n",
       "    .dataframe thead th {\n",
       "        text-align: right;\n",
       "    }\n",
       "</style>\n",
       "<table border=\"1\" class=\"dataframe\">\n",
       "  <thead>\n",
       "    <tr style=\"text-align: right;\">\n",
       "      <th></th>\n",
       "      <th>age</th>\n",
       "      <th>gender</th>\n",
       "      <th>q3</th>\n",
       "      <th>q4</th>\n",
       "      <th>q6</th>\n",
       "      <th>q7</th>\n",
       "      <th>q8</th>\n",
       "      <th>q9</th>\n",
       "      <th>q10</th>\n",
       "      <th>q14</th>\n",
       "      <th>q20</th>\n",
       "      <th>q21</th>\n",
       "      <th>q22</th>\n",
       "      <th>q24</th>\n",
       "      <th>q34</th>\n",
       "      <th>q35</th>\n",
       "      <th>q39</th>\n",
       "      <th>q41</th>\n",
       "    </tr>\n",
       "  </thead>\n",
       "  <tbody>\n",
       "    <tr>\n",
       "      <th>792</th>\n",
       "      <td>22-24</td>\n",
       "      <td>Woman</td>\n",
       "      <td>India</td>\n",
       "      <td>Professional doctorate</td>\n",
       "      <td>I have never written code</td>\n",
       "      <td>NaN</td>\n",
       "      <td>NaN</td>\n",
       "      <td>NaN</td>\n",
       "      <td>NaN</td>\n",
       "      <td>NaN</td>\n",
       "      <td>Medical/Pharmaceutical</td>\n",
       "      <td>1000-9,999 employees</td>\n",
       "      <td>20+</td>\n",
       "      <td>None of these activities are an important par...</td>\n",
       "      <td>NaN</td>\n",
       "      <td>NaN</td>\n",
       "      <td>NaN</td>\n",
       "      <td>Advanced statistical software (SPSS-SAS)</td>\n",
       "    </tr>\n",
       "    <tr>\n",
       "      <th>1933</th>\n",
       "      <td>22-24</td>\n",
       "      <td>Man</td>\n",
       "      <td>Bangladesh</td>\n",
       "      <td>Bachelor’s degree</td>\n",
       "      <td>&lt; 1 years</td>\n",
       "      <td>Python, R</td>\n",
       "      <td>Python</td>\n",
       "      <td>RStudio ,Jupyter Notebook</td>\n",
       "      <td>Kaggle Notebooks</td>\n",
       "      <td>Matplotlib</td>\n",
       "      <td>Non-profit/Service</td>\n",
       "      <td>0-49 employees</td>\n",
       "      <td>0</td>\n",
       "      <td>Analyze and understand data to influence produ...</td>\n",
       "      <td>NaN</td>\n",
       "      <td>NaN</td>\n",
       "      <td>NaN</td>\n",
       "      <td>NaN</td>\n",
       "    </tr>\n",
       "  </tbody>\n",
       "</table>\n",
       "</div>"
      ],
      "text/plain": [
       "        age gender          q3                      q4   \n",
       "792   22-24  Woman       India  Professional doctorate  \\\n",
       "1933  22-24    Man  Bangladesh       Bachelor’s degree   \n",
       "\n",
       "                             q6         q7      q8                         q9   \n",
       "792   I have never written code        NaN     NaN                        NaN  \\\n",
       "1933                  < 1 years  Python, R  Python  RStudio ,Jupyter Notebook   \n",
       "\n",
       "                   q10           q14                     q20   \n",
       "792                NaN           NaN  Medical/Pharmaceutical  \\\n",
       "1933  Kaggle Notebooks   Matplotlib       Non-profit/Service   \n",
       "\n",
       "                       q21  q22   \n",
       "792   1000-9,999 employees  20+  \\\n",
       "1933        0-49 employees    0   \n",
       "\n",
       "                                                    q24  q34  q35  q39   \n",
       "792    None of these activities are an important par...  NaN  NaN  NaN  \\\n",
       "1933  Analyze and understand data to influence produ...  NaN  NaN  NaN   \n",
       "\n",
       "                                           q41  \n",
       "792   Advanced statistical software (SPSS-SAS)  \n",
       "1933                                       NaN  "
      ]
     },
     "execution_count": 38,
     "metadata": {},
     "output_type": "execute_result"
    }
   ],
   "source": [
    "df.sample(2)"
   ]
  },
  {
   "cell_type": "code",
   "execution_count": 39,
   "metadata": {},
   "outputs": [],
   "source": [
    "for col in spv.columnas_unidas:\n",
    "    df[col] = df[col].str.split(',')"
   ]
  },
  {
   "cell_type": "code",
   "execution_count": 40,
   "metadata": {},
   "outputs": [
    {
     "data": {
      "text/html": [
       "<div>\n",
       "<style scoped>\n",
       "    .dataframe tbody tr th:only-of-type {\n",
       "        vertical-align: middle;\n",
       "    }\n",
       "\n",
       "    .dataframe tbody tr th {\n",
       "        vertical-align: top;\n",
       "    }\n",
       "\n",
       "    .dataframe thead th {\n",
       "        text-align: right;\n",
       "    }\n",
       "</style>\n",
       "<table border=\"1\" class=\"dataframe\">\n",
       "  <thead>\n",
       "    <tr style=\"text-align: right;\">\n",
       "      <th></th>\n",
       "      <th>0</th>\n",
       "      <th>1</th>\n",
       "      <th>2</th>\n",
       "      <th>3</th>\n",
       "      <th>4</th>\n",
       "      <th>5</th>\n",
       "      <th>6</th>\n",
       "      <th>7</th>\n",
       "      <th>8</th>\n",
       "      <th>9</th>\n",
       "      <th>10</th>\n",
       "      <th>11</th>\n",
       "      <th>12</th>\n",
       "      <th>13</th>\n",
       "      <th>14</th>\n",
       "      <th>15</th>\n",
       "      <th>16</th>\n",
       "      <th>17</th>\n",
       "    </tr>\n",
       "  </thead>\n",
       "  <tbody>\n",
       "    <tr>\n",
       "      <th>index</th>\n",
       "      <td>age</td>\n",
       "      <td>gender</td>\n",
       "      <td>q3</td>\n",
       "      <td>q4</td>\n",
       "      <td>q6</td>\n",
       "      <td>q7</td>\n",
       "      <td>q8</td>\n",
       "      <td>q9</td>\n",
       "      <td>q10</td>\n",
       "      <td>q14</td>\n",
       "      <td>q20</td>\n",
       "      <td>q21</td>\n",
       "      <td>q22</td>\n",
       "      <td>q24</td>\n",
       "      <td>q34</td>\n",
       "      <td>q35</td>\n",
       "      <td>q39</td>\n",
       "      <td>q41</td>\n",
       "    </tr>\n",
       "    <tr>\n",
       "      <th>0</th>\n",
       "      <td>0</td>\n",
       "      <td>0</td>\n",
       "      <td>0</td>\n",
       "      <td>0</td>\n",
       "      <td>0</td>\n",
       "      <td>143</td>\n",
       "      <td>154</td>\n",
       "      <td>146</td>\n",
       "      <td>809</td>\n",
       "      <td>193</td>\n",
       "      <td>114</td>\n",
       "      <td>130</td>\n",
       "      <td>150</td>\n",
       "      <td>227</td>\n",
       "      <td>1069</td>\n",
       "      <td>1858</td>\n",
       "      <td>1099</td>\n",
       "      <td>533</td>\n",
       "    </tr>\n",
       "  </tbody>\n",
       "</table>\n",
       "</div>"
      ],
      "text/plain": [
       "        0       1   2   3   4    5    6    7    8    9    10   11   12   13   \n",
       "index  age  gender  q3  q4  q6   q7   q8   q9  q10  q14  q20  q21  q22  q24  \\\n",
       "0        0       0   0   0   0  143  154  146  809  193  114  130  150  227   \n",
       "\n",
       "         14    15    16   17  \n",
       "index   q34   q35   q39  q41  \n",
       "0      1069  1858  1099  533  "
      ]
     },
     "execution_count": 40,
     "metadata": {},
     "output_type": "execute_result"
    }
   ],
   "source": [
    "df.isnull().sum().reset_index().T"
   ]
  },
  {
   "cell_type": "code",
   "execution_count": 41,
   "metadata": {},
   "outputs": [],
   "source": [
    "df.to_csv('../resultados/df_da_relevante_limpio.csv')"
   ]
  },
  {
   "cell_type": "code",
   "execution_count": 42,
   "metadata": {},
   "outputs": [
    {
     "data": {
      "text/plain": [
       "Index(['age', 'gender', 'q3', 'q4', 'q6', 'q7', 'q8', 'q9', 'q10', 'q14',\n",
       "       'q20', 'q21', 'q22', 'q24', 'q34', 'q35', 'q39', 'q41'],\n",
       "      dtype='object')"
      ]
     },
     "execution_count": 42,
     "metadata": {},
     "output_type": "execute_result"
    }
   ],
   "source": [
    "df.columns"
   ]
  },
  {
   "cell_type": "code",
   "execution_count": 43,
   "metadata": {},
   "outputs": [
    {
     "data": {
      "text/plain": [
       "['q7', 'q9', 'q10', 'q14', 'q20', 'q24', 'q39', 'q41']"
      ]
     },
     "execution_count": 43,
     "metadata": {},
     "output_type": "execute_result"
    }
   ],
   "source": [
    "spv.columnas_unidas"
   ]
  },
  {
   "cell_type": "code",
   "execution_count": 44,
   "metadata": {},
   "outputs": [],
   "source": [
    "df_q7 = df[['age', 'gender', 'q3', 'q4', 'q6', 'q7', 'q8', 'q21', 'q22', 'q34', 'q35']]\n",
    "df_q9 = df[['age', 'gender', 'q3', 'q4', 'q6', 'q8', 'q9', 'q21', 'q22', 'q34', 'q35']]\n",
    "df_q10 = df[['age', 'gender', 'q3', 'q4', 'q6', 'q8', 'q10', 'q21', 'q22', 'q34', 'q35']]\n",
    "df_q14 = df[['age', 'gender', 'q3', 'q4', 'q6', 'q8', 'q14', 'q21', 'q22', 'q34', 'q35']]\n",
    "df_q20 = df[['age', 'gender', 'q3', 'q4', 'q6', 'q8', 'q20', 'q21', 'q22', 'q34', 'q35']]\n",
    "df_q24 = df[['age', 'gender', 'q3', 'q4', 'q6', 'q8', 'q21', 'q22', 'q24', 'q34', 'q35']]\n",
    "df_q39 = df[['age', 'gender', 'q3', 'q4', 'q6', 'q8', 'q21', 'q22', 'q34', 'q35', 'q39']]\n",
    "df_q41 = df[['age', 'gender', 'q3', 'q4', 'q6', 'q8', 'q21', 'q22', 'q34', 'q35', 'q41']]"
   ]
  },
  {
   "cell_type": "code",
   "execution_count": 45,
   "metadata": {},
   "outputs": [],
   "source": [
    "df_q7 = df.explode('q7')\n",
    "df_q9 = df.explode('q9')\n",
    "df_q10 = df.explode('q10')\n",
    "df_q14 = df.explode('q14')\n",
    "df_q20 = df.explode('q20')\n",
    "df_q24 = df.explode('q24')\n",
    "df_q39 = df.explode('q39')\n",
    "df_q41 = df.explode('q41')"
   ]
  },
  {
   "cell_type": "code",
   "execution_count": 60,
   "metadata": {},
   "outputs": [
    {
     "data": {
      "text/html": [
       "<div>\n",
       "<style scoped>\n",
       "    .dataframe tbody tr th:only-of-type {\n",
       "        vertical-align: middle;\n",
       "    }\n",
       "\n",
       "    .dataframe tbody tr th {\n",
       "        vertical-align: top;\n",
       "    }\n",
       "\n",
       "    .dataframe thead th {\n",
       "        text-align: right;\n",
       "    }\n",
       "</style>\n",
       "<table border=\"1\" class=\"dataframe\">\n",
       "  <thead>\n",
       "    <tr style=\"text-align: right;\">\n",
       "      <th></th>\n",
       "      <th>age</th>\n",
       "      <th>gender</th>\n",
       "      <th>q3</th>\n",
       "      <th>q4</th>\n",
       "      <th>q6</th>\n",
       "      <th>q7</th>\n",
       "      <th>q8</th>\n",
       "      <th>q9</th>\n",
       "      <th>q10</th>\n",
       "      <th>q14</th>\n",
       "      <th>q20</th>\n",
       "      <th>q21</th>\n",
       "      <th>q22</th>\n",
       "      <th>q24</th>\n",
       "      <th>q34</th>\n",
       "      <th>q35</th>\n",
       "      <th>q39</th>\n",
       "      <th>q41</th>\n",
       "    </tr>\n",
       "  </thead>\n",
       "  <tbody>\n",
       "    <tr>\n",
       "      <th>184</th>\n",
       "      <td>40-44</td>\n",
       "      <td>Man</td>\n",
       "      <td>Nigeria</td>\n",
       "      <td>Bachelor’s degree</td>\n",
       "      <td>1-3 years</td>\n",
       "      <td>Python</td>\n",
       "      <td>Python</td>\n",
       "      <td>[PyCharm ,  Spyder,  Sublime Text, Jupyter Not...</td>\n",
       "      <td>NaN</td>\n",
       "      <td>[ Matplotlib , Seaborn ]</td>\n",
       "      <td>[Retail/Sales]</td>\n",
       "      <td>250-999 employees</td>\n",
       "      <td>1-2</td>\n",
       "      <td>[Analyze and understand data to influence prod...</td>\n",
       "      <td>NaN</td>\n",
       "      <td>NaN</td>\n",
       "      <td>NaN</td>\n",
       "      <td>[Business intelligence software (Salesforce-Ta...</td>\n",
       "    </tr>\n",
       "    <tr>\n",
       "      <th>1232</th>\n",
       "      <td>18-21</td>\n",
       "      <td>Man</td>\n",
       "      <td>Nigeria</td>\n",
       "      <td>Bachelor’s degree</td>\n",
       "      <td>&lt; 1 years</td>\n",
       "      <td>SQL</td>\n",
       "      <td>Python</td>\n",
       "      <td>[Jupyter Notebook]</td>\n",
       "      <td>[Kaggle Notebooks, Google Cloud Datalab]</td>\n",
       "      <td>[ Matplotlib , Seaborn ]</td>\n",
       "      <td>[Accounting/Finance]</td>\n",
       "      <td>0-49 employees</td>\n",
       "      <td>1-2</td>\n",
       "      <td>[Analyze and understand data to influence prod...</td>\n",
       "      <td>NaN</td>\n",
       "      <td>NaN</td>\n",
       "      <td>NaN</td>\n",
       "      <td>NaN</td>\n",
       "    </tr>\n",
       "    <tr>\n",
       "      <th>555</th>\n",
       "      <td>25-29</td>\n",
       "      <td>Man</td>\n",
       "      <td>Morocco</td>\n",
       "      <td>Master’s degree</td>\n",
       "      <td>5-10 years</td>\n",
       "      <td>Python</td>\n",
       "      <td>Python</td>\n",
       "      <td>[Visual Studio Code (VSCode) ]</td>\n",
       "      <td>[Colab Notebooks]</td>\n",
       "      <td>[ Matplotlib , Seaborn , Plotly / Plotly Expre...</td>\n",
       "      <td>[Energy/Mining]</td>\n",
       "      <td>0-49 employees</td>\n",
       "      <td>1-2</td>\n",
       "      <td>[Analyze and understand data to influence prod...</td>\n",
       "      <td>None</td>\n",
       "      <td>NaN</td>\n",
       "      <td>[I do not share my work publicly]</td>\n",
       "      <td>[Local development environments (RStudio-Jupyt...</td>\n",
       "    </tr>\n",
       "  </tbody>\n",
       "</table>\n",
       "</div>"
      ],
      "text/plain": [
       "        age gender       q3                 q4          q6      q7      q8   \n",
       "184   40-44    Man  Nigeria  Bachelor’s degree   1-3 years  Python  Python  \\\n",
       "1232  18-21    Man  Nigeria  Bachelor’s degree   < 1 years     SQL  Python   \n",
       "555   25-29    Man  Morocco    Master’s degree  5-10 years  Python  Python   \n",
       "\n",
       "                                                     q9   \n",
       "184   [PyCharm ,  Spyder,  Sublime Text, Jupyter Not...  \\\n",
       "1232                                 [Jupyter Notebook]   \n",
       "555                      [Visual Studio Code (VSCode) ]   \n",
       "\n",
       "                                           q10   \n",
       "184                                        NaN  \\\n",
       "1232  [Kaggle Notebooks, Google Cloud Datalab]   \n",
       "555                          [Colab Notebooks]   \n",
       "\n",
       "                                                    q14                   q20   \n",
       "184                            [ Matplotlib , Seaborn ]        [Retail/Sales]  \\\n",
       "1232                           [ Matplotlib , Seaborn ]  [Accounting/Finance]   \n",
       "555   [ Matplotlib , Seaborn , Plotly / Plotly Expre...       [Energy/Mining]   \n",
       "\n",
       "                    q21  q22   \n",
       "184   250-999 employees  1-2  \\\n",
       "1232     0-49 employees  1-2   \n",
       "555      0-49 employees  1-2   \n",
       "\n",
       "                                                    q24    q34  q35   \n",
       "184   [Analyze and understand data to influence prod...    NaN  NaN  \\\n",
       "1232  [Analyze and understand data to influence prod...    NaN  NaN   \n",
       "555   [Analyze and understand data to influence prod...   None  NaN   \n",
       "\n",
       "                                    q39   \n",
       "184                                 NaN  \\\n",
       "1232                                NaN   \n",
       "555   [I do not share my work publicly]   \n",
       "\n",
       "                                                    q41  \n",
       "184   [Business intelligence software (Salesforce-Ta...  \n",
       "1232                                                NaN  \n",
       "555   [Local development environments (RStudio-Jupyt...  "
      ]
     },
     "execution_count": 60,
     "metadata": {},
     "output_type": "execute_result"
    }
   ],
   "source": [
    "df_q7.sample(3)"
   ]
  },
  {
   "cell_type": "code",
   "execution_count": null,
   "metadata": {},
   "outputs": [],
   "source": []
  },
  {
   "cell_type": "code",
   "execution_count": 56,
   "metadata": {},
   "outputs": [
    {
     "data": {
      "text/plain": [
       "0            Python\n",
       "0               SQL\n",
       "1                 R\n",
       "2            Python\n",
       "3            Python\n",
       "           ...     \n",
       "2299              C\n",
       "2300         Python\n",
       "2300            SQL\n",
       "2300     Javascript\n",
       "2300           Bash\n",
       "Name: q7, Length: 5430, dtype: object"
      ]
     },
     "execution_count": 56,
     "metadata": {},
     "output_type": "execute_result"
    }
   ],
   "source": [
    "df_q7['q7']"
   ]
  },
  {
   "cell_type": "code",
   "execution_count": 63,
   "metadata": {},
   "outputs": [],
   "source": [
    "mask = df_q7['q3'].isin(spv.lista_europa)\n",
    "df_europa = df_q7[mask]\n"
   ]
  },
  {
   "cell_type": "code",
   "execution_count": 66,
   "metadata": {},
   "outputs": [
    {
     "data": {
      "text/plain": [
       "<AxesSubplot:xlabel='count', ylabel='q7'>"
      ]
     },
     "execution_count": 66,
     "metadata": {},
     "output_type": "execute_result"
    },
    {
     "data": {
      "image/png": "[encoded data removed]",
      "text/plain": [
       "<Figure size 720x720 with 1 Axes>"
      ]
     },
     "metadata": {
      "needs_background": "light"
     },
     "output_type": "display_data"
    }
   ],
   "source": [
    "plt.figure(figsize = (10,10))\n",
    "sns.countplot(y = 'q7', hue = 'q3', data = df_europa, palette = 'Set2')"
   ]
  },
  {
   "cell_type": "code",
   "execution_count": 61,
   "metadata": {},
   "outputs": [
    {
     "data": {
      "text/plain": [
       "<AxesSubplot:xlabel='count', ylabel='q7'>"
      ]
     },
     "execution_count": 61,
     "metadata": {},
     "output_type": "execute_result"
    },
    {
     "data": {
      "image/png": "[encoded data removed]",
      "text/plain": [
       "<Figure size 720x720 with 1 Axes>"
      ]
     },
     "metadata": {
      "needs_background": "light"
     },
     "output_type": "display_data"
    }
   ],
   "source": [
    "plt.figure(figsize = (10,10))\n",
    "sns.countplot(y = 'q7', data = df_q7,hue = 'q4', palette = 'Set2')"
   ]
  },
  {
   "cell_type": "code",
   "execution_count": null,
   "metadata": {},
   "outputs": [],
   "source": []
  },
  {
   "cell_type": "code",
   "execution_count": 48,
   "metadata": {},
   "outputs": [
    {
     "data": {
      "text/plain": [
       "<AxesSubplot:xlabel='count', ylabel='q9'>"
      ]
     },
     "execution_count": 48,
     "metadata": {},
     "output_type": "execute_result"
    },
    {
     "data": {
      "image/png": "[encoded data removed]",
      "text/plain": [
       "<Figure size 720x720 with 1 Axes>"
      ]
     },
     "metadata": {
      "needs_background": "light"
     },
     "output_type": "display_data"
    }
   ],
   "source": [
    "plt.figure(figsize = (10,10))\n",
    "sns.countplot(y = 'q9', data = df_q9)"
   ]
  },
  {
   "cell_type": "code",
   "execution_count": 49,
   "metadata": {},
   "outputs": [
    {
     "data": {
      "text/plain": [
       "<AxesSubplot:xlabel='count', ylabel='q24'>"
      ]
     },
     "execution_count": 49,
     "metadata": {},
     "output_type": "execute_result"
    },
    {
     "data": {
      "image/png": "[encoded data removed]",
      "text/plain": [
       "<Figure size 720x720 with 1 Axes>"
      ]
     },
     "metadata": {
      "needs_background": "light"
     },
     "output_type": "display_data"
    }
   ],
   "source": [
    "plt.figure(figsize = (10,10))\n",
    "sns.countplot(y = 'q24', data = df_q24)"
   ]
  },
  {
   "cell_type": "code",
   "execution_count": 50,
   "metadata": {},
   "outputs": [
    {
     "data": {
      "text/plain": [
       "<AxesSubplot:xlabel='count', ylabel='q39'>"
      ]
     },
     "execution_count": 50,
     "metadata": {},
     "output_type": "execute_result"
    },
    {
     "data": {
      "image/png": "[encoded data removed]",
      "text/plain": [
       "<Figure size 720x720 with 1 Axes>"
      ]
     },
     "metadata": {
      "needs_background": "light"
     },
     "output_type": "display_data"
    }
   ],
   "source": [
    "plt.figure(figsize = (10,10))\n",
    "sns.countplot(y = 'q39', data = df_q39)"
   ]
  },
  {
   "cell_type": "code",
   "execution_count": 51,
   "metadata": {},
   "outputs": [
    {
     "data": {
      "text/plain": [
       "<AxesSubplot:xlabel='count', ylabel='q41'>"
      ]
     },
     "execution_count": 51,
     "metadata": {},
     "output_type": "execute_result"
    },
    {
     "data": {
      "image/png": "[encoded data removed]",
      "text/plain": [
       "<Figure size 720x720 with 1 Axes>"
      ]
     },
     "metadata": {
      "needs_background": "light"
     },
     "output_type": "display_data"
    }
   ],
   "source": [
    "plt.figure(figsize = (10,10))\n",
    "sns.countplot(y = 'q41', data = df_q41)"
   ]
  },
  {
   "cell_type": "code",
   "execution_count": 52,
   "metadata": {},
   "outputs": [
    {
     "data": {
      "text/plain": [
       "<AxesSubplot:xlabel='count', ylabel='q9'>"
      ]
     },
     "execution_count": 52,
     "metadata": {},
     "output_type": "execute_result"
    },
    {
     "data": {
      "image/png": "[encoded data removed]",
      "text/plain": [
       "<Figure size 720x720 with 1 Axes>"
      ]
     },
     "metadata": {
      "needs_background": "light"
     },
     "output_type": "display_data"
    }
   ],
   "source": [
    "plt.figure(figsize = (10,10))\n",
    "sns.countplot(y = 'q9', data = df_q9)"
   ]
  },
  {
   "cell_type": "code",
   "execution_count": 53,
   "metadata": {},
   "outputs": [
    {
     "data": {
      "text/plain": [
       "<AxesSubplot:xlabel='count', ylabel='q14'>"
      ]
     },
     "execution_count": 53,
     "metadata": {},
     "output_type": "execute_result"
    },
    {
     "data": {
      "image/png": "[encoded data removed]",
      "text/plain": [
       "<Figure size 1080x1080 with 1 Axes>"
      ]
     },
     "metadata": {
      "needs_background": "light"
     },
     "output_type": "display_data"
    }
   ],
   "source": [
    "plt.figure(figsize = (15,15))\n",
    "sns.countplot(y = 'q14', data = df_q14)"
   ]
  },
  {
   "cell_type": "code",
   "execution_count": null,
   "metadata": {},
   "outputs": [],
   "source": []
  },
  {
   "cell_type": "code",
   "execution_count": null,
   "metadata": {},
   "outputs": [],
   "source": []
  },
  {
   "cell_type": "code",
   "execution_count": null,
   "metadata": {},
   "outputs": [],
   "source": []
  },
  {
   "cell_type": "code",
   "execution_count": null,
   "metadata": {},
   "outputs": [],
   "source": [
    "df_explode.head()"
   ]
  },
  {
   "cell_type": "code",
   "execution_count": null,
   "metadata": {},
   "outputs": [],
   "source": [
    "df_explode.sample(5)"
   ]
  },
  {
   "cell_type": "code",
   "execution_count": null,
   "metadata": {},
   "outputs": [],
   "source": [
    "# df[\"q7\"] = df[\"q7\"].str.split(',')"
   ]
  },
  {
   "cell_type": "code",
   "execution_count": null,
   "metadata": {},
   "outputs": [],
   "source": [
    "df.sample(3)"
   ]
  },
  {
   "cell_type": "code",
   "execution_count": null,
   "metadata": {},
   "outputs": [],
   "source": [
    "# df[\"q7\"].drop_duplicates(inplace=True)\n",
    "# df[\"q7\"] = df[\"q7\"].explode()"
   ]
  },
  {
   "cell_type": "code",
   "execution_count": null,
   "metadata": {},
   "outputs": [],
   "source": [
    "# for q in lista_qs_exp:\n",
    "#     df[q] = df[q].str.split(',')\n",
    "#     df[q] = df[q].explode(q)\n"
   ]
  },
  {
   "cell_type": "code",
   "execution_count": null,
   "metadata": {},
   "outputs": [],
   "source": [
    "# Dividimos las respuestas de la pregunta q7 por la ','\n",
    "# for con in \n",
    "# df[\"q7\"] = df[\"q7\"].str.split(\",\")\n",
    "# df_q7 = df_ana2.explode(\"q7\")\n",
    "# sns.countplot(x = \"q7\", data = df_q7, hue = \"q6\")"
   ]
  },
  {
   "cell_type": "code",
   "execution_count": null,
   "metadata": {},
   "outputs": [],
   "source": [
    "df.isnull().sum()/df.shape[0]"
   ]
  },
  {
   "cell_type": "code",
   "execution_count": null,
   "metadata": {},
   "outputs": [],
   "source": [
    "# #probamos rename\n",
    "# def renombrar_columnas(dataframe,inicio,final,num_q):\n",
    "#     nom_col = {}\n",
    "#     for col in dataframe.columns[inicio : final+1]:\n",
    "#         try: \n",
    "#             for i in dataframe[col].unique():\n",
    "#                 i = str(i) \n",
    "#                 if i != 'nan':\n",
    "#                     i = i.strip().replace(' ', '_')\n",
    "#                     nom_col[col] = f'q{num_q}_{i}'\n",
    "#                 else:\n",
    "#                     pass\n",
    "#         except:\n",
    "#             print('estoy en el except con la columna {col} , elemento {i}')\n",
    "            \n",
    "#     renombrado = dataframe.rename(columns = nom_col)\n",
    "    \n",
    "#     return renombrado"
   ]
  },
  {
   "cell_type": "code",
   "execution_count": null,
   "metadata": {},
   "outputs": [],
   "source": [
    "df = renombrar_columnas(df, 8, 24, 10)\n"
   ]
  },
  {
   "cell_type": "code",
   "execution_count": null,
   "metadata": {},
   "outputs": [],
   "source": [
    "df.sample(3)"
   ]
  },
  {
   "cell_type": "code",
   "execution_count": null,
   "metadata": {},
   "outputs": [],
   "source": [
    "df = renombrar_columnas(df, 28, 37, 39)"
   ]
  },
  {
   "cell_type": "code",
   "execution_count": null,
   "metadata": {},
   "outputs": [],
   "source": [
    "df.columns"
   ]
  },
  {
   "cell_type": "code",
   "execution_count": null,
   "metadata": {},
   "outputs": [],
   "source": [
    "df_ana = df.copy()\n",
    "df_ana.head(2)"
   ]
  },
  {
   "cell_type": "code",
   "execution_count": null,
   "metadata": {},
   "outputs": [],
   "source": [
    "df_ana.columns"
   ]
  },
  {
   "cell_type": "code",
   "execution_count": null,
   "metadata": {},
   "outputs": [],
   "source": [
    "df_ana2 = df_ana[['age', 'gender', 'q3', 'q4', 'q6', 'q7', 'q8', 'q9']]\n",
    "df_ana2.head(2)"
   ]
  },
  {
   "cell_type": "code",
   "execution_count": null,
   "metadata": {},
   "outputs": [],
   "source": [
    "df_ana2[\"q7\"] = df_ana2[\"q7\"].str.split(\",\")"
   ]
  },
  {
   "cell_type": "code",
   "execution_count": null,
   "metadata": {},
   "outputs": [],
   "source": [
    "df_ana2.head(2)"
   ]
  },
  {
   "cell_type": "code",
   "execution_count": null,
   "metadata": {},
   "outputs": [],
   "source": [
    "df_q7 = df_ana2.explode(\"q7\")\n",
    "df_q7.head()"
   ]
  },
  {
   "cell_type": "code",
   "execution_count": null,
   "metadata": {},
   "outputs": [],
   "source": [
    "sns.countplot(x = \"q7\", data = df_q7, hue = \"q6\")"
   ]
  },
  {
   "cell_type": "code",
   "execution_count": null,
   "metadata": {},
   "outputs": [],
   "source": [
    "#funcion para cambiar los nans\n",
    "def yes_no(dataframe, inicio, final):\n",
    "    for col in dataframe.columns[inicio:(final+1)]:\n",
    "        dataframe[col] = dataframe[col].apply(lambda data: np.where(type(data) != float, 'yes', 'no'))\n",
    "    return dataframe"
   ]
  },
  {
   "cell_type": "code",
   "execution_count": null,
   "metadata": {},
   "outputs": [],
   "source": [
    "df = yes_no(df, 8, 24)"
   ]
  },
  {
   "cell_type": "code",
   "execution_count": null,
   "metadata": {},
   "outputs": [],
   "source": [
    "df = yes_no(df, 28, 37)"
   ]
  },
  {
   "cell_type": "code",
   "execution_count": null,
   "metadata": {},
   "outputs": [],
   "source": [
    "df.sample(3)"
   ]
  },
  {
   "cell_type": "code",
   "execution_count": null,
   "metadata": {},
   "outputs": [],
   "source": [
    "df.isnull().sum().reset_index().T"
   ]
  },
  {
   "cell_type": "code",
   "execution_count": null,
   "metadata": {},
   "outputs": [],
   "source": [
    "q7_responses = ['Python', 'R', 'SQL', 'C', 'C++', 'Java', 'Javascript', 'Julia', 'Swift', 'Bash', 'MATLAB', 'None', 'Other']"
   ]
  },
  {
   "cell_type": "code",
   "execution_count": null,
   "metadata": {},
   "outputs": [],
   "source": [
    "# def sacar_herramienta(col):\n",
    "    \n",
    "#     try:\n",
    "#         if re.findall(patron, col):\n",
    "#             return 'yes'\n",
    "#         else:\n",
    "#             return 'no'\n",
    "#     except:\n",
    "#         return 'unknown'\n"
   ]
  },
  {
   "cell_type": "code",
   "execution_count": null,
   "metadata": {},
   "outputs": [],
   "source": [
    "def sacar_herramienta(col):\n",
    "    \n",
    "    try:\n",
    "        if re.findall(patron, col):\n",
    "            return 1\n",
    "        else:\n",
    "            return 0\n",
    "    except:\n",
    "        return np.nan"
   ]
  },
  {
   "cell_type": "code",
   "execution_count": null,
   "metadata": {},
   "outputs": [],
   "source": [
    "for patron in q7_responses:\n",
    "    df[f'q7_{patron}'] = df['q7'].apply(sacar_herramienta)\n",
    "\n",
    "df.drop(columns = 'q7', inplace = True)"
   ]
  },
  {
   "cell_type": "code",
   "execution_count": null,
   "metadata": {},
   "outputs": [],
   "source": [
    "df.head(2)"
   ]
  },
  {
   "cell_type": "code",
   "execution_count": null,
   "metadata": {},
   "outputs": [],
   "source": [
    "q9_responses = ['JupyterLab', 'RStudio', 'Visual Studio', 'Visual Studio Code (VSCode)', 'PyCharm', 'Spyder', 'Notepad++', 'Sublime Text', 'Vim, Emacs or similar', 'MATLAB', 'Jupyter Notebook', 'None', 'Other']"
   ]
  },
  {
   "cell_type": "code",
   "execution_count": null,
   "metadata": {},
   "outputs": [],
   "source": [
    "for patron in q9_responses:\n",
    "    df[f'q9_{patron}'] = df['q9'].apply(sacar_herramienta)\n",
    "df.drop(columns = 'q9', inplace = True)"
   ]
  },
  {
   "cell_type": "code",
   "execution_count": null,
   "metadata": {},
   "outputs": [],
   "source": [
    "q14_responses = ['Seaborn', 'Plotly / Plotly Express', 'Ggplot / ggplot2', 'Shiny', 'D3 js', 'Altair', 'Bokeh', 'Geoplotlib', 'Leaflet / Folium', 'None', 'Other']\n",
    "for patron in q14_responses:\n",
    "    df[f'q14_{patron}'] = df['q14'].apply(sacar_herramienta)\n",
    "\n",
    "df.drop(columns = 'q14', inplace = True)"
   ]
  },
  {
   "cell_type": "code",
   "execution_count": null,
   "metadata": {},
   "outputs": [],
   "source": [
    "q41_responses = ['Basic statistical software (Microsoft Excel, Google Sheets, etc.)', 'Advanced statistical software (SPSS, SAS, etc.)', \n",
    "                 'Business intelligence software (Salesforce, Tableau, Spotfire, etc.)', 'Local development environments (RStudio, JupyterLab, etc.)', \n",
    "                 'Cloud-based data software & APIs (AWS, GCP, Azure, etc.)', 'Other']\n",
    "for patron in q14_responses:\n",
    "    df[f'q41_{patron}'] = df['q41'].apply(sacar_herramienta)\n",
    "\n",
    "df.drop(columns = 'q41', inplace = True)"
   ]
  },
  {
   "cell_type": "code",
   "execution_count": null,
   "metadata": {},
   "outputs": [],
   "source": [
    "df.sample(3)"
   ]
  },
  {
   "cell_type": "code",
   "execution_count": null,
   "metadata": {},
   "outputs": [],
   "source": [
    "orden = ['age', 'gender', 'q3', 'q4', 'q6', 'q7_Python', 'q7_R', 'q7_SQL', 'q7_C', 'q7_C++', 'q7_Java', 'q7_Javascript', 'q7_Julia','q7_Swift', 'q7_Bash', 'q7_MATLAB', \n",
    "         'q7_None', 'q7_Other','q8', 'q9_JupyterLab', 'q9_RStudio', 'q9_Visual Studio','q9_Visual Studio Code (VSCode)', 'q9_PyCharm', 'q9_Spyder','q9_Notepad++', \n",
    "         'q9_Sublime Text', 'q9_Vim, Emacs or similar', 'q9_MATLAB', 'q9_Jupyter Notebook', 'q9_None', 'q9_Other','q10_Kaggle_Notebooks','q10_Colab_Notebooks', 'q10_Azure_Notebooks',\n",
    "         'q10_Paperspace_/_Gradient', 'q10_Binder_/_JupyterHub', 'q10_Code_Ocean', 'q10_IBM_Watson_Studio', 'q10_Amazon_Sagemaker_Studio_Notebooks', 'q10_Amazon_EMR_Notebooks',\n",
    "         'q10_Google_Cloud_Notebooks_(AI_Platform_/_Vertex_AI)', 'q10_Google_Cloud_Datalab', 'q10_Databricks_Collaborative_Notebooks', 'q10_Zeppelin_/_Zepl_Notebooks', 'q10_Deepnote_Notebooks',\n",
    "         'q10_Observable_Notebooks', 'q10_None', 'q10_Other', 'q14_Seaborn', 'q14_Plotly / Plotly Express', 'q14_Ggplot / ggplot2', 'q14_Shiny', 'q14_D3 js', 'q14_Altair', 'q14_Bokeh', \n",
    "         'q14_Geoplotlib','q14_Leaflet / Folium', 'q14_None', 'q14_Other','q34', 'q35', 'q39_Plotly_Dash', 'q39_Streamlit', 'q39_NBViewer', 'q39_GitHub', 'q39_Personal_blog', 'q39_Kaggle', \n",
    "         'q39_Colab', 'q39_Shiny', 'q39_I_do_not_share_my_work_publicly', 'q39_Other', 'q41_Seaborn', 'q41_Plotly / Plotly Express', 'q41_Ggplot / ggplot2', 'q41_Shiny', 'q41_D3 js', \n",
    "         'q41_Altair', 'q41_Bokeh', 'q41_Geoplotlib', 'q41_Leaflet / Folium', 'q41_None', 'q41_Other']"
   ]
  },
  {
   "cell_type": "code",
   "execution_count": null,
   "metadata": {},
   "outputs": [],
   "source": [
    "df = df.reindex(columns = orden)"
   ]
  },
  {
   "cell_type": "code",
   "execution_count": null,
   "metadata": {},
   "outputs": [],
   "source": [
    "df.sample()"
   ]
  },
  {
   "cell_type": "code",
   "execution_count": null,
   "metadata": {},
   "outputs": [],
   "source": [
    "df_q7 = df[df.columns[5:18]]"
   ]
  },
  {
   "cell_type": "code",
   "execution_count": null,
   "metadata": {},
   "outputs": [],
   "source": [
    "q7_count = df_q7.sum().reset_index()"
   ]
  },
  {
   "cell_type": "code",
   "execution_count": null,
   "metadata": {},
   "outputs": [],
   "source": [
    "q7_count.columns = ['herramienta', 'conteo']"
   ]
  },
  {
   "cell_type": "code",
   "execution_count": null,
   "metadata": {},
   "outputs": [],
   "source": [
    "q7_count"
   ]
  },
  {
   "cell_type": "code",
   "execution_count": null,
   "metadata": {},
   "outputs": [],
   "source": [
    "sns.barplot(y = 'herramienta', x= 'conteo', data = q7_count)"
   ]
  },
  {
   "cell_type": "code",
   "execution_count": null,
   "metadata": {},
   "outputs": [],
   "source": [
    "sns.barplot(y = 'herramienta', x = ,hue = 'gender', data = df)"
   ]
  },
  {
   "cell_type": "code",
   "execution_count": null,
   "metadata": {},
   "outputs": [],
   "source": [
    "for col in df.columns[5:18]:\n",
    "    print(f'{col}')\n",
    "    display(df[col].value_counts().reset_index())"
   ]
  },
  {
   "cell_type": "code",
   "execution_count": null,
   "metadata": {},
   "outputs": [],
   "source": []
  }
 ],
 "metadata": {
  "kernelspec": {
   "display_name": "base",
   "language": "python",
   "name": "python3"
  },
  "language_info": {
   "codemirror_mode": {
    "name": "ipython",
    "version": 3
   },
   "file_extension": ".py",
   "mimetype": "text/x-python",
   "name": "python",
   "nbconvert_exporter": "python",
   "pygments_lexer": "ipython3",
   "version": "3.9.7"
  },
  "orig_nbformat": 4
 },
 "nbformat": 4,
 "nbformat_minor": 2
}
