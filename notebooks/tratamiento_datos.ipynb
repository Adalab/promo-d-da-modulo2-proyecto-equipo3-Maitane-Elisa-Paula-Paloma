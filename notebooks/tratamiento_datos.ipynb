{
 "cells": [
  {
   "attachments": {},
   "cell_type": "markdown",
   "metadata": {},
   "source": [
    "# PROYECTO 2. RKG (RESTART KERNEL GIRLS)\n",
    "---"
   ]
  },
  {
   "cell_type": "code",
   "execution_count": 6,
   "metadata": {},
   "outputs": [],
   "source": [
    "import pandas as pd\n",
    "import numpy as np\n",
    "import matplotlib.pyplot as plt\n",
    "import seaborn as sns\n",
    "import re\n",
    "import sys\n",
    "\n",
    "sys.path.append('../')\n",
    "from src import soporte_variables as spv\n",
    "from src import soporte_funciones as spf\n",
    "\n",
    "pd.options.display.max_columns = None"
   ]
  },
  {
   "attachments": {},
   "cell_type": "markdown",
   "metadata": {},
   "source": [
    "## TRATAMIENTO Y LIMPIEZA DE LOS DATOS A ESTUDIAR"
   ]
  },
  {
   "attachments": {},
   "cell_type": "markdown",
   "metadata": {},
   "source": [
    "## 1. Unión de las preguntas separadas en varias columnas (q10, q39)"
   ]
  },
  {
   "cell_type": "code",
   "execution_count": 7,
   "metadata": {},
   "outputs": [
    {
     "data": {
      "text/html": [
       "<div>\n",
       "<style scoped>\n",
       "    .dataframe tbody tr th:only-of-type {\n",
       "        vertical-align: middle;\n",
       "    }\n",
       "\n",
       "    .dataframe tbody tr th {\n",
       "        vertical-align: top;\n",
       "    }\n",
       "\n",
       "    .dataframe thead th {\n",
       "        text-align: right;\n",
       "    }\n",
       "</style>\n",
       "<table border=\"1\" class=\"dataframe\">\n",
       "  <thead>\n",
       "    <tr style=\"text-align: right;\">\n",
       "      <th></th>\n",
       "      <th>index</th>\n",
       "      <th>age</th>\n",
       "      <th>gender</th>\n",
       "      <th>q3</th>\n",
       "      <th>q4</th>\n",
       "      <th>q6</th>\n",
       "      <th>q7</th>\n",
       "      <th>q8</th>\n",
       "      <th>q9</th>\n",
       "      <th>q10_part_1</th>\n",
       "      <th>q10_part_2</th>\n",
       "      <th>q10_part_3</th>\n",
       "      <th>q10_part_4</th>\n",
       "      <th>q10_part_5</th>\n",
       "      <th>q10_part_6</th>\n",
       "      <th>q10_part_7</th>\n",
       "      <th>q10_part_8</th>\n",
       "      <th>q10_part_9</th>\n",
       "      <th>q10_part_10</th>\n",
       "      <th>q10_part_11</th>\n",
       "      <th>q10_part_12</th>\n",
       "      <th>q10_part_13</th>\n",
       "      <th>q10_part_14</th>\n",
       "      <th>q10_part_15</th>\n",
       "      <th>q10_part_16</th>\n",
       "      <th>q10_other</th>\n",
       "      <th>q14</th>\n",
       "      <th>q20</th>\n",
       "      <th>q21</th>\n",
       "      <th>q22</th>\n",
       "      <th>q24</th>\n",
       "      <th>q34</th>\n",
       "      <th>q35</th>\n",
       "      <th>q39_part_1</th>\n",
       "      <th>q39_part_2</th>\n",
       "      <th>q39_part_3</th>\n",
       "      <th>q39_part_4</th>\n",
       "      <th>q39_part_5</th>\n",
       "      <th>q39_part_6</th>\n",
       "      <th>q39_part_7</th>\n",
       "      <th>q39_part_8</th>\n",
       "      <th>q39_part_9</th>\n",
       "      <th>q39_other</th>\n",
       "      <th>q41</th>\n",
       "    </tr>\n",
       "  </thead>\n",
       "  <tbody>\n",
       "    <tr>\n",
       "      <th>0</th>\n",
       "      <td>16</td>\n",
       "      <td>50-54</td>\n",
       "      <td>Man</td>\n",
       "      <td>Belgium</td>\n",
       "      <td>Bachelor’s degree</td>\n",
       "      <td>20+ years</td>\n",
       "      <td>Python, SQL</td>\n",
       "      <td>Python</td>\n",
       "      <td>Jupyter (JupyterLab, Jupyter Notebooks, etc) ,...</td>\n",
       "      <td>Kaggle Notebooks</td>\n",
       "      <td>Colab Notebooks</td>\n",
       "      <td>NaN</td>\n",
       "      <td>NaN</td>\n",
       "      <td>NaN</td>\n",
       "      <td>NaN</td>\n",
       "      <td>NaN</td>\n",
       "      <td>NaN</td>\n",
       "      <td>NaN</td>\n",
       "      <td>NaN</td>\n",
       "      <td>NaN</td>\n",
       "      <td>Databricks Collaborative Notebooks</td>\n",
       "      <td>NaN</td>\n",
       "      <td>NaN</td>\n",
       "      <td>NaN</td>\n",
       "      <td>NaN</td>\n",
       "      <td>NaN</td>\n",
       "      <td>Matplotlib ,Seaborn ,Plotly / Plotly Express</td>\n",
       "      <td>Energy/Mining</td>\n",
       "      <td>1000-9,999 employees</td>\n",
       "      <td>5-9</td>\n",
       "      <td>Analyze and understand data to influence produ...</td>\n",
       "      <td>NaN</td>\n",
       "      <td>NaN</td>\n",
       "      <td>NaN</td>\n",
       "      <td>NaN</td>\n",
       "      <td>NaN</td>\n",
       "      <td>NaN</td>\n",
       "      <td>NaN</td>\n",
       "      <td>NaN</td>\n",
       "      <td>NaN</td>\n",
       "      <td>NaN</td>\n",
       "      <td>NaN</td>\n",
       "      <td>NaN</td>\n",
       "      <td>Local development environments (RStudio, Jupyt...</td>\n",
       "    </tr>\n",
       "    <tr>\n",
       "      <th>1</th>\n",
       "      <td>32</td>\n",
       "      <td>22-24</td>\n",
       "      <td>Nonbinary</td>\n",
       "      <td>United States of America</td>\n",
       "      <td>Some college/university study without earning ...</td>\n",
       "      <td>&lt; 1 years</td>\n",
       "      <td>R</td>\n",
       "      <td>R</td>\n",
       "      <td>RStudio</td>\n",
       "      <td>NaN</td>\n",
       "      <td>NaN</td>\n",
       "      <td>NaN</td>\n",
       "      <td>NaN</td>\n",
       "      <td>NaN</td>\n",
       "      <td>NaN</td>\n",
       "      <td>NaN</td>\n",
       "      <td>NaN</td>\n",
       "      <td>NaN</td>\n",
       "      <td>NaN</td>\n",
       "      <td>Google Cloud Datalab</td>\n",
       "      <td>NaN</td>\n",
       "      <td>NaN</td>\n",
       "      <td>NaN</td>\n",
       "      <td>NaN</td>\n",
       "      <td>NaN</td>\n",
       "      <td>NaN</td>\n",
       "      <td>Ggplot / ggplot2</td>\n",
       "      <td>Manufacturing/Fabrication</td>\n",
       "      <td>250-999 employees</td>\n",
       "      <td>3-4</td>\n",
       "      <td>NaN</td>\n",
       "      <td>NaN</td>\n",
       "      <td>NaN</td>\n",
       "      <td>NaN</td>\n",
       "      <td>NaN</td>\n",
       "      <td>NaN</td>\n",
       "      <td>NaN</td>\n",
       "      <td>NaN</td>\n",
       "      <td>NaN</td>\n",
       "      <td>NaN</td>\n",
       "      <td>NaN</td>\n",
       "      <td>NaN</td>\n",
       "      <td>NaN</td>\n",
       "      <td>NaN</td>\n",
       "    </tr>\n",
       "    <tr>\n",
       "      <th>2</th>\n",
       "      <td>33</td>\n",
       "      <td>30-34</td>\n",
       "      <td>Woman</td>\n",
       "      <td>Egypt</td>\n",
       "      <td>Bachelor’s degree</td>\n",
       "      <td>3-5 years</td>\n",
       "      <td>Python</td>\n",
       "      <td>R</td>\n",
       "      <td>Notepad++,Jupyter Notebook</td>\n",
       "      <td>Kaggle Notebooks</td>\n",
       "      <td>Colab Notebooks</td>\n",
       "      <td>NaN</td>\n",
       "      <td>NaN</td>\n",
       "      <td>NaN</td>\n",
       "      <td>NaN</td>\n",
       "      <td>NaN</td>\n",
       "      <td>NaN</td>\n",
       "      <td>NaN</td>\n",
       "      <td>NaN</td>\n",
       "      <td>NaN</td>\n",
       "      <td>NaN</td>\n",
       "      <td>NaN</td>\n",
       "      <td>NaN</td>\n",
       "      <td>NaN</td>\n",
       "      <td>NaN</td>\n",
       "      <td>NaN</td>\n",
       "      <td>None</td>\n",
       "      <td>Non-profit/Service</td>\n",
       "      <td>0-49 employees</td>\n",
       "      <td>0</td>\n",
       "      <td>Analyze and understand data to influence produ...</td>\n",
       "      <td>None</td>\n",
       "      <td>NaN</td>\n",
       "      <td>NaN</td>\n",
       "      <td>NaN</td>\n",
       "      <td>NaN</td>\n",
       "      <td>NaN</td>\n",
       "      <td>NaN</td>\n",
       "      <td>NaN</td>\n",
       "      <td>NaN</td>\n",
       "      <td>NaN</td>\n",
       "      <td>I do not share my work publicly</td>\n",
       "      <td>NaN</td>\n",
       "      <td>Basic statistical software (Microsoft Excel, G...</td>\n",
       "    </tr>\n",
       "    <tr>\n",
       "      <th>3</th>\n",
       "      <td>46</td>\n",
       "      <td>22-24</td>\n",
       "      <td>Man</td>\n",
       "      <td>China</td>\n",
       "      <td>Some college/university study without earning ...</td>\n",
       "      <td>&lt; 1 years</td>\n",
       "      <td>Python, SQL, C, C++, Java, Javascript, MATLAB</td>\n",
       "      <td>Python</td>\n",
       "      <td>Jupyter (JupyterLab, Jupyter Notebooks, etc) ,...</td>\n",
       "      <td>Kaggle Notebooks</td>\n",
       "      <td>NaN</td>\n",
       "      <td>Azure Notebooks</td>\n",
       "      <td>NaN</td>\n",
       "      <td>NaN</td>\n",
       "      <td>NaN</td>\n",
       "      <td>NaN</td>\n",
       "      <td>NaN</td>\n",
       "      <td>NaN</td>\n",
       "      <td>NaN</td>\n",
       "      <td>NaN</td>\n",
       "      <td>NaN</td>\n",
       "      <td>NaN</td>\n",
       "      <td>NaN</td>\n",
       "      <td>NaN</td>\n",
       "      <td>NaN</td>\n",
       "      <td>NaN</td>\n",
       "      <td>Matplotlib ,Plotly / Plotly Express</td>\n",
       "      <td>Computers/Technology</td>\n",
       "      <td>0-49 employees</td>\n",
       "      <td>0</td>\n",
       "      <td>Analyze and understand data to influence produ...</td>\n",
       "      <td>NaN</td>\n",
       "      <td>NaN</td>\n",
       "      <td>NaN</td>\n",
       "      <td>NaN</td>\n",
       "      <td>NaN</td>\n",
       "      <td>NaN</td>\n",
       "      <td>NaN</td>\n",
       "      <td>NaN</td>\n",
       "      <td>NaN</td>\n",
       "      <td>NaN</td>\n",
       "      <td>NaN</td>\n",
       "      <td>NaN</td>\n",
       "      <td>Basic statistical software (Microsoft Excel, G...</td>\n",
       "    </tr>\n",
       "    <tr>\n",
       "      <th>4</th>\n",
       "      <td>52</td>\n",
       "      <td>40-44</td>\n",
       "      <td>Man</td>\n",
       "      <td>South Africa</td>\n",
       "      <td>Master’s degree</td>\n",
       "      <td>1-3 years</td>\n",
       "      <td>R, SQL</td>\n",
       "      <td>R</td>\n",
       "      <td>RStudio ,Jupyter Notebook</td>\n",
       "      <td>NaN</td>\n",
       "      <td>NaN</td>\n",
       "      <td>NaN</td>\n",
       "      <td>NaN</td>\n",
       "      <td>NaN</td>\n",
       "      <td>NaN</td>\n",
       "      <td>IBM Watson Studio</td>\n",
       "      <td>NaN</td>\n",
       "      <td>NaN</td>\n",
       "      <td>NaN</td>\n",
       "      <td>NaN</td>\n",
       "      <td>NaN</td>\n",
       "      <td>NaN</td>\n",
       "      <td>NaN</td>\n",
       "      <td>NaN</td>\n",
       "      <td>NaN</td>\n",
       "      <td>NaN</td>\n",
       "      <td>Plotly / Plotly Express ,Ggplot / ggplot2 ,Shiny</td>\n",
       "      <td>Manufacturing/Fabrication</td>\n",
       "      <td>250-999 employees</td>\n",
       "      <td>1-2</td>\n",
       "      <td>Analyze and understand data to influence produ...</td>\n",
       "      <td>Microsoft Power BI</td>\n",
       "      <td>NaN</td>\n",
       "      <td>NaN</td>\n",
       "      <td>NaN</td>\n",
       "      <td>NaN</td>\n",
       "      <td>NaN</td>\n",
       "      <td>NaN</td>\n",
       "      <td>NaN</td>\n",
       "      <td>NaN</td>\n",
       "      <td>NaN</td>\n",
       "      <td>I do not share my work publicly</td>\n",
       "      <td>NaN</td>\n",
       "      <td>Local development environments (RStudio, Jupyt...</td>\n",
       "    </tr>\n",
       "  </tbody>\n",
       "</table>\n",
       "</div>"
      ],
      "text/plain": [
       "   index    age     gender                        q3  \\\n",
       "0     16  50-54        Man                   Belgium   \n",
       "1     32  22-24  Nonbinary  United States of America   \n",
       "2     33  30-34      Woman                     Egypt   \n",
       "3     46  22-24        Man                     China   \n",
       "4     52  40-44        Man              South Africa   \n",
       "\n",
       "                                                  q4         q6  \\\n",
       "0                                  Bachelor’s degree  20+ years   \n",
       "1  Some college/university study without earning ...  < 1 years   \n",
       "2                                  Bachelor’s degree  3-5 years   \n",
       "3  Some college/university study without earning ...  < 1 years   \n",
       "4                                    Master’s degree  1-3 years   \n",
       "\n",
       "                                              q7      q8  \\\n",
       "0                                    Python, SQL  Python   \n",
       "1                                              R       R   \n",
       "2                                         Python       R   \n",
       "3  Python, SQL, C, C++, Java, Javascript, MATLAB  Python   \n",
       "4                                         R, SQL       R   \n",
       "\n",
       "                                                  q9         q10_part_1  \\\n",
       "0  Jupyter (JupyterLab, Jupyter Notebooks, etc) ,...   Kaggle Notebooks   \n",
       "1                                           RStudio                 NaN   \n",
       "2                         Notepad++,Jupyter Notebook   Kaggle Notebooks   \n",
       "3  Jupyter (JupyterLab, Jupyter Notebooks, etc) ,...   Kaggle Notebooks   \n",
       "4                          RStudio ,Jupyter Notebook                NaN   \n",
       "\n",
       "        q10_part_2       q10_part_3 q10_part_4 q10_part_5 q10_part_6  \\\n",
       "0  Colab Notebooks              NaN        NaN        NaN        NaN   \n",
       "1              NaN              NaN        NaN        NaN        NaN   \n",
       "2  Colab Notebooks              NaN        NaN        NaN        NaN   \n",
       "3              NaN  Azure Notebooks        NaN        NaN        NaN   \n",
       "4              NaN              NaN        NaN        NaN        NaN   \n",
       "\n",
       "            q10_part_7 q10_part_8 q10_part_9 q10_part_10  \\\n",
       "0                  NaN        NaN        NaN         NaN   \n",
       "1                  NaN        NaN        NaN         NaN   \n",
       "2                  NaN        NaN        NaN         NaN   \n",
       "3                  NaN        NaN        NaN         NaN   \n",
       "4   IBM Watson Studio         NaN        NaN         NaN   \n",
       "\n",
       "            q10_part_11                           q10_part_12 q10_part_13  \\\n",
       "0                   NaN   Databricks Collaborative Notebooks          NaN   \n",
       "1  Google Cloud Datalab                                   NaN         NaN   \n",
       "2                   NaN                                   NaN         NaN   \n",
       "3                   NaN                                   NaN         NaN   \n",
       "4                   NaN                                   NaN         NaN   \n",
       "\n",
       "  q10_part_14 q10_part_15 q10_part_16 q10_other  \\\n",
       "0         NaN         NaN         NaN       NaN   \n",
       "1         NaN         NaN         NaN       NaN   \n",
       "2         NaN         NaN         NaN       NaN   \n",
       "3         NaN         NaN         NaN       NaN   \n",
       "4         NaN         NaN         NaN       NaN   \n",
       "\n",
       "                                                 q14  \\\n",
       "0      Matplotlib ,Seaborn ,Plotly / Plotly Express    \n",
       "1                                  Ggplot / ggplot2    \n",
       "2                                               None   \n",
       "3               Matplotlib ,Plotly / Plotly Express    \n",
       "4  Plotly / Plotly Express ,Ggplot / ggplot2 ,Shiny    \n",
       "\n",
       "                         q20                   q21  q22  \\\n",
       "0              Energy/Mining  1000-9,999 employees  5-9   \n",
       "1  Manufacturing/Fabrication     250-999 employees  3-4   \n",
       "2         Non-profit/Service        0-49 employees    0   \n",
       "3       Computers/Technology        0-49 employees    0   \n",
       "4  Manufacturing/Fabrication     250-999 employees  1-2   \n",
       "\n",
       "                                                 q24                  q34  \\\n",
       "0  Analyze and understand data to influence produ...                  NaN   \n",
       "1                                                NaN                  NaN   \n",
       "2  Analyze and understand data to influence produ...                 None   \n",
       "3  Analyze and understand data to influence produ...                  NaN   \n",
       "4  Analyze and understand data to influence produ...   Microsoft Power BI   \n",
       "\n",
       "   q35 q39_part_1 q39_part_2 q39_part_3 q39_part_4 q39_part_5 q39_part_6  \\\n",
       "0  NaN        NaN        NaN        NaN        NaN        NaN        NaN   \n",
       "1  NaN        NaN        NaN        NaN        NaN        NaN        NaN   \n",
       "2  NaN        NaN        NaN        NaN        NaN        NaN        NaN   \n",
       "3  NaN        NaN        NaN        NaN        NaN        NaN        NaN   \n",
       "4  NaN        NaN        NaN        NaN        NaN        NaN        NaN   \n",
       "\n",
       "  q39_part_7 q39_part_8                       q39_part_9 q39_other  \\\n",
       "0        NaN        NaN                              NaN       NaN   \n",
       "1        NaN        NaN                              NaN       NaN   \n",
       "2        NaN        NaN  I do not share my work publicly       NaN   \n",
       "3        NaN        NaN                              NaN       NaN   \n",
       "4        NaN        NaN  I do not share my work publicly       NaN   \n",
       "\n",
       "                                                 q41  \n",
       "0  Local development environments (RStudio, Jupyt...  \n",
       "1                                                NaN  \n",
       "2  Basic statistical software (Microsoft Excel, G...  \n",
       "3  Basic statistical software (Microsoft Excel, G...  \n",
       "4  Local development environments (RStudio, Jupyt...  "
      ]
     },
     "execution_count": 7,
     "metadata": {},
     "output_type": "execute_result"
    }
   ],
   "source": [
    "# abrimos el .csv con los datos de Data Analyst para las preguntas relevantes seleccionadas\n",
    "df = pd.read_csv('../resultados/df_da_relevante.csv', index_col = 0)\n",
    "df = df.reset_index()\n",
    "df.head()"
   ]
  },
  {
   "cell_type": "code",
   "execution_count": 8,
   "metadata": {},
   "outputs": [
    {
     "data": {
      "text/html": [
       "<div>\n",
       "<style scoped>\n",
       "    .dataframe tbody tr th:only-of-type {\n",
       "        vertical-align: middle;\n",
       "    }\n",
       "\n",
       "    .dataframe tbody tr th {\n",
       "        vertical-align: top;\n",
       "    }\n",
       "\n",
       "    .dataframe thead th {\n",
       "        text-align: right;\n",
       "    }\n",
       "</style>\n",
       "<table border=\"1\" class=\"dataframe\">\n",
       "  <thead>\n",
       "    <tr style=\"text-align: right;\">\n",
       "      <th></th>\n",
       "      <th>0</th>\n",
       "      <th>1</th>\n",
       "      <th>2</th>\n",
       "      <th>3</th>\n",
       "      <th>4</th>\n",
       "      <th>5</th>\n",
       "      <th>6</th>\n",
       "      <th>7</th>\n",
       "      <th>8</th>\n",
       "      <th>9</th>\n",
       "      <th>10</th>\n",
       "      <th>11</th>\n",
       "      <th>12</th>\n",
       "      <th>13</th>\n",
       "      <th>14</th>\n",
       "      <th>15</th>\n",
       "      <th>16</th>\n",
       "      <th>17</th>\n",
       "      <th>18</th>\n",
       "      <th>19</th>\n",
       "      <th>20</th>\n",
       "      <th>21</th>\n",
       "      <th>22</th>\n",
       "      <th>23</th>\n",
       "      <th>24</th>\n",
       "      <th>25</th>\n",
       "      <th>26</th>\n",
       "      <th>27</th>\n",
       "      <th>28</th>\n",
       "      <th>29</th>\n",
       "      <th>30</th>\n",
       "      <th>31</th>\n",
       "      <th>32</th>\n",
       "      <th>33</th>\n",
       "      <th>34</th>\n",
       "      <th>35</th>\n",
       "      <th>36</th>\n",
       "      <th>37</th>\n",
       "      <th>38</th>\n",
       "      <th>39</th>\n",
       "      <th>40</th>\n",
       "      <th>41</th>\n",
       "      <th>42</th>\n",
       "      <th>43</th>\n",
       "    </tr>\n",
       "  </thead>\n",
       "  <tbody>\n",
       "    <tr>\n",
       "      <th>index</th>\n",
       "      <td>index</td>\n",
       "      <td>age</td>\n",
       "      <td>gender</td>\n",
       "      <td>q3</td>\n",
       "      <td>q4</td>\n",
       "      <td>q6</td>\n",
       "      <td>q7</td>\n",
       "      <td>q8</td>\n",
       "      <td>q9</td>\n",
       "      <td>q10_part_1</td>\n",
       "      <td>q10_part_2</td>\n",
       "      <td>q10_part_3</td>\n",
       "      <td>q10_part_4</td>\n",
       "      <td>q10_part_5</td>\n",
       "      <td>q10_part_6</td>\n",
       "      <td>q10_part_7</td>\n",
       "      <td>q10_part_8</td>\n",
       "      <td>q10_part_9</td>\n",
       "      <td>q10_part_10</td>\n",
       "      <td>q10_part_11</td>\n",
       "      <td>q10_part_12</td>\n",
       "      <td>q10_part_13</td>\n",
       "      <td>q10_part_14</td>\n",
       "      <td>q10_part_15</td>\n",
       "      <td>q10_part_16</td>\n",
       "      <td>q10_other</td>\n",
       "      <td>q14</td>\n",
       "      <td>q20</td>\n",
       "      <td>q21</td>\n",
       "      <td>q22</td>\n",
       "      <td>q24</td>\n",
       "      <td>q34</td>\n",
       "      <td>q35</td>\n",
       "      <td>q39_part_1</td>\n",
       "      <td>q39_part_2</td>\n",
       "      <td>q39_part_3</td>\n",
       "      <td>q39_part_4</td>\n",
       "      <td>q39_part_5</td>\n",
       "      <td>q39_part_6</td>\n",
       "      <td>q39_part_7</td>\n",
       "      <td>q39_part_8</td>\n",
       "      <td>q39_part_9</td>\n",
       "      <td>q39_other</td>\n",
       "      <td>q41</td>\n",
       "    </tr>\n",
       "    <tr>\n",
       "      <th>0</th>\n",
       "      <td>0</td>\n",
       "      <td>0</td>\n",
       "      <td>0</td>\n",
       "      <td>0</td>\n",
       "      <td>0</td>\n",
       "      <td>0</td>\n",
       "      <td>143</td>\n",
       "      <td>144</td>\n",
       "      <td>146</td>\n",
       "      <td>1508</td>\n",
       "      <td>1639</td>\n",
       "      <td>2191</td>\n",
       "      <td>2287</td>\n",
       "      <td>2124</td>\n",
       "      <td>2286</td>\n",
       "      <td>2204</td>\n",
       "      <td>2250</td>\n",
       "      <td>2267</td>\n",
       "      <td>2132</td>\n",
       "      <td>2114</td>\n",
       "      <td>2231</td>\n",
       "      <td>2281</td>\n",
       "      <td>2280</td>\n",
       "      <td>2276</td>\n",
       "      <td>1643</td>\n",
       "      <td>2206</td>\n",
       "      <td>193</td>\n",
       "      <td>114</td>\n",
       "      <td>130</td>\n",
       "      <td>150</td>\n",
       "      <td>227</td>\n",
       "      <td>1069</td>\n",
       "      <td>1858</td>\n",
       "      <td>2266</td>\n",
       "      <td>2252</td>\n",
       "      <td>2278</td>\n",
       "      <td>1739</td>\n",
       "      <td>2208</td>\n",
       "      <td>1863</td>\n",
       "      <td>2104</td>\n",
       "      <td>2251</td>\n",
       "      <td>1884</td>\n",
       "      <td>2253</td>\n",
       "      <td>533</td>\n",
       "    </tr>\n",
       "  </tbody>\n",
       "</table>\n",
       "</div>"
      ],
      "text/plain": [
       "          0    1       2   3   4   5    6    7    8           9           10  \\\n",
       "index  index  age  gender  q3  q4  q6   q7   q8   q9  q10_part_1  q10_part_2   \n",
       "0          0    0       0   0   0   0  143  144  146        1508        1639   \n",
       "\n",
       "               11          12          13          14          15          16  \\\n",
       "index  q10_part_3  q10_part_4  q10_part_5  q10_part_6  q10_part_7  q10_part_8   \n",
       "0            2191        2287        2124        2286        2204        2250   \n",
       "\n",
       "               17           18           19           20           21  \\\n",
       "index  q10_part_9  q10_part_10  q10_part_11  q10_part_12  q10_part_13   \n",
       "0            2267         2132         2114         2231         2281   \n",
       "\n",
       "                22           23           24         25   26   27   28   29  \\\n",
       "index  q10_part_14  q10_part_15  q10_part_16  q10_other  q14  q20  q21  q22   \n",
       "0             2280         2276         1643       2206  193  114  130  150   \n",
       "\n",
       "        30    31    32          33          34          35          36  \\\n",
       "index  q24   q34   q35  q39_part_1  q39_part_2  q39_part_3  q39_part_4   \n",
       "0      227  1069  1858        2266        2252        2278        1739   \n",
       "\n",
       "               37          38          39          40          41         42  \\\n",
       "index  q39_part_5  q39_part_6  q39_part_7  q39_part_8  q39_part_9  q39_other   \n",
       "0            2208        1863        2104        2251        1884       2253   \n",
       "\n",
       "        43  \n",
       "index  q41  \n",
       "0      533  "
      ]
     },
     "execution_count": 8,
     "metadata": {},
     "output_type": "execute_result"
    }
   ],
   "source": [
    "# sacamos los nulos para monitorearlos a lo largo del proceso\n",
    "df.isnull().sum().reset_index().T"
   ]
  },
  {
   "cell_type": "code",
   "execution_count": 9,
   "metadata": {},
   "outputs": [
    {
     "data": {
      "text/plain": [
       "['Kaggle Notebooks,Colab Notebooks,Databricks Collaborative Notebooks',\n",
       " 'Google Cloud Datalab',\n",
       " 'Kaggle Notebooks,Colab Notebooks',\n",
       " 'Kaggle Notebooks,Azure Notebooks']"
      ]
     },
     "execution_count": 9,
     "metadata": {},
     "output_type": "execute_result"
    }
   ],
   "source": [
    "# creamos una lista con las respuestas de la q10 unificadas\n",
    "lista_futura_q10 = []\n",
    "\n",
    "for indice, row in df.iterrows():\n",
    "    #print(indice, row.index)\n",
    "    valor = \"\"\n",
    "    for i in row.index:\n",
    "        if \"q10\" in i:\n",
    "            if type(row[i]) != float:\n",
    "                row[i] = row[i].strip()\n",
    "                valor += row[i] + \",\"\n",
    "                if valor == \"\":\n",
    "                    valor = np.nan \n",
    "    lista_futura_q10.append(valor.strip(','))\n",
    "lista_futura_q10[:4]"
   ]
  },
  {
   "cell_type": "code",
   "execution_count": 10,
   "metadata": {},
   "outputs": [
    {
     "data": {
      "text/plain": [
       "['',\n",
       " '',\n",
       " 'I do not share my work publicly',\n",
       " '',\n",
       " 'I do not share my work publicly',\n",
       " '',\n",
       " '',\n",
       " '',\n",
       " '',\n",
       " '']"
      ]
     },
     "execution_count": 10,
     "metadata": {},
     "output_type": "execute_result"
    }
   ],
   "source": [
    "# creamos una lista con las respuestas de la q39 unificadas\n",
    "lista_futura_q39 = []\n",
    "\n",
    "for indice, row in df.iterrows():\n",
    "    #print(indice, row.index)\n",
    "    valor = \"\"\n",
    "    for i in row.index:\n",
    "        if \"q39\" in i:\n",
    "            if type(row[i]) != float:\n",
    "                row[i] = row[i].strip()\n",
    "                valor += row[i] + \",\"\n",
    "                if valor == \"\":\n",
    "                    valor = np.nan \n",
    "    lista_futura_q39.append(valor.strip(','))\n",
    "lista_futura_q39[:10]"
   ]
  },
  {
   "cell_type": "code",
   "execution_count": 11,
   "metadata": {},
   "outputs": [
    {
     "data": {
      "text/html": [
       "<div>\n",
       "<style scoped>\n",
       "    .dataframe tbody tr th:only-of-type {\n",
       "        vertical-align: middle;\n",
       "    }\n",
       "\n",
       "    .dataframe tbody tr th {\n",
       "        vertical-align: top;\n",
       "    }\n",
       "\n",
       "    .dataframe thead th {\n",
       "        text-align: right;\n",
       "    }\n",
       "</style>\n",
       "<table border=\"1\" class=\"dataframe\">\n",
       "  <thead>\n",
       "    <tr style=\"text-align: right;\">\n",
       "      <th></th>\n",
       "      <th>index</th>\n",
       "      <th>age</th>\n",
       "      <th>gender</th>\n",
       "      <th>q3</th>\n",
       "      <th>q4</th>\n",
       "      <th>q6</th>\n",
       "      <th>q7</th>\n",
       "      <th>q8</th>\n",
       "      <th>q9</th>\n",
       "      <th>q10_part_1</th>\n",
       "      <th>q10_part_2</th>\n",
       "      <th>q10_part_3</th>\n",
       "      <th>q10_part_4</th>\n",
       "      <th>q10_part_5</th>\n",
       "      <th>q10_part_6</th>\n",
       "      <th>q10_part_7</th>\n",
       "      <th>q10_part_8</th>\n",
       "      <th>q10_part_9</th>\n",
       "      <th>q10_part_10</th>\n",
       "      <th>q10_part_11</th>\n",
       "      <th>q10_part_12</th>\n",
       "      <th>q10_part_13</th>\n",
       "      <th>q10_part_14</th>\n",
       "      <th>q10_part_15</th>\n",
       "      <th>q10_part_16</th>\n",
       "      <th>q10_other</th>\n",
       "      <th>q14</th>\n",
       "      <th>q20</th>\n",
       "      <th>q21</th>\n",
       "      <th>q22</th>\n",
       "      <th>q24</th>\n",
       "      <th>q34</th>\n",
       "      <th>q35</th>\n",
       "      <th>q39_part_1</th>\n",
       "      <th>q39_part_2</th>\n",
       "      <th>q39_part_3</th>\n",
       "      <th>q39_part_4</th>\n",
       "      <th>q39_part_5</th>\n",
       "      <th>q39_part_6</th>\n",
       "      <th>q39_part_7</th>\n",
       "      <th>q39_part_8</th>\n",
       "      <th>q39_part_9</th>\n",
       "      <th>q39_other</th>\n",
       "      <th>q41</th>\n",
       "      <th>q10</th>\n",
       "      <th>q39</th>\n",
       "    </tr>\n",
       "  </thead>\n",
       "  <tbody>\n",
       "    <tr>\n",
       "      <th>2095</th>\n",
       "      <td>23581</td>\n",
       "      <td>18-21</td>\n",
       "      <td>Man</td>\n",
       "      <td>India</td>\n",
       "      <td>Bachelor’s degree</td>\n",
       "      <td>1-3 years</td>\n",
       "      <td>Python, SQL, C++</td>\n",
       "      <td>Python</td>\n",
       "      <td>Jupyter Notebook</td>\n",
       "      <td>Kaggle Notebooks</td>\n",
       "      <td>Colab Notebooks</td>\n",
       "      <td>NaN</td>\n",
       "      <td>NaN</td>\n",
       "      <td>NaN</td>\n",
       "      <td>NaN</td>\n",
       "      <td>NaN</td>\n",
       "      <td>NaN</td>\n",
       "      <td>NaN</td>\n",
       "      <td>NaN</td>\n",
       "      <td>NaN</td>\n",
       "      <td>NaN</td>\n",
       "      <td>NaN</td>\n",
       "      <td>NaN</td>\n",
       "      <td>NaN</td>\n",
       "      <td>NaN</td>\n",
       "      <td>NaN</td>\n",
       "      <td>Matplotlib ,Seaborn</td>\n",
       "      <td>Online Service/Internet-based Services</td>\n",
       "      <td>250-999 employees</td>\n",
       "      <td>20+</td>\n",
       "      <td>Analyze and understand data to influence produ...</td>\n",
       "      <td>Tableau</td>\n",
       "      <td>NaN</td>\n",
       "      <td>NaN</td>\n",
       "      <td>NaN</td>\n",
       "      <td>NaN</td>\n",
       "      <td>GitHub</td>\n",
       "      <td>NaN</td>\n",
       "      <td>Kaggle</td>\n",
       "      <td>NaN</td>\n",
       "      <td>NaN</td>\n",
       "      <td>NaN</td>\n",
       "      <td>NaN</td>\n",
       "      <td>Local development environments (RStudio, Jupyt...</td>\n",
       "      <td>Kaggle Notebooks,Colab Notebooks</td>\n",
       "      <td>GitHub,Kaggle</td>\n",
       "    </tr>\n",
       "    <tr>\n",
       "      <th>1556</th>\n",
       "      <td>17224</td>\n",
       "      <td>30-34</td>\n",
       "      <td>Man</td>\n",
       "      <td>Singapore</td>\n",
       "      <td>Master’s degree</td>\n",
       "      <td>3-5 years</td>\n",
       "      <td>Python, R, SQL</td>\n",
       "      <td>Python</td>\n",
       "      <td>Jupyter (JupyterLab, Jupyter Notebooks, etc) ,...</td>\n",
       "      <td>Kaggle Notebooks</td>\n",
       "      <td>NaN</td>\n",
       "      <td>NaN</td>\n",
       "      <td>NaN</td>\n",
       "      <td>NaN</td>\n",
       "      <td>NaN</td>\n",
       "      <td>NaN</td>\n",
       "      <td>NaN</td>\n",
       "      <td>NaN</td>\n",
       "      <td>NaN</td>\n",
       "      <td>NaN</td>\n",
       "      <td>NaN</td>\n",
       "      <td>NaN</td>\n",
       "      <td>NaN</td>\n",
       "      <td>NaN</td>\n",
       "      <td>NaN</td>\n",
       "      <td>NaN</td>\n",
       "      <td>Matplotlib ,Seaborn ,Plotly / Plotly Express</td>\n",
       "      <td>Computers/Technology</td>\n",
       "      <td>1000-9,999 employees</td>\n",
       "      <td>1-2</td>\n",
       "      <td>Analyze and understand data to influence produ...</td>\n",
       "      <td>Microsoft Power BI, Tableau</td>\n",
       "      <td>Tableau</td>\n",
       "      <td>NaN</td>\n",
       "      <td>NaN</td>\n",
       "      <td>NaN</td>\n",
       "      <td>GitHub</td>\n",
       "      <td>NaN</td>\n",
       "      <td>Kaggle</td>\n",
       "      <td>NaN</td>\n",
       "      <td>NaN</td>\n",
       "      <td>NaN</td>\n",
       "      <td>NaN</td>\n",
       "      <td>Local development environments (RStudio, Jupyt...</td>\n",
       "      <td>Kaggle Notebooks</td>\n",
       "      <td>GitHub,Kaggle</td>\n",
       "    </tr>\n",
       "    <tr>\n",
       "      <th>1702</th>\n",
       "      <td>18904</td>\n",
       "      <td>18-21</td>\n",
       "      <td>Man</td>\n",
       "      <td>Bangladesh</td>\n",
       "      <td>Bachelor’s degree</td>\n",
       "      <td>I have never written code</td>\n",
       "      <td>NaN</td>\n",
       "      <td>NaN</td>\n",
       "      <td>NaN</td>\n",
       "      <td>NaN</td>\n",
       "      <td>NaN</td>\n",
       "      <td>NaN</td>\n",
       "      <td>NaN</td>\n",
       "      <td>NaN</td>\n",
       "      <td>NaN</td>\n",
       "      <td>NaN</td>\n",
       "      <td>NaN</td>\n",
       "      <td>NaN</td>\n",
       "      <td>NaN</td>\n",
       "      <td>NaN</td>\n",
       "      <td>NaN</td>\n",
       "      <td>NaN</td>\n",
       "      <td>NaN</td>\n",
       "      <td>NaN</td>\n",
       "      <td>NaN</td>\n",
       "      <td>NaN</td>\n",
       "      <td>NaN</td>\n",
       "      <td>Accounting/Finance</td>\n",
       "      <td>0-49 employees</td>\n",
       "      <td>0</td>\n",
       "      <td>Build and/or run the data infrastructure that...</td>\n",
       "      <td>NaN</td>\n",
       "      <td>NaN</td>\n",
       "      <td>NaN</td>\n",
       "      <td>NaN</td>\n",
       "      <td>NaN</td>\n",
       "      <td>NaN</td>\n",
       "      <td>NaN</td>\n",
       "      <td>NaN</td>\n",
       "      <td>NaN</td>\n",
       "      <td>NaN</td>\n",
       "      <td>NaN</td>\n",
       "      <td>NaN</td>\n",
       "      <td>Basic statistical software (Microsoft Excel, G...</td>\n",
       "      <td></td>\n",
       "      <td></td>\n",
       "    </tr>\n",
       "  </tbody>\n",
       "</table>\n",
       "</div>"
      ],
      "text/plain": [
       "      index    age gender          q3                 q4  \\\n",
       "2095  23581  18-21    Man       India  Bachelor’s degree   \n",
       "1556  17224  30-34    Man   Singapore    Master’s degree   \n",
       "1702  18904  18-21    Man  Bangladesh  Bachelor’s degree   \n",
       "\n",
       "                             q6                q7      q8  \\\n",
       "2095                  1-3 years  Python, SQL, C++  Python   \n",
       "1556                  3-5 years    Python, R, SQL  Python   \n",
       "1702  I have never written code               NaN     NaN   \n",
       "\n",
       "                                                     q9         q10_part_1  \\\n",
       "2095                                   Jupyter Notebook   Kaggle Notebooks   \n",
       "1556  Jupyter (JupyterLab, Jupyter Notebooks, etc) ,...   Kaggle Notebooks   \n",
       "1702                                                NaN                NaN   \n",
       "\n",
       "           q10_part_2 q10_part_3 q10_part_4 q10_part_5 q10_part_6 q10_part_7  \\\n",
       "2095  Colab Notebooks        NaN        NaN        NaN        NaN        NaN   \n",
       "1556              NaN        NaN        NaN        NaN        NaN        NaN   \n",
       "1702              NaN        NaN        NaN        NaN        NaN        NaN   \n",
       "\n",
       "     q10_part_8 q10_part_9 q10_part_10 q10_part_11 q10_part_12 q10_part_13  \\\n",
       "2095        NaN        NaN         NaN         NaN         NaN         NaN   \n",
       "1556        NaN        NaN         NaN         NaN         NaN         NaN   \n",
       "1702        NaN        NaN         NaN         NaN         NaN         NaN   \n",
       "\n",
       "     q10_part_14 q10_part_15 q10_part_16 q10_other  \\\n",
       "2095         NaN         NaN         NaN       NaN   \n",
       "1556         NaN         NaN         NaN       NaN   \n",
       "1702         NaN         NaN         NaN       NaN   \n",
       "\n",
       "                                                 q14  \\\n",
       "2095                            Matplotlib ,Seaborn    \n",
       "1556   Matplotlib ,Seaborn ,Plotly / Plotly Express    \n",
       "1702                                             NaN   \n",
       "\n",
       "                                         q20                   q21  q22  \\\n",
       "2095  Online Service/Internet-based Services     250-999 employees  20+   \n",
       "1556                    Computers/Technology  1000-9,999 employees  1-2   \n",
       "1702                      Accounting/Finance        0-49 employees    0   \n",
       "\n",
       "                                                    q24  \\\n",
       "2095  Analyze and understand data to influence produ...   \n",
       "1556  Analyze and understand data to influence produ...   \n",
       "1702   Build and/or run the data infrastructure that...   \n",
       "\n",
       "                               q34      q35 q39_part_1 q39_part_2 q39_part_3  \\\n",
       "2095                       Tableau      NaN        NaN        NaN        NaN   \n",
       "1556   Microsoft Power BI, Tableau  Tableau        NaN        NaN        NaN   \n",
       "1702                           NaN      NaN        NaN        NaN        NaN   \n",
       "\n",
       "     q39_part_4 q39_part_5 q39_part_6 q39_part_7 q39_part_8 q39_part_9  \\\n",
       "2095    GitHub         NaN    Kaggle         NaN        NaN        NaN   \n",
       "1556    GitHub         NaN    Kaggle         NaN        NaN        NaN   \n",
       "1702        NaN        NaN        NaN        NaN        NaN        NaN   \n",
       "\n",
       "     q39_other                                                q41  \\\n",
       "2095       NaN  Local development environments (RStudio, Jupyt...   \n",
       "1556       NaN  Local development environments (RStudio, Jupyt...   \n",
       "1702       NaN  Basic statistical software (Microsoft Excel, G...   \n",
       "\n",
       "                                   q10            q39  \n",
       "2095  Kaggle Notebooks,Colab Notebooks  GitHub,Kaggle  \n",
       "1556                  Kaggle Notebooks  GitHub,Kaggle  \n",
       "1702                                                   "
      ]
     },
     "execution_count": 11,
     "metadata": {},
     "output_type": "execute_result"
    }
   ],
   "source": [
    "# creamos las columnas unificadas en el dataframe y borramos las sobrantes\n",
    "df['q10'] = lista_futura_q10\n",
    "df['q39'] = lista_futura_q39\n",
    "df.sample(3)"
   ]
  },
  {
   "cell_type": "code",
   "execution_count": 12,
   "metadata": {},
   "outputs": [
    {
     "data": {
      "text/html": [
       "<div>\n",
       "<style scoped>\n",
       "    .dataframe tbody tr th:only-of-type {\n",
       "        vertical-align: middle;\n",
       "    }\n",
       "\n",
       "    .dataframe tbody tr th {\n",
       "        vertical-align: top;\n",
       "    }\n",
       "\n",
       "    .dataframe thead th {\n",
       "        text-align: right;\n",
       "    }\n",
       "</style>\n",
       "<table border=\"1\" class=\"dataframe\">\n",
       "  <thead>\n",
       "    <tr style=\"text-align: right;\">\n",
       "      <th></th>\n",
       "      <th>index</th>\n",
       "      <th>age</th>\n",
       "      <th>gender</th>\n",
       "      <th>q3</th>\n",
       "      <th>q4</th>\n",
       "      <th>q6</th>\n",
       "      <th>q7</th>\n",
       "      <th>q8</th>\n",
       "      <th>q9</th>\n",
       "      <th>q14</th>\n",
       "      <th>q20</th>\n",
       "      <th>q21</th>\n",
       "      <th>q22</th>\n",
       "      <th>q24</th>\n",
       "      <th>q34</th>\n",
       "      <th>q35</th>\n",
       "      <th>q41</th>\n",
       "      <th>q10</th>\n",
       "      <th>q39</th>\n",
       "    </tr>\n",
       "  </thead>\n",
       "  <tbody>\n",
       "    <tr>\n",
       "      <th>510</th>\n",
       "      <td>5926</td>\n",
       "      <td>22-24</td>\n",
       "      <td>Man</td>\n",
       "      <td>India</td>\n",
       "      <td>Master’s degree</td>\n",
       "      <td>I have never written code</td>\n",
       "      <td>NaN</td>\n",
       "      <td>NaN</td>\n",
       "      <td>NaN</td>\n",
       "      <td>NaN</td>\n",
       "      <td>Online Business/Internet-based Sales</td>\n",
       "      <td>0-49 employees</td>\n",
       "      <td>1-2</td>\n",
       "      <td>Analyze and understand data to influence produ...</td>\n",
       "      <td>NaN</td>\n",
       "      <td>NaN</td>\n",
       "      <td>NaN</td>\n",
       "      <td></td>\n",
       "      <td></td>\n",
       "    </tr>\n",
       "  </tbody>\n",
       "</table>\n",
       "</div>"
      ],
      "text/plain": [
       "     index    age gender     q3               q4                         q6  \\\n",
       "510   5926  22-24    Man  India  Master’s degree  I have never written code   \n",
       "\n",
       "      q7   q8   q9  q14                                   q20             q21  \\\n",
       "510  NaN  NaN  NaN  NaN  Online Business/Internet-based Sales  0-49 employees   \n",
       "\n",
       "     q22                                                q24  q34  q35  q41  \\\n",
       "510  1-2  Analyze and understand data to influence produ...  NaN  NaN  NaN   \n",
       "\n",
       "    q10 q39  \n",
       "510          "
      ]
     },
     "execution_count": 12,
     "metadata": {},
     "output_type": "execute_result"
    }
   ],
   "source": [
    "df.drop(columns=spv.columnas_sobrantes, inplace=True)\n",
    "df.sample()"
   ]
  },
  {
   "cell_type": "code",
   "execution_count": 13,
   "metadata": {},
   "outputs": [],
   "source": [
    "# reordenamos las columnas\n",
    "df = df.reindex(columns = ['age', 'gender', 'q3', 'q4', 'q6', 'q7', 'q8', 'q9', 'q10', 'q14', 'q20', 'q21', 'q22', 'q24', 'q34', 'q35', 'q39', 'q41'])"
   ]
  },
  {
   "cell_type": "code",
   "execution_count": 14,
   "metadata": {},
   "outputs": [
    {
     "data": {
      "text/html": [
       "<div>\n",
       "<style scoped>\n",
       "    .dataframe tbody tr th:only-of-type {\n",
       "        vertical-align: middle;\n",
       "    }\n",
       "\n",
       "    .dataframe tbody tr th {\n",
       "        vertical-align: top;\n",
       "    }\n",
       "\n",
       "    .dataframe thead th {\n",
       "        text-align: right;\n",
       "    }\n",
       "</style>\n",
       "<table border=\"1\" class=\"dataframe\">\n",
       "  <thead>\n",
       "    <tr style=\"text-align: right;\">\n",
       "      <th></th>\n",
       "      <th>0</th>\n",
       "      <th>1</th>\n",
       "      <th>2</th>\n",
       "      <th>3</th>\n",
       "      <th>4</th>\n",
       "      <th>5</th>\n",
       "      <th>6</th>\n",
       "      <th>7</th>\n",
       "      <th>8</th>\n",
       "      <th>9</th>\n",
       "      <th>10</th>\n",
       "      <th>11</th>\n",
       "      <th>12</th>\n",
       "      <th>13</th>\n",
       "      <th>14</th>\n",
       "      <th>15</th>\n",
       "      <th>16</th>\n",
       "      <th>17</th>\n",
       "    </tr>\n",
       "  </thead>\n",
       "  <tbody>\n",
       "    <tr>\n",
       "      <th>index</th>\n",
       "      <td>age</td>\n",
       "      <td>gender</td>\n",
       "      <td>q3</td>\n",
       "      <td>q4</td>\n",
       "      <td>q6</td>\n",
       "      <td>q7</td>\n",
       "      <td>q8</td>\n",
       "      <td>q9</td>\n",
       "      <td>q10</td>\n",
       "      <td>q14</td>\n",
       "      <td>q20</td>\n",
       "      <td>q21</td>\n",
       "      <td>q22</td>\n",
       "      <td>q24</td>\n",
       "      <td>q34</td>\n",
       "      <td>q35</td>\n",
       "      <td>q39</td>\n",
       "      <td>q41</td>\n",
       "    </tr>\n",
       "    <tr>\n",
       "      <th>0</th>\n",
       "      <td>0</td>\n",
       "      <td>0</td>\n",
       "      <td>0</td>\n",
       "      <td>0</td>\n",
       "      <td>0</td>\n",
       "      <td>143</td>\n",
       "      <td>144</td>\n",
       "      <td>146</td>\n",
       "      <td>0</td>\n",
       "      <td>193</td>\n",
       "      <td>114</td>\n",
       "      <td>130</td>\n",
       "      <td>150</td>\n",
       "      <td>227</td>\n",
       "      <td>1069</td>\n",
       "      <td>1858</td>\n",
       "      <td>0</td>\n",
       "      <td>533</td>\n",
       "    </tr>\n",
       "  </tbody>\n",
       "</table>\n",
       "</div>"
      ],
      "text/plain": [
       "        0       1   2   3   4    5    6    7    8    9    10   11   12   13  \\\n",
       "index  age  gender  q3  q4  q6   q7   q8   q9  q10  q14  q20  q21  q22  q24   \n",
       "0        0       0   0   0   0  143  144  146    0  193  114  130  150  227   \n",
       "\n",
       "         14    15   16   17  \n",
       "index   q34   q35  q39  q41  \n",
       "0      1069  1858    0  533  "
      ]
     },
     "execution_count": 14,
     "metadata": {},
     "output_type": "execute_result"
    }
   ],
   "source": [
    "df.isnull().sum().reset_index().T"
   ]
  },
  {
   "cell_type": "code",
   "execution_count": 15,
   "metadata": {},
   "outputs": [
    {
     "data": {
      "text/html": [
       "<div>\n",
       "<style scoped>\n",
       "    .dataframe tbody tr th:only-of-type {\n",
       "        vertical-align: middle;\n",
       "    }\n",
       "\n",
       "    .dataframe tbody tr th {\n",
       "        vertical-align: top;\n",
       "    }\n",
       "\n",
       "    .dataframe thead th {\n",
       "        text-align: right;\n",
       "    }\n",
       "</style>\n",
       "<table border=\"1\" class=\"dataframe\">\n",
       "  <thead>\n",
       "    <tr style=\"text-align: right;\">\n",
       "      <th></th>\n",
       "      <th>age</th>\n",
       "      <th>gender</th>\n",
       "      <th>q3</th>\n",
       "      <th>q4</th>\n",
       "      <th>q6</th>\n",
       "      <th>q7</th>\n",
       "      <th>q8</th>\n",
       "      <th>q9</th>\n",
       "      <th>q10</th>\n",
       "      <th>q14</th>\n",
       "      <th>q20</th>\n",
       "      <th>q21</th>\n",
       "      <th>q22</th>\n",
       "      <th>q24</th>\n",
       "      <th>q34</th>\n",
       "      <th>q35</th>\n",
       "      <th>q39</th>\n",
       "      <th>q41</th>\n",
       "    </tr>\n",
       "  </thead>\n",
       "  <tbody>\n",
       "    <tr>\n",
       "      <th>1448</th>\n",
       "      <td>35-39</td>\n",
       "      <td>Man</td>\n",
       "      <td>Portugal</td>\n",
       "      <td>Bachelor’s degree</td>\n",
       "      <td>I have never written code</td>\n",
       "      <td>NaN</td>\n",
       "      <td>NaN</td>\n",
       "      <td>NaN</td>\n",
       "      <td></td>\n",
       "      <td>NaN</td>\n",
       "      <td>Accounting/Finance</td>\n",
       "      <td>0-49 employees</td>\n",
       "      <td>0</td>\n",
       "      <td>Analyze and understand data to influence produ...</td>\n",
       "      <td>NaN</td>\n",
       "      <td>NaN</td>\n",
       "      <td></td>\n",
       "      <td>NaN</td>\n",
       "    </tr>\n",
       "    <tr>\n",
       "      <th>1978</th>\n",
       "      <td>25-29</td>\n",
       "      <td>Man</td>\n",
       "      <td>Kenya</td>\n",
       "      <td>Bachelor’s degree</td>\n",
       "      <td>3-5 years</td>\n",
       "      <td>Python</td>\n",
       "      <td>Python</td>\n",
       "      <td>Jupyter (JupyterLab, Jupyter Notebooks, etc) ,...</td>\n",
       "      <td>Kaggle Notebooks</td>\n",
       "      <td>NaN</td>\n",
       "      <td>NaN</td>\n",
       "      <td>NaN</td>\n",
       "      <td>NaN</td>\n",
       "      <td>NaN</td>\n",
       "      <td>NaN</td>\n",
       "      <td>NaN</td>\n",
       "      <td></td>\n",
       "      <td>NaN</td>\n",
       "    </tr>\n",
       "    <tr>\n",
       "      <th>1739</th>\n",
       "      <td>30-34</td>\n",
       "      <td>Woman</td>\n",
       "      <td>India</td>\n",
       "      <td>Professional doctorate</td>\n",
       "      <td>5-10 years</td>\n",
       "      <td>Python, R, SQL</td>\n",
       "      <td>Python</td>\n",
       "      <td>RStudio ,Visual Studio , Spyder,Jupyter Notebook</td>\n",
       "      <td>None</td>\n",
       "      <td>None</td>\n",
       "      <td>Other</td>\n",
       "      <td>50-249 employees</td>\n",
       "      <td>20+</td>\n",
       "      <td>Analyze and understand data to influence produ...</td>\n",
       "      <td>None</td>\n",
       "      <td>NaN</td>\n",
       "      <td>I do not share my work publicly</td>\n",
       "      <td>Basic statistical software (Microsoft Excel, G...</td>\n",
       "    </tr>\n",
       "  </tbody>\n",
       "</table>\n",
       "</div>"
      ],
      "text/plain": [
       "        age gender        q3                      q4  \\\n",
       "1448  35-39    Man  Portugal       Bachelor’s degree   \n",
       "1978  25-29    Man     Kenya       Bachelor’s degree   \n",
       "1739  30-34  Woman     India  Professional doctorate   \n",
       "\n",
       "                             q6              q7      q8  \\\n",
       "1448  I have never written code             NaN     NaN   \n",
       "1978                  3-5 years          Python  Python   \n",
       "1739                 5-10 years  Python, R, SQL  Python   \n",
       "\n",
       "                                                     q9               q10  \\\n",
       "1448                                                NaN                     \n",
       "1978  Jupyter (JupyterLab, Jupyter Notebooks, etc) ,...  Kaggle Notebooks   \n",
       "1739   RStudio ,Visual Studio , Spyder,Jupyter Notebook              None   \n",
       "\n",
       "        q14                 q20               q21  q22  \\\n",
       "1448    NaN  Accounting/Finance    0-49 employees    0   \n",
       "1978    NaN                 NaN               NaN  NaN   \n",
       "1739   None               Other  50-249 employees  20+   \n",
       "\n",
       "                                                    q24    q34  q35  \\\n",
       "1448  Analyze and understand data to influence produ...    NaN  NaN   \n",
       "1978                                                NaN    NaN  NaN   \n",
       "1739  Analyze and understand data to influence produ...   None  NaN   \n",
       "\n",
       "                                  q39  \\\n",
       "1448                                    \n",
       "1978                                    \n",
       "1739  I do not share my work publicly   \n",
       "\n",
       "                                                    q41  \n",
       "1448                                                NaN  \n",
       "1978                                                NaN  \n",
       "1739  Basic statistical software (Microsoft Excel, G...  "
      ]
     },
     "execution_count": 15,
     "metadata": {},
     "output_type": "execute_result"
    }
   ],
   "source": [
    "df.sample(3)"
   ]
  },
  {
   "cell_type": "code",
   "execution_count": 16,
   "metadata": {},
   "outputs": [
    {
     "data": {
      "text/plain": [
       "'Analyze and understand data to influence product or business decisions, Build and/or run the data infrastructure that my business uses for storing, analyzing, and operationalizing data, Build prototypes to explore applying machine learning to new areas, Build and/or run a machine learning service that operationally improves my product or workflows'"
      ]
     },
     "execution_count": 16,
     "metadata": {},
     "output_type": "execute_result"
    }
   ],
   "source": [
    "df['q24'][3]"
   ]
  },
  {
   "cell_type": "code",
   "execution_count": 17,
   "metadata": {},
   "outputs": [
    {
     "data": {
      "text/plain": [
       "nan"
      ]
     },
     "execution_count": 17,
     "metadata": {},
     "output_type": "execute_result"
    }
   ],
   "source": [
    "df['q41'][18]"
   ]
  },
  {
   "cell_type": "code",
   "execution_count": 18,
   "metadata": {},
   "outputs": [],
   "source": [
    "dict_keys = list(spv.dict_changes.keys())"
   ]
  },
  {
   "cell_type": "code",
   "execution_count": 19,
   "metadata": {},
   "outputs": [],
   "source": [
    "def limpiar_columna(row):\n",
    "    if row in dict_keys:\n",
    "        return row.replace(spv.dict_changes, inplace = True)\n",
    "    else:\n",
    "        return row"
   ]
  },
  {
   "cell_type": "code",
   "execution_count": 20,
   "metadata": {},
   "outputs": [],
   "source": [
    "hue_cols = []\n",
    "for col in df.columns:\n",
    "    if col not in spv.columnas_unidas:\n",
    "        hue_cols.append(col)\n",
    "    else:\n",
    "        pass"
   ]
  },
  {
   "cell_type": "code",
   "execution_count": 21,
   "metadata": {},
   "outputs": [],
   "source": [
    "for col in spv.columnas_unidas:\n",
    "    df[col] = df[col].apply(limpiar_columna)"
   ]
  },
  {
   "cell_type": "code",
   "execution_count": 22,
   "metadata": {},
   "outputs": [
    {
     "data": {
      "text/html": [
       "<div>\n",
       "<style scoped>\n",
       "    .dataframe tbody tr th:only-of-type {\n",
       "        vertical-align: middle;\n",
       "    }\n",
       "\n",
       "    .dataframe tbody tr th {\n",
       "        vertical-align: top;\n",
       "    }\n",
       "\n",
       "    .dataframe thead th {\n",
       "        text-align: right;\n",
       "    }\n",
       "</style>\n",
       "<table border=\"1\" class=\"dataframe\">\n",
       "  <thead>\n",
       "    <tr style=\"text-align: right;\">\n",
       "      <th></th>\n",
       "      <th>age</th>\n",
       "      <th>gender</th>\n",
       "      <th>q3</th>\n",
       "      <th>q4</th>\n",
       "      <th>q6</th>\n",
       "      <th>q7</th>\n",
       "      <th>q8</th>\n",
       "      <th>q9</th>\n",
       "      <th>q10</th>\n",
       "      <th>q14</th>\n",
       "      <th>q20</th>\n",
       "      <th>q21</th>\n",
       "      <th>q22</th>\n",
       "      <th>q24</th>\n",
       "      <th>q34</th>\n",
       "      <th>q35</th>\n",
       "      <th>q39</th>\n",
       "      <th>q41</th>\n",
       "    </tr>\n",
       "  </thead>\n",
       "  <tbody>\n",
       "    <tr>\n",
       "      <th>1802</th>\n",
       "      <td>30-34</td>\n",
       "      <td>Man</td>\n",
       "      <td>South Korea</td>\n",
       "      <td>Bachelor’s degree</td>\n",
       "      <td>&lt; 1 years</td>\n",
       "      <td>Python</td>\n",
       "      <td>Python</td>\n",
       "      <td>Visual Studio Code (VSCode) ,PyCharm ,Jupyter ...</td>\n",
       "      <td>None</td>\n",
       "      <td>Matplotlib ,Seaborn</td>\n",
       "      <td>Online Service/Internet-based Services</td>\n",
       "      <td>0-49 employees</td>\n",
       "      <td>0</td>\n",
       "      <td>Analyze and understand data to influence produ...</td>\n",
       "      <td>None</td>\n",
       "      <td>NaN</td>\n",
       "      <td>GitHub,Kaggle</td>\n",
       "      <td>Local development environments (RStudio, Jupyt...</td>\n",
       "    </tr>\n",
       "    <tr>\n",
       "      <th>1704</th>\n",
       "      <td>45-49</td>\n",
       "      <td>Woman</td>\n",
       "      <td>Spain</td>\n",
       "      <td>Some college/university study without earning ...</td>\n",
       "      <td>1-3 years</td>\n",
       "      <td>SQL, Java, Javascript</td>\n",
       "      <td>R</td>\n",
       "      <td>Visual Studio , Notepad++</td>\n",
       "      <td>None</td>\n",
       "      <td>None</td>\n",
       "      <td>Computers/Technology</td>\n",
       "      <td>10,000 or more employees</td>\n",
       "      <td>20+</td>\n",
       "      <td>Analyze and understand data to influence produ...</td>\n",
       "      <td>Microsoft Power BI</td>\n",
       "      <td>NaN</td>\n",
       "      <td>I do not share my work publicly</td>\n",
       "      <td>Business intelligence software (Salesforce, Ta...</td>\n",
       "    </tr>\n",
       "  </tbody>\n",
       "</table>\n",
       "</div>"
      ],
      "text/plain": [
       "        age gender           q3  \\\n",
       "1802  30-34    Man  South Korea   \n",
       "1704  45-49  Woman        Spain   \n",
       "\n",
       "                                                     q4         q6  \\\n",
       "1802                                  Bachelor’s degree  < 1 years   \n",
       "1704  Some college/university study without earning ...  1-3 years   \n",
       "\n",
       "                          q7      q8  \\\n",
       "1802                  Python  Python   \n",
       "1704   SQL, Java, Javascript       R   \n",
       "\n",
       "                                                     q9   q10  \\\n",
       "1802  Visual Studio Code (VSCode) ,PyCharm ,Jupyter ...  None   \n",
       "1704                          Visual Studio , Notepad++  None   \n",
       "\n",
       "                        q14                                     q20  \\\n",
       "1802   Matplotlib ,Seaborn   Online Service/Internet-based Services   \n",
       "1704                   None                    Computers/Technology   \n",
       "\n",
       "                           q21  q22  \\\n",
       "1802            0-49 employees    0   \n",
       "1704  10,000 or more employees  20+   \n",
       "\n",
       "                                                    q24                  q34  \\\n",
       "1802  Analyze and understand data to influence produ...                 None   \n",
       "1704  Analyze and understand data to influence produ...   Microsoft Power BI   \n",
       "\n",
       "      q35                              q39  \\\n",
       "1802  NaN                    GitHub,Kaggle   \n",
       "1704  NaN  I do not share my work publicly   \n",
       "\n",
       "                                                    q41  \n",
       "1802  Local development environments (RStudio, Jupyt...  \n",
       "1704  Business intelligence software (Salesforce, Ta...  "
      ]
     },
     "execution_count": 22,
     "metadata": {},
     "output_type": "execute_result"
    }
   ],
   "source": [
    "df.sample(2)"
   ]
  },
  {
   "cell_type": "code",
   "execution_count": 23,
   "metadata": {},
   "outputs": [],
   "source": [
    "for col in spv.columnas_unidas:\n",
    "    df[col] = df[col].str.split(',')"
   ]
  },
  {
   "cell_type": "code",
   "execution_count": 24,
   "metadata": {},
   "outputs": [
    {
     "data": {
      "text/html": [
       "<div>\n",
       "<style scoped>\n",
       "    .dataframe tbody tr th:only-of-type {\n",
       "        vertical-align: middle;\n",
       "    }\n",
       "\n",
       "    .dataframe tbody tr th {\n",
       "        vertical-align: top;\n",
       "    }\n",
       "\n",
       "    .dataframe thead th {\n",
       "        text-align: right;\n",
       "    }\n",
       "</style>\n",
       "<table border=\"1\" class=\"dataframe\">\n",
       "  <thead>\n",
       "    <tr style=\"text-align: right;\">\n",
       "      <th></th>\n",
       "      <th>0</th>\n",
       "      <th>1</th>\n",
       "      <th>2</th>\n",
       "      <th>3</th>\n",
       "      <th>4</th>\n",
       "      <th>5</th>\n",
       "      <th>6</th>\n",
       "      <th>7</th>\n",
       "      <th>8</th>\n",
       "      <th>9</th>\n",
       "      <th>10</th>\n",
       "      <th>11</th>\n",
       "      <th>12</th>\n",
       "      <th>13</th>\n",
       "      <th>14</th>\n",
       "      <th>15</th>\n",
       "      <th>16</th>\n",
       "      <th>17</th>\n",
       "    </tr>\n",
       "  </thead>\n",
       "  <tbody>\n",
       "    <tr>\n",
       "      <th>index</th>\n",
       "      <td>age</td>\n",
       "      <td>gender</td>\n",
       "      <td>q3</td>\n",
       "      <td>q4</td>\n",
       "      <td>q6</td>\n",
       "      <td>q7</td>\n",
       "      <td>q8</td>\n",
       "      <td>q9</td>\n",
       "      <td>q10</td>\n",
       "      <td>q14</td>\n",
       "      <td>q20</td>\n",
       "      <td>q21</td>\n",
       "      <td>q22</td>\n",
       "      <td>q24</td>\n",
       "      <td>q34</td>\n",
       "      <td>q35</td>\n",
       "      <td>q39</td>\n",
       "      <td>q41</td>\n",
       "    </tr>\n",
       "    <tr>\n",
       "      <th>0</th>\n",
       "      <td>0</td>\n",
       "      <td>0</td>\n",
       "      <td>0</td>\n",
       "      <td>0</td>\n",
       "      <td>0</td>\n",
       "      <td>143</td>\n",
       "      <td>144</td>\n",
       "      <td>146</td>\n",
       "      <td>0</td>\n",
       "      <td>193</td>\n",
       "      <td>114</td>\n",
       "      <td>130</td>\n",
       "      <td>150</td>\n",
       "      <td>227</td>\n",
       "      <td>1069</td>\n",
       "      <td>1858</td>\n",
       "      <td>0</td>\n",
       "      <td>533</td>\n",
       "    </tr>\n",
       "  </tbody>\n",
       "</table>\n",
       "</div>"
      ],
      "text/plain": [
       "        0       1   2   3   4    5    6    7    8    9    10   11   12   13  \\\n",
       "index  age  gender  q3  q4  q6   q7   q8   q9  q10  q14  q20  q21  q22  q24   \n",
       "0        0       0   0   0   0  143  144  146    0  193  114  130  150  227   \n",
       "\n",
       "         14    15   16   17  \n",
       "index   q34   q35  q39  q41  \n",
       "0      1069  1858    0  533  "
      ]
     },
     "execution_count": 24,
     "metadata": {},
     "output_type": "execute_result"
    }
   ],
   "source": [
    "df.isnull().sum().reset_index().T"
   ]
  },
  {
   "cell_type": "code",
   "execution_count": 25,
   "metadata": {},
   "outputs": [],
   "source": [
    "df.to_csv('../resultados/df_da_relevante_limpio.csv')"
   ]
  },
  {
   "cell_type": "code",
   "execution_count": 26,
   "metadata": {},
   "outputs": [
    {
     "data": {
      "text/plain": [
       "Index(['age', 'gender', 'q3', 'q4', 'q6', 'q7', 'q8', 'q9', 'q10', 'q14',\n",
       "       'q20', 'q21', 'q22', 'q24', 'q34', 'q35', 'q39', 'q41'],\n",
       "      dtype='object')"
      ]
     },
     "execution_count": 26,
     "metadata": {},
     "output_type": "execute_result"
    }
   ],
   "source": [
    "df.columns"
   ]
  },
  {
   "cell_type": "code",
   "execution_count": 27,
   "metadata": {},
   "outputs": [
    {
     "data": {
      "text/plain": [
       "['q7', 'q9', 'q10', 'q14', 'q20', 'q24', 'q39', 'q41']"
      ]
     },
     "execution_count": 27,
     "metadata": {},
     "output_type": "execute_result"
    }
   ],
   "source": [
    "spv.columnas_unidas"
   ]
  },
  {
   "cell_type": "code",
   "execution_count": 28,
   "metadata": {},
   "outputs": [
    {
     "data": {
      "text/plain": [
       "['age', 'gender', 'q3', 'q4', 'q6', 'q8', 'q21', 'q22', 'q34', 'q35']"
      ]
     },
     "execution_count": 28,
     "metadata": {},
     "output_type": "execute_result"
    }
   ],
   "source": [
    "hue_cols"
   ]
  },
  {
   "cell_type": "code",
   "execution_count": 29,
   "metadata": {},
   "outputs": [],
   "source": [
    "df['q9'] = df['q9'].apply(limpiar_columna)"
   ]
  },
  {
   "cell_type": "code",
   "execution_count": 30,
   "metadata": {},
   "outputs": [
    {
     "data": {
      "text/plain": [
       "0       [Analyze and understand data to influence prod...\n",
       "1                                                     NaN\n",
       "2       [Analyze and understand data to influence prod...\n",
       "3       [Analyze and understand data to influence prod...\n",
       "4       [Analyze and understand data to influence prod...\n",
       "                              ...                        \n",
       "2296    [Analyze and understand data to influence prod...\n",
       "2297    [Analyze and understand data to influence prod...\n",
       "2298                                                  NaN\n",
       "2299    [ Experimentation and iteration to improve exi...\n",
       "2300    [Analyze and understand data to influence prod...\n",
       "Name: q24, Length: 2301, dtype: object"
      ]
     },
     "execution_count": 30,
     "metadata": {},
     "output_type": "execute_result"
    }
   ],
   "source": [
    "df['q24']"
   ]
  },
  {
   "cell_type": "code",
   "execution_count": null,
   "metadata": {},
   "outputs": [],
   "source": []
  },
  {
   "cell_type": "code",
   "execution_count": 31,
   "metadata": {},
   "outputs": [],
   "source": [
    "df_q7 = df[['age', 'gender', 'q3', 'q4', 'q6', 'q7', 'q8', 'q21', 'q22', 'q34', 'q35']]\n",
    "df_q9 = df[['age', 'gender', 'q3', 'q4', 'q6', 'q8', 'q9', 'q21', 'q22', 'q34', 'q35']]\n",
    "df_q10 = df[['age', 'gender', 'q3', 'q4', 'q6', 'q8', 'q10', 'q21', 'q22', 'q34', 'q35']]\n",
    "df_q14 = df[['age', 'gender', 'q3', 'q4', 'q6', 'q8', 'q14', 'q21', 'q22', 'q34', 'q35']]\n",
    "df_q20 = df[['age', 'gender', 'q3', 'q4', 'q6', 'q8', 'q20', 'q21', 'q22', 'q34', 'q35']]\n",
    "df_q24 = df[['age', 'gender', 'q3', 'q4', 'q6', 'q8', 'q21', 'q22', 'q24', 'q34', 'q35']]\n",
    "df_q39 = df[['age', 'gender', 'q3', 'q4', 'q6', 'q8', 'q21', 'q22', 'q34', 'q35', 'q39']]\n",
    "df_q41 = df[['age', 'gender', 'q3', 'q4', 'q6', 'q8', 'q21', 'q22', 'q34', 'q35', 'q41']]"
   ]
  },
  {
   "cell_type": "code",
   "execution_count": 32,
   "metadata": {},
   "outputs": [],
   "source": [
    "df_q7 = df.explode('q7')\n",
    "df_q9 = df.explode('q9')\n",
    "df_q10 = df.explode('q10')\n",
    "df_q14 = df.explode('q14')\n",
    "df_q20 = df.explode('q20')\n",
    "df_q24 = df.explode('q24')\n",
    "df_q39 = df.explode('q39')\n",
    "df_q41 = df.explode('q41')"
   ]
  },
  {
   "cell_type": "code",
   "execution_count": 33,
   "metadata": {},
   "outputs": [
    {
     "data": {
      "text/plain": [
       "<Axes: xlabel='count', ylabel='q7'>"
      ]
     },
     "execution_count": 33,
     "metadata": {},
     "output_type": "execute_result"
    },
    {
     "data": {
      "image/png": "[encoded data removed]",
      "text/plain": [
       "<Figure size 1000x1000 with 1 Axes>"
      ]
     },
     "metadata": {},
     "output_type": "display_data"
    }
   ],
   "source": [
    "plt.figure(figsize = (10,10))\n",
    "sns.countplot(y = 'q7', data = df_q7)"
   ]
  },
  {
   "cell_type": "code",
   "execution_count": 34,
   "metadata": {},
   "outputs": [
    {
     "data": {
      "text/plain": [
       "<Axes: xlabel='count', ylabel='q9'>"
      ]
     },
     "execution_count": 34,
     "metadata": {},
     "output_type": "execute_result"
    },
    {
     "data": {
      "image/png": "[encoded data removed]",
      "text/plain": [
       "<Figure size 1000x1000 with 1 Axes>"
      ]
     },
     "metadata": {},
     "output_type": "display_data"
    }
   ],
   "source": [
    "plt.figure(figsize = (10,10))\n",
    "sns.countplot(y = 'q9', data = df_q9)"
   ]
  },
  {
   "cell_type": "code",
   "execution_count": 35,
   "metadata": {},
   "outputs": [
    {
     "data": {
      "text/plain": [
       "<Axes: xlabel='count', ylabel='q24'>"
      ]
     },
     "execution_count": 35,
     "metadata": {},
     "output_type": "execute_result"
    },
    {
     "data": {
      "image/png": "[encoded data removed]",
      "text/plain": [
       "<Figure size 1000x1000 with 1 Axes>"
      ]
     },
     "metadata": {},
     "output_type": "display_data"
    }
   ],
   "source": [
    "plt.figure(figsize = (10,10))\n",
    "sns.countplot(y = 'q24', data = df_q24)"
   ]
  },
  {
   "cell_type": "code",
   "execution_count": 36,
   "metadata": {},
   "outputs": [
    {
     "data": {
      "text/plain": [
       "<Axes: xlabel='count', ylabel='q39'>"
      ]
     },
     "execution_count": 36,
     "metadata": {},
     "output_type": "execute_result"
    },
    {
     "data": {
      "image/png": "[encoded data removed]",
      "text/plain": [
       "<Figure size 1000x1000 with 1 Axes>"
      ]
     },
     "metadata": {},
     "output_type": "display_data"
    }
   ],
   "source": [
    "plt.figure(figsize = (10,10))\n",
    "sns.countplot(y = 'q39', data = df_q39)"
   ]
  },
  {
   "cell_type": "code",
   "execution_count": 37,
   "metadata": {},
   "outputs": [
    {
     "data": {
      "text/plain": [
       "<Axes: xlabel='count', ylabel='q41'>"
      ]
     },
     "execution_count": 37,
     "metadata": {},
     "output_type": "execute_result"
    },
    {
     "data": {
      "image/png": "[encoded data removed]",
      "text/plain": [
       "<Figure size 1000x1000 with 1 Axes>"
      ]
     },
     "metadata": {},
     "output_type": "display_data"
    }
   ],
   "source": [
    "plt.figure(figsize = (10,10))\n",
    "sns.countplot(y = 'q41', data = df_q41)"
   ]
  },
  {
   "cell_type": "code",
   "execution_count": 38,
   "metadata": {},
   "outputs": [
    {
     "data": {
      "text/plain": [
       "<Axes: xlabel='count', ylabel='q9'>"
      ]
     },
     "execution_count": 38,
     "metadata": {},
     "output_type": "execute_result"
    },
    {
     "data": {
      "image/png": "[encoded data removed]",
      "text/plain": [
       "<Figure size 1000x1000 with 1 Axes>"
      ]
     },
     "metadata": {},
     "output_type": "display_data"
    }
   ],
   "source": [
    "plt.figure(figsize = (10,10))\n",
    "sns.countplot(y = 'q9', data = df_q9)"
   ]
  },
  {
   "cell_type": "code",
   "execution_count": 39,
   "metadata": {},
   "outputs": [
    {
     "data": {
      "text/plain": [
       "<Axes: xlabel='count', ylabel='q14'>"
      ]
     },
     "execution_count": 39,
     "metadata": {},
     "output_type": "execute_result"
    },
    {
     "data": {
      "image/png": "[encoded data removed]",
      "text/plain": [
       "<Figure size 1500x1500 with 1 Axes>"
      ]
     },
     "metadata": {},
     "output_type": "display_data"
    }
   ],
   "source": [
    "plt.figure(figsize = (15,15))\n",
    "sns.countplot(y = 'q14', data = df_q14)"
   ]
  },
  {
   "cell_type": "code",
   "execution_count": 40,
   "metadata": {},
   "outputs": [
    {
     "ename": "NameError",
     "evalue": "name 'lista_qs_exp' is not defined",
     "output_type": "error",
     "traceback": [
      "\u001b[0;31m---------------------------------------------------------------------------\u001b[0m",
      "\u001b[0;31mNameError\u001b[0m                                 Traceback (most recent call last)",
      "Cell \u001b[0;32mIn[40], line 1\u001b[0m\n\u001b[0;32m----> 1\u001b[0m df_explode \u001b[39m=\u001b[39m df[lista_qs_exp]\n",
      "\u001b[0;31mNameError\u001b[0m: name 'lista_qs_exp' is not defined"
     ]
    }
   ],
   "source": [
    "df_explode = df[lista_qs_exp]"
   ]
  },
  {
   "cell_type": "code",
   "execution_count": null,
   "metadata": {},
   "outputs": [],
   "source": [
    "df_explode.head()"
   ]
  },
  {
   "cell_type": "code",
   "execution_count": null,
   "metadata": {},
   "outputs": [],
   "source": [
    "df_explode.sample(5)"
   ]
  },
  {
   "cell_type": "code",
   "execution_count": null,
   "metadata": {},
   "outputs": [],
   "source": [
    "# df[\"q7\"] = df[\"q7\"].str.split(',')"
   ]
  },
  {
   "cell_type": "code",
   "execution_count": null,
   "metadata": {},
   "outputs": [],
   "source": [
    "df.sample(3)"
   ]
  },
  {
   "cell_type": "code",
   "execution_count": null,
   "metadata": {},
   "outputs": [],
   "source": [
    "# df[\"q7\"].drop_duplicates(inplace=True)\n",
    "# df[\"q7\"] = df[\"q7\"].explode()"
   ]
  },
  {
   "cell_type": "code",
   "execution_count": null,
   "metadata": {},
   "outputs": [],
   "source": [
    "# for q in lista_qs_exp:\n",
    "#     df[q] = df[q].str.split(',')\n",
    "#     df[q] = df[q].explode(q)\n"
   ]
  },
  {
   "cell_type": "code",
   "execution_count": null,
   "metadata": {},
   "outputs": [],
   "source": [
    "# Dividimos las respuestas de la pregunta q7 por la ','\n",
    "# for con in \n",
    "# df[\"q7\"] = df[\"q7\"].str.split(\",\")\n",
    "# df_q7 = df_ana2.explode(\"q7\")\n",
    "# sns.countplot(x = \"q7\", data = df_q7, hue = \"q6\")"
   ]
  },
  {
   "cell_type": "code",
   "execution_count": null,
   "metadata": {},
   "outputs": [],
   "source": [
    "df.isnull().sum()/df.shape[0]"
   ]
  },
  {
   "cell_type": "code",
   "execution_count": null,
   "metadata": {},
   "outputs": [],
   "source": [
    "# #probamos rename\n",
    "# def renombrar_columnas(dataframe,inicio,final,num_q):\n",
    "#     nom_col = {}\n",
    "#     for col in dataframe.columns[inicio : final+1]:\n",
    "#         try: \n",
    "#             for i in dataframe[col].unique():\n",
    "#                 i = str(i) \n",
    "#                 if i != 'nan':\n",
    "#                     i = i.strip().replace(' ', '_')\n",
    "#                     nom_col[col] = f'q{num_q}_{i}'\n",
    "#                 else:\n",
    "#                     pass\n",
    "#         except:\n",
    "#             print('estoy en el except con la columna {col} , elemento {i}')\n",
    "            \n",
    "#     renombrado = dataframe.rename(columns = nom_col)\n",
    "    \n",
    "#     return renombrado"
   ]
  },
  {
   "cell_type": "code",
   "execution_count": null,
   "metadata": {},
   "outputs": [],
   "source": [
    "df = renombrar_columnas(df, 8, 24, 10)\n"
   ]
  },
  {
   "cell_type": "code",
   "execution_count": null,
   "metadata": {},
   "outputs": [],
   "source": [
    "df.sample(3)"
   ]
  },
  {
   "cell_type": "code",
   "execution_count": null,
   "metadata": {},
   "outputs": [],
   "source": [
    "df = renombrar_columnas(df, 28, 37, 39)"
   ]
  },
  {
   "cell_type": "code",
   "execution_count": null,
   "metadata": {},
   "outputs": [],
   "source": [
    "df.columns"
   ]
  },
  {
   "cell_type": "code",
   "execution_count": null,
   "metadata": {},
   "outputs": [],
   "source": [
    "df_ana = df.copy()\n",
    "df_ana.head(2)"
   ]
  },
  {
   "cell_type": "code",
   "execution_count": null,
   "metadata": {},
   "outputs": [],
   "source": [
    "df_ana.columns"
   ]
  },
  {
   "cell_type": "code",
   "execution_count": null,
   "metadata": {},
   "outputs": [],
   "source": [
    "df_ana2 = df_ana[['age', 'gender', 'q3', 'q4', 'q6', 'q7', 'q8', 'q9']]\n",
    "df_ana2.head(2)"
   ]
  },
  {
   "cell_type": "code",
   "execution_count": null,
   "metadata": {},
   "outputs": [],
   "source": [
    "df_ana2[\"q7\"] = df_ana2[\"q7\"].str.split(\",\")"
   ]
  },
  {
   "cell_type": "code",
   "execution_count": null,
   "metadata": {},
   "outputs": [],
   "source": [
    "df_ana2.head(2)"
   ]
  },
  {
   "cell_type": "code",
   "execution_count": null,
   "metadata": {},
   "outputs": [],
   "source": [
    "df_q7 = df_ana2.explode(\"q7\")\n",
    "df_q7.head()"
   ]
  },
  {
   "cell_type": "code",
   "execution_count": null,
   "metadata": {},
   "outputs": [],
   "source": [
    "sns.countplot(x = \"q7\", data = df_q7, hue = \"q6\")"
   ]
  },
  {
   "cell_type": "code",
   "execution_count": null,
   "metadata": {},
   "outputs": [],
   "source": [
    "#funcion para cambiar los nans\n",
    "def yes_no(dataframe, inicio, final):\n",
    "    for col in dataframe.columns[inicio:(final+1)]:\n",
    "        dataframe[col] = dataframe[col].apply(lambda data: np.where(type(data) != float, 'yes', 'no'))\n",
    "    return dataframe"
   ]
  },
  {
   "cell_type": "code",
   "execution_count": null,
   "metadata": {},
   "outputs": [],
   "source": [
    "df = yes_no(df, 8, 24)"
   ]
  },
  {
   "cell_type": "code",
   "execution_count": null,
   "metadata": {},
   "outputs": [],
   "source": [
    "df = yes_no(df, 28, 37)"
   ]
  },
  {
   "cell_type": "code",
   "execution_count": null,
   "metadata": {},
   "outputs": [],
   "source": [
    "df.sample(3)"
   ]
  },
  {
   "cell_type": "code",
   "execution_count": null,
   "metadata": {},
   "outputs": [],
   "source": [
    "df.isnull().sum().reset_index().T"
   ]
  },
  {
   "cell_type": "code",
   "execution_count": null,
   "metadata": {},
   "outputs": [],
   "source": [
    "q7_responses = ['Python', 'R', 'SQL', 'C', 'C++', 'Java', 'Javascript', 'Julia', 'Swift', 'Bash', 'MATLAB', 'None', 'Other']"
   ]
  },
  {
   "cell_type": "code",
   "execution_count": null,
   "metadata": {},
   "outputs": [],
   "source": [
    "# def sacar_herramienta(col):\n",
    "    \n",
    "#     try:\n",
    "#         if re.findall(patron, col):\n",
    "#             return 'yes'\n",
    "#         else:\n",
    "#             return 'no'\n",
    "#     except:\n",
    "#         return 'unknown'\n"
   ]
  },
  {
   "cell_type": "code",
   "execution_count": null,
   "metadata": {},
   "outputs": [],
   "source": [
    "def sacar_herramienta(col):\n",
    "    \n",
    "    try:\n",
    "        if re.findall(patron, col):\n",
    "            return 1\n",
    "        else:\n",
    "            return 0\n",
    "    except:\n",
    "        return np.nan"
   ]
  },
  {
   "cell_type": "code",
   "execution_count": null,
   "metadata": {},
   "outputs": [],
   "source": [
    "for patron in q7_responses:\n",
    "    df[f'q7_{patron}'] = df['q7'].apply(sacar_herramienta)\n",
    "\n",
    "df.drop(columns = 'q7', inplace = True)"
   ]
  },
  {
   "cell_type": "code",
   "execution_count": null,
   "metadata": {},
   "outputs": [],
   "source": [
    "df.head(2)"
   ]
  },
  {
   "cell_type": "code",
   "execution_count": null,
   "metadata": {},
   "outputs": [],
   "source": [
    "q9_responses = ['JupyterLab', 'RStudio', 'Visual Studio', 'Visual Studio Code (VSCode)', 'PyCharm', 'Spyder', 'Notepad++', 'Sublime Text', 'Vim, Emacs or similar', 'MATLAB', 'Jupyter Notebook', 'None', 'Other']"
   ]
  },
  {
   "cell_type": "code",
   "execution_count": null,
   "metadata": {},
   "outputs": [],
   "source": [
    "for patron in q9_responses:\n",
    "    df[f'q9_{patron}'] = df['q9'].apply(sacar_herramienta)\n",
    "df.drop(columns = 'q9', inplace = True)"
   ]
  },
  {
   "cell_type": "code",
   "execution_count": null,
   "metadata": {},
   "outputs": [],
   "source": [
    "q14_responses = ['Seaborn', 'Plotly / Plotly Express', 'Ggplot / ggplot2', 'Shiny', 'D3 js', 'Altair', 'Bokeh', 'Geoplotlib', 'Leaflet / Folium', 'None', 'Other']\n",
    "for patron in q14_responses:\n",
    "    df[f'q14_{patron}'] = df['q14'].apply(sacar_herramienta)\n",
    "\n",
    "df.drop(columns = 'q14', inplace = True)"
   ]
  },
  {
   "cell_type": "code",
   "execution_count": null,
   "metadata": {},
   "outputs": [],
   "source": [
    "q41_responses = ['Basic statistical software (Microsoft Excel, Google Sheets, etc.)', 'Advanced statistical software (SPSS, SAS, etc.)', \n",
    "                 'Business intelligence software (Salesforce, Tableau, Spotfire, etc.)', 'Local development environments (RStudio, JupyterLab, etc.)', \n",
    "                 'Cloud-based data software & APIs (AWS, GCP, Azure, etc.)', 'Other']\n",
    "for patron in q14_responses:\n",
    "    df[f'q41_{patron}'] = df['q41'].apply(sacar_herramienta)\n",
    "\n",
    "df.drop(columns = 'q41', inplace = True)"
   ]
  },
  {
   "cell_type": "code",
   "execution_count": null,
   "metadata": {},
   "outputs": [],
   "source": [
    "df.sample(3)"
   ]
  },
  {
   "cell_type": "code",
   "execution_count": null,
   "metadata": {},
   "outputs": [],
   "source": [
    "orden = ['age', 'gender', 'q3', 'q4', 'q6', 'q7_Python', 'q7_R', 'q7_SQL', 'q7_C', 'q7_C++', 'q7_Java', 'q7_Javascript', 'q7_Julia','q7_Swift', 'q7_Bash', 'q7_MATLAB', \n",
    "         'q7_None', 'q7_Other','q8', 'q9_JupyterLab', 'q9_RStudio', 'q9_Visual Studio','q9_Visual Studio Code (VSCode)', 'q9_PyCharm', 'q9_Spyder','q9_Notepad++', \n",
    "         'q9_Sublime Text', 'q9_Vim, Emacs or similar', 'q9_MATLAB', 'q9_Jupyter Notebook', 'q9_None', 'q9_Other','q10_Kaggle_Notebooks','q10_Colab_Notebooks', 'q10_Azure_Notebooks',\n",
    "         'q10_Paperspace_/_Gradient', 'q10_Binder_/_JupyterHub', 'q10_Code_Ocean', 'q10_IBM_Watson_Studio', 'q10_Amazon_Sagemaker_Studio_Notebooks', 'q10_Amazon_EMR_Notebooks',\n",
    "         'q10_Google_Cloud_Notebooks_(AI_Platform_/_Vertex_AI)', 'q10_Google_Cloud_Datalab', 'q10_Databricks_Collaborative_Notebooks', 'q10_Zeppelin_/_Zepl_Notebooks', 'q10_Deepnote_Notebooks',\n",
    "         'q10_Observable_Notebooks', 'q10_None', 'q10_Other', 'q14_Seaborn', 'q14_Plotly / Plotly Express', 'q14_Ggplot / ggplot2', 'q14_Shiny', 'q14_D3 js', 'q14_Altair', 'q14_Bokeh', \n",
    "         'q14_Geoplotlib','q14_Leaflet / Folium', 'q14_None', 'q14_Other','q34', 'q35', 'q39_Plotly_Dash', 'q39_Streamlit', 'q39_NBViewer', 'q39_GitHub', 'q39_Personal_blog', 'q39_Kaggle', \n",
    "         'q39_Colab', 'q39_Shiny', 'q39_I_do_not_share_my_work_publicly', 'q39_Other', 'q41_Seaborn', 'q41_Plotly / Plotly Express', 'q41_Ggplot / ggplot2', 'q41_Shiny', 'q41_D3 js', \n",
    "         'q41_Altair', 'q41_Bokeh', 'q41_Geoplotlib', 'q41_Leaflet / Folium', 'q41_None', 'q41_Other']"
   ]
  },
  {
   "cell_type": "code",
   "execution_count": null,
   "metadata": {},
   "outputs": [],
   "source": [
    "df = df.reindex(columns = orden)"
   ]
  },
  {
   "cell_type": "code",
   "execution_count": null,
   "metadata": {},
   "outputs": [],
   "source": [
    "df.sample()"
   ]
  },
  {
   "cell_type": "code",
   "execution_count": null,
   "metadata": {},
   "outputs": [],
   "source": [
    "df_q7 = df[df.columns[5:18]]"
   ]
  },
  {
   "cell_type": "code",
   "execution_count": null,
   "metadata": {},
   "outputs": [],
   "source": [
    "q7_count = df_q7.sum().reset_index()"
   ]
  },
  {
   "cell_type": "code",
   "execution_count": null,
   "metadata": {},
   "outputs": [],
   "source": [
    "q7_count.columns = ['herramienta', 'conteo']"
   ]
  },
  {
   "cell_type": "code",
   "execution_count": null,
   "metadata": {},
   "outputs": [],
   "source": [
    "q7_count"
   ]
  },
  {
   "cell_type": "code",
   "execution_count": null,
   "metadata": {},
   "outputs": [],
   "source": [
    "sns.barplot(y = 'herramienta', x= 'conteo', data = q7_count)"
   ]
  },
  {
   "cell_type": "code",
   "execution_count": null,
   "metadata": {},
   "outputs": [],
   "source": [
    "sns.barplot(y = 'herramienta', x = ,hue = 'gender', data = df)"
   ]
  },
  {
   "cell_type": "code",
   "execution_count": null,
   "metadata": {},
   "outputs": [],
   "source": [
    "for col in df.columns[5:18]:\n",
    "    print(f'{col}')\n",
    "    display(df[col].value_counts().reset_index())"
   ]
  },
  {
   "cell_type": "code",
   "execution_count": null,
   "metadata": {},
   "outputs": [],
   "source": []
  }
 ],
 "metadata": {
  "kernelspec": {
   "display_name": "base",
   "language": "python",
   "name": "python3"
  },
  "language_info": {
   "codemirror_mode": {
    "name": "ipython",
    "version": 3
   },
   "file_extension": ".py",
   "mimetype": "text/x-python",
   "name": "python",
   "nbconvert_exporter": "python",
   "pygments_lexer": "ipython3",
   "version": "3.10.9"
  },
  "orig_nbformat": 4
 },
 "nbformat": 4,
 "nbformat_minor": 2
}
